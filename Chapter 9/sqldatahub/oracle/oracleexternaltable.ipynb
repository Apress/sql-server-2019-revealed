{
    "metadata": {
        "kernelspec": {
            "name": "SQL",
            "display_name": "SQL",
            "language": "sql"
        },
        "language_info": {
            "name": "sql",
            "version": ""
        }
    },
    "nbformat_minor": 2,
    "nbformat": 4,
    "cells": [
        {
            "cell_type": "markdown",
            "source": [
                "# SQL Server 2019 Data Virtualization - Using Polybase to query Oracle\r\n",
                "This notebook contains an example of how to use external tables to query data in Oracle without moving data. You may need to change identity, secret, connection, database, schema, and remote table names to work with your Oracle Database.\r\n",
                "\r\n",
                "This notebook also assumes you are using SQL Server 2019 Release Candidate or later and that the Polybase feature has been installed and enabled.\r\n",
                "\r\n",
                "This notebook uses the sample WideWorldImporters sample database but can be used with any user database."
            ],
            "metadata": {}
        },
        {
            "cell_type": "markdown",
            "source": [
                "## Step 0: Create a database in Oracle, table, and add data\r\n",
                "\r\n",
                "This example uses an Oracle Express Instance which by default is called XE. Run run any of these SQL statements below as a script you can use this syntax with sqlplus64\r\n",
                "\r\n",
                "`sqlplus64 gl/glpwd@localhost:<port>/<instance> @<scriptname>.sql`\r\n",
                "\r\n",
                "Create a user called gl with the following SQL statement\r\n",
                "\r\n",
                "```sql\r\n",
                "CREATE USER gl IDENTIFIED BY <password> DEFAULT TABLESPACE users TEMPORARY TABLESPACE temp QUOTA UNLIMITED ON users;\r\n",
                "GRANT CREATE SESSION TO gl;\r\n",
                "GRANT CREATE TABLE TO gl;\r\n",
                "GRANT CREATE VIEW TO gl;\r\n",
                "GRANT CREATE ANY TRIGGER TO gl;\r\n",
                "GRANT CREATE ANY PROCEDURE TO gl;\r\n",
                "GRANT CREATE SEQUENCE TO gl;\r\n",
                "GRANT CREATE SYNONYM TO gl;\r\n",
                "```\r\n",
                "\r\n",
                "Create a table called accountsreceivable using the following SQL statement\r\n",
                "\r\n",
                "```sql\r\n",
                "CREATE TABLE gl.accountsreceivable (\r\n",
                "arid int primary key,\r\n",
                "ardate timestamp,\r\n",
                "ardesc varchar2(100),\r\n",
                "arref int,\r\n",
                "aramt number(10,2)\r\n",
                ");\r\n",
                "```\r\n",
                "\r\n",
                "Insert data using the following SQL statement\r\n",
                "\r\n",
                "```sql\r\n",
                "INSERT INTO gl.accountsreceivable VALUES (1, TO_DATE('05/31/2016', 'MM/DD/YYYY'), 'Invoice 70510', 336252, 5549.90);\r\n",
                "```"
            ],
            "metadata": {}
        },
        {
            "cell_type": "markdown",
            "source": [
                "## Step 1: Create a master key\r\n",
                "Create a master key to encrypt the database credential"
            ],
            "metadata": {}
        },
        {
            "cell_type": "code",
            "source": [
                "USE [WideWorldImporters]\r\n",
                "GO\r\n",
                "CREATE MASTER KEY ENCRYPTION BY PASSWORD = '<password>'\r\n",
                "GO"
            ],
            "metadata": {},
            "outputs": [
                {
                    "output_type": "display_data",
                    "data": {
                        "text/html": "Commands completed successfully."
                    },
                    "metadata": {}
                },
                {
                    "output_type": "display_data",
                    "data": {
                        "text/html": "Commands completed successfully."
                    },
                    "metadata": {}
                },
                {
                    "output_type": "display_data",
                    "data": {
                        "text/html": "Total execution time: 00:00:00.014"
                    },
                    "metadata": {}
                }
            ],
            "execution_count": 23
        },
        {
            "cell_type": "markdown",
            "source": [
                "## Step 2: Create a database credential.\r\n",
                "The database credential contains the IDENTITY (login) and SECRET (password) of Oracle instance. Change this to the login and password created in Step 0."
            ],
            "metadata": {}
        },
        {
            "cell_type": "code",
            "source": [
                "CREATE DATABASE SCOPED CREDENTIAL OracleCredentials   \r\n",
                "WITH IDENTITY = 'gl', SECRET = '<password>'\r\n",
                "GO"
            ],
            "metadata": {},
            "outputs": [
                {
                    "output_type": "display_data",
                    "data": {
                        "text/html": "Commands completed successfully."
                    },
                    "metadata": {}
                },
                {
                    "output_type": "display_data",
                    "data": {
                        "text/html": "Total execution time: 00:00:00.004"
                    },
                    "metadata": {}
                }
            ],
            "execution_count": 24
        },
        {
            "cell_type": "markdown",
            "source": [
                "## Step 3: Create an EXTERNAL DATA SOURCE\r\n",
                "The EXTERNAL DATA SOURCE indicates what type of data source, the connection \"string\", where PUSHDOWN predicates should be used (if possible), and the name of the database credential.\r\n",
                "\r\n",
                "The LOCATION syntax is <datasourcetype>:<connection string>.\r\n",
                "\r\n",
                "datasourcetype can be sqlserver, oracle, teradata, mongodb, or odbc (Windows only)\r\n",
                "The connection string depends on the datasourcetype\r\n",
                "\r\n",
                "For this example, put IP address or hostname of the Oracle instance and port number"
            ],
            "metadata": {}
        },
        {
            "cell_type": "code",
            "source": [
                "CREATE EXTERNAL DATA SOURCE OracleServer\r\n",
                "WITH ( \r\n",
                "LOCATION = 'oracle://<oracle host>:<port>',\r\n",
                "PUSHDOWN = ON,\r\n",
                "CREDENTIAL = OracleCredentials\r\n",
                ")\r\n",
                "GO"
            ],
            "metadata": {},
            "outputs": [
                {
                    "output_type": "display_data",
                    "data": {
                        "text/html": "Commands completed successfully."
                    },
                    "metadata": {}
                },
                {
                    "output_type": "display_data",
                    "data": {
                        "text/html": "Total execution time: 00:00:00.094"
                    },
                    "metadata": {}
                }
            ],
            "execution_count": 25
        },
        {
            "cell_type": "markdown",
            "source": [
                "## Step 4: Create a schema for the EXTERNAL TABLE\r\n",
                "Schemas provide convenient methods to secure and organize objects"
            ],
            "metadata": {}
        },
        {
            "cell_type": "code",
            "source": [
                "CREATE SCHEMA oracle\r\n",
                "GO"
            ],
            "metadata": {},
            "outputs": [
                {
                    "output_type": "display_data",
                    "data": {
                        "text/html": "Commands completed successfully."
                    },
                    "metadata": {}
                },
                {
                    "output_type": "display_data",
                    "data": {
                        "text/html": "Total execution time: 00:00:00.004"
                    },
                    "metadata": {}
                }
            ],
            "execution_count": 26
        },
        {
            "cell_type": "markdown",
            "source": [
                "## Step 5: Create an EXTERNAL TABLE\r\n",
                "An external table provides metadata so SQL Server knows how to map columns to the remote table. The name of the tables for the external table can be your choice. But the columns must be specified in the same order with the same name as they are defined in the remote table. Furthermore, local data types must be compatible with the remote table.\r\n",
                "\r\n",
                "The WITH clause specifies a LOCATION. This LOCATION is different than the EXTERNAL DATA SOURCE. For Oracle, this LOCATION indicates the [instance].[schema].[table] of the Oracle table. The DATA_SOURCE clauses is the name of the EXTERNAL DATA SOURCE you created earlier.\r\n",
                "\r\n",
                "For Oracle, the LOCATION needs to be UPPERCASE. The column names must match the target data source. The column names must be UPPERCASE for Oracle in the table definition but not when you reference them."
            ],
            "metadata": {}
        },
        {
            "cell_type": "code",
            "source": [
                "CREATE EXTERNAL TABLE oracle.accountsreceivable\r\n",
                "(\r\n",
                "ARID int,\r\n",
                "ARDATE Date,\r\n",
                "ARDESC nvarchar(100) COLLATE Latin1_General_100_BIN2_UTF8,\r\n",
                "ARREF int,\r\n",
                "ARAMT decimal(10,2)\r\n",
                ")\r\n",
                " WITH (\r\n",
                " LOCATION='[XE].[GL].[ACCOUNTSRECEIVABLE]',\r\n",
                " DATA_SOURCE=OracleServer\r\n",
                ")\r\n",
                "GO"
            ],
            "metadata": {},
            "outputs": [
                {
                    "output_type": "display_data",
                    "data": {
                        "text/html": "Commands completed successfully."
                    },
                    "metadata": {}
                },
                {
                    "output_type": "display_data",
                    "data": {
                        "text/html": "Total execution time: 00:00:00.275"
                    },
                    "metadata": {}
                }
            ],
            "execution_count": 27
        },
        {
            "cell_type": "markdown",
            "source": [
                "## Step 6: Create statistics\r\n",
                "SQL Server allows you to store local statistics about specific columns from the remote table. This can help the query processing to make more efficient plan decisions."
            ],
            "metadata": {}
        },
        {
            "cell_type": "code",
            "source": [
                "CREATE STATISTICS arrefstats ON oracle.accountsreceivable ([arref]) WITH FULLSCAN\r\n",
                "GO"
            ],
            "metadata": {},
            "outputs": [
                {
                    "output_type": "display_data",
                    "data": {
                        "text/html": "Commands completed successfully."
                    },
                    "metadata": {}
                },
                {
                    "output_type": "display_data",
                    "data": {
                        "text/html": "Total execution time: 00:00:00.227"
                    },
                    "metadata": {}
                }
            ],
            "execution_count": 28
        },
        {
            "cell_type": "markdown",
            "source": [
                "## Step 7: Try to scan the remote table\r\n",
                "Run a simple query on the EXTERNAL TABLE to scan all rows."
            ],
            "metadata": {}
        },
        {
            "cell_type": "code",
            "source": [
                "SELECT * FROM oracle.accountsreceivable\r\n",
                "GO"
            ],
            "metadata": {},
            "outputs": [
                {
                    "output_type": "display_data",
                    "data": {
                        "text/html": "(1 row affected)"
                    },
                    "metadata": {}
                },
                {
                    "output_type": "display_data",
                    "data": {
                        "text/html": "Total execution time: 00:00:00.210"
                    },
                    "metadata": {}
                },
                {
                    "output_type": "execute_result",
                    "execution_count": 29,
                    "data": {
                        "application/vnd.dataresource+json": {
                            "schema": {
                                "fields": [
                                    {
                                        "name": "ARID"
                                    },
                                    {
                                        "name": "ARDATE"
                                    },
                                    {
                                        "name": "ARDESC"
                                    },
                                    {
                                        "name": "ARREF"
                                    },
                                    {
                                        "name": "ARAMT"
                                    }
                                ]
                            },
                            "data": [
                                {
                                    "0": "1",
                                    "1": "2016-05-31",
                                    "2": "Invoice 70510",
                                    "3": "336252",
                                    "4": "5549.90"
                                }
                            ]
                        },
                        "text/html": "<table><tr><th>ARID</th><th>ARDATE</th><th>ARDESC</th><th>ARREF</th><th>ARAMT</th></tr><tr><td>1</td><td>2016-05-31</td><td>Invoice 70510</td><td>336252</td><td>5549.90</td></tr></table>"
                    },
                    "metadata": {}
                }
            ],
            "execution_count": 29
        },
        {
            "cell_type": "markdown",
            "source": [
                "## Step 8: Query the remote table with a WHERE clause\r\n",
                "Even though the table may be small SQL Server will \"push\" the WHERE clause filter to the remote table"
            ],
            "metadata": {}
        },
        {
            "cell_type": "code",
            "source": [
                "SELECT * FROM oracle.accountsreceivable\r\n",
                "WHERE arref = 336252\r\n",
                "GO"
            ],
            "metadata": {},
            "outputs": [
                {
                    "output_type": "display_data",
                    "data": {
                        "text/html": "(1 row affected)"
                    },
                    "metadata": {}
                },
                {
                    "output_type": "display_data",
                    "data": {
                        "text/html": "Total execution time: 00:00:00.208"
                    },
                    "metadata": {}
                },
                {
                    "output_type": "execute_result",
                    "execution_count": 30,
                    "data": {
                        "application/vnd.dataresource+json": {
                            "schema": {
                                "fields": [
                                    {
                                        "name": "ARID"
                                    },
                                    {
                                        "name": "ARDATE"
                                    },
                                    {
                                        "name": "ARDESC"
                                    },
                                    {
                                        "name": "ARREF"
                                    },
                                    {
                                        "name": "ARAMT"
                                    }
                                ]
                            },
                            "data": [
                                {
                                    "0": "1",
                                    "1": "2016-05-31",
                                    "2": "Invoice 70510",
                                    "3": "336252",
                                    "4": "5549.90"
                                }
                            ]
                        },
                        "text/html": "<table><tr><th>ARID</th><th>ARDATE</th><th>ARDESC</th><th>ARREF</th><th>ARAMT</th></tr><tr><td>1</td><td>2016-05-31</td><td>Invoice 70510</td><td>336252</td><td>5549.90</td></tr></table>"
                    },
                    "metadata": {}
                }
            ],
            "execution_count": 30
        },
        {
            "cell_type": "markdown",
            "source": [
                "## Step 9: Join with local SQL Server tables\r\n",
                "Find accts receivable data based on CustomerTransactionID (which matches arref in the AR tables in Oracle)"
            ],
            "metadata": {}
        },
        {
            "cell_type": "code",
            "source": [
                "SELECT ct.*, oa.arid, oa.ardesc\r\n",
                "FROM oracle.accountsreceivable oa\r\n",
                "JOIN [Sales].[CustomerTransactions] ct\r\n",
                "ON oa.arref = ct.CustomerTransactionID\r\n",
                "GO"
            ],
            "metadata": {},
            "outputs": [
                {
                    "output_type": "display_data",
                    "data": {
                        "text/html": "(1 row affected)"
                    },
                    "metadata": {}
                },
                {
                    "output_type": "display_data",
                    "data": {
                        "text/html": "Total execution time: 00:00:00.256"
                    },
                    "metadata": {}
                },
                {
                    "output_type": "execute_result",
                    "execution_count": 31,
                    "data": {
                        "application/vnd.dataresource+json": {
                            "schema": {
                                "fields": [
                                    {
                                        "name": "CustomerTransactionID"
                                    },
                                    {
                                        "name": "CustomerID"
                                    },
                                    {
                                        "name": "TransactionTypeID"
                                    },
                                    {
                                        "name": "InvoiceID"
                                    },
                                    {
                                        "name": "PaymentMethodID"
                                    },
                                    {
                                        "name": "TransactionDate"
                                    },
                                    {
                                        "name": "AmountExcludingTax"
                                    },
                                    {
                                        "name": "TaxAmount"
                                    },
                                    {
                                        "name": "TransactionAmount"
                                    },
                                    {
                                        "name": "OutstandingBalance"
                                    },
                                    {
                                        "name": "FinalizationDate"
                                    },
                                    {
                                        "name": "IsFinalized"
                                    },
                                    {
                                        "name": "LastEditedBy"
                                    },
                                    {
                                        "name": "LastEditedWhen"
                                    },
                                    {
                                        "name": "arid"
                                    },
                                    {
                                        "name": "ardesc"
                                    }
                                ]
                            },
                            "data": [
                                {
                                    "0": "336252",
                                    "1": "401",
                                    "2": "1",
                                    "3": "70510",
                                    "4": "NULL",
                                    "5": "2016-05-31",
                                    "6": "4826.00",
                                    "7": "723.90",
                                    "8": "5549.90",
                                    "9": "5549.90",
                                    "10": "NULL",
                                    "11": "0",
                                    "12": "3",
                                    "13": "2016-05-31 12:00:00.0000000",
                                    "14": "1",
                                    "15": "Invoice 70510"
                                }
                            ]
                        },
                        "text/html": "<table><tr><th>CustomerTransactionID</th><th>CustomerID</th><th>TransactionTypeID</th><th>InvoiceID</th><th>PaymentMethodID</th><th>TransactionDate</th><th>AmountExcludingTax</th><th>TaxAmount</th><th>TransactionAmount</th><th>OutstandingBalance</th><th>FinalizationDate</th><th>IsFinalized</th><th>LastEditedBy</th><th>LastEditedWhen</th><th>arid</th><th>ardesc</th></tr><tr><td>336252</td><td>401</td><td>1</td><td>70510</td><td>NULL</td><td>2016-05-31</td><td>4826.00</td><td>723.90</td><td>5549.90</td><td>5549.90</td><td>NULL</td><td>0</td><td>3</td><td>2016-05-31 12:00:00.0000000</td><td>1</td><td>Invoice 70510</td></tr></table>"
                    },
                    "metadata": {}
                }
            ],
            "execution_count": 31
        },
        {
            "cell_type": "markdown",
            "source": "",
            "metadata": {}
        }
    ]
}