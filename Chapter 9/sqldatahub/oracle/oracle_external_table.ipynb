{
    "metadata": {
        "kernelspec": {
            "name": "SQL",
            "display_name": "SQL",
            "language": "sql"
        },
        "language_info": {
            "name": "sql",
            "version": ""
        }
    },
    "nbformat_minor": 2,
    "nbformat": 4,
    "cells": [
        {
            "cell_type": "markdown",
            "source": [
                "# SQL Server 2019 Polybase - Data Virtualization\r\n",
                "This notebook has a series of instructions to setup external data sources using Polybase in SQL Server 2019"
            ],
            "metadata": {}
        },
        {
            "cell_type": "markdown",
            "source": [
                "## SQL Server Polybase with Oracle\r\n",
                "The following will go through how to setup an external data source, external table, and query to Oracle. First change context to the WideWorldImporters database and remove an existing external tables from a previous run."
            ],
            "metadata": {}
        },
        {
            "cell_type": "markdown",
            "source": [
                "### Step 1: Add a master key\r\n",
                "\r\n",
                "Add a master key to encrypt the database scoped credential"
            ],
            "metadata": {}
        },
        {
            "cell_type": "code",
            "source": [
                "CREATE MASTER KEY ENCRYPTION BY PASSWORD = 'S0me!nfo'\r\n",
                "GO"
            ],
            "metadata": {},
            "outputs": [
                {
                    "output_type": "error",
                    "ename": "",
                    "evalue": "Msg 15578, Level 16, State 1, Line 1\r\nThere is already a master key in the database. Please drop it before performing this statement.",
                    "traceback": []
                },
                {
                    "output_type": "display_data",
                    "data": {
                        "text/html": "Total execution time: 00:00:00.0028134"
                    },
                    "metadata": {}
                }
            ],
            "execution_count": 36
        },
        {
            "cell_type": "markdown",
            "source": "### Step 2: Create database scoped credentials",
            "metadata": {}
        },
        {
            "cell_type": "code",
            "source": [
                "/*  specify credentials to external data source\r\n",
                "*  IDENTITY: user name for external source.  \r\n",
                "*  SECRET: password for external source.\r\n",
                "*/\r\n",
                "DROP DATABASE SCOPED CREDENTIAL OracleCredentials\r\n",
                "GO\r\n",
                "CREATE DATABASE SCOPED CREDENTIAL OracleCredentials   \r\n",
                "WITH IDENTITY = 'gl', Secret = 'glpwd'\r\n",
                "GO"
            ],
            "metadata": {},
            "outputs": [
                {
                    "output_type": "display_data",
                    "data": {
                        "text/html": "Commands completed successfully."
                    },
                    "metadata": {}
                },
                {
                    "output_type": "display_data",
                    "data": {
                        "text/html": "Total execution time: 00:00:00.0217615"
                    },
                    "metadata": {}
                },
                {
                    "output_type": "display_data",
                    "data": {
                        "text/html": "Commands completed successfully."
                    },
                    "metadata": {}
                },
                {
                    "output_type": "display_data",
                    "data": {
                        "text/html": "Total execution time: 00:00:00.0310924"
                    },
                    "metadata": {}
                }
            ],
            "execution_count": 37
        },
        {
            "cell_type": "markdown",
            "source": "### ",
            "metadata": {}
        },
        {
            "cell_type": "markdown",
            "source": "### Step 3: Create the external data source",
            "metadata": {}
        },
        {
            "cell_type": "code",
            "source": [
                "/*  LOCATION: Location string should be of format '<vendor>://<server>[:<port>]'.\r\n",
                "*  PUSHDOWN: specify whether computation should be pushed down to the source. ON by default.\r\n",
                "*  CREDENTIAL: the database scoped credential, created above.\r\n",
                "*/  \r\n",
                "CREATE EXTERNAL DATA SOURCE OracleServer\r\n",
                "WITH ( \r\n",
                "LOCATION = 'oracle://bworacle:49161',\r\n",
                "PUSHDOWN = ON,\r\n",
                "CREDENTIAL = OracleCredentials\r\n",
                ")\r\n",
                "GO\r\n",
                ""
            ],
            "metadata": {},
            "outputs": [
                {
                    "output_type": "display_data",
                    "data": {
                        "text/html": "Commands completed successfully."
                    },
                    "metadata": {}
                },
                {
                    "output_type": "display_data",
                    "data": {
                        "text/html": "Total execution time: 00:00:00.1757543"
                    },
                    "metadata": {}
                }
            ],
            "execution_count": 38
        },
        {
            "cell_type": "markdown",
            "source": "### Step 4: Create a new schema",
            "metadata": {}
        },
        {
            "cell_type": "code",
            "source": [
                "DROP SCHEMA oracle\r\n",
                "go\r\n",
                "CREATE SCHEMA oracle\r\n",
                "GO"
            ],
            "metadata": {},
            "outputs": [
                {
                    "output_type": "display_data",
                    "data": {
                        "text/html": "Commands completed successfully."
                    },
                    "metadata": {}
                },
                {
                    "output_type": "display_data",
                    "data": {
                        "text/html": "Total execution time: 00:00:00.0846266"
                    },
                    "metadata": {}
                },
                {
                    "output_type": "display_data",
                    "data": {
                        "text/html": "Commands completed successfully."
                    },
                    "metadata": {}
                },
                {
                    "output_type": "display_data",
                    "data": {
                        "text/html": "Total execution time: 00:00:00.0157469"
                    },
                    "metadata": {}
                }
            ],
            "execution_count": 39
        },
        {
            "cell_type": "markdown",
            "source": "### Step 5: Create the exteranl table",
            "metadata": {}
        },
        {
            "cell_type": "code",
            "source": [
                "/*  LOCATION: oracle table/view in 'database_name.schema_name.object_name' format\r\n",
                "*  DATA_SOURCE: the external data source, created above.\r\n",
                "*/\r\n",
                "CREATE EXTERNAL TABLE oracle.accountsreceivable\r\n",
                "(\r\n",
                "arid int,\r\n",
                "ardate date,\r\n",
                "ardesc nvarchar(100) COLLATE Latin1_General_100_CI_AS,\r\n",
                "arref int,\r\n",
                "aramt decimal(10,2)\r\n",
                ")\r\n",
                " WITH (\r\n",
                " LOCATION='[XE].[GL].[ACCOUNTSRECEIVABLE]',\r\n",
                " DATA_SOURCE=OracleServer\r\n",
                ")"
            ],
            "metadata": {},
            "outputs": [
                {
                    "output_type": "display_data",
                    "data": {
                        "text/html": "Commands completed successfully."
                    },
                    "metadata": {}
                },
                {
                    "output_type": "display_data",
                    "data": {
                        "text/html": "Total execution time: 00:00:00.6258433"
                    },
                    "metadata": {}
                }
            ],
            "execution_count": 40
        },
        {
            "cell_type": "markdown",
            "source": "### Step 6: Create statistics on key columns",
            "metadata": {}
        },
        {
            "cell_type": "code",
            "source": [
                "CREATE STATISTICS arrefstats ON oracle.accountsreceivable ([arref]) WITH FULLSCAN\r\n",
                "GO"
            ],
            "metadata": {},
            "outputs": [
                {
                    "output_type": "display_data",
                    "data": {
                        "text/html": "Commands completed successfully."
                    },
                    "metadata": {}
                },
                {
                    "output_type": "display_data",
                    "data": {
                        "text/html": "Total execution time: 00:00:04.4838751"
                    },
                    "metadata": {}
                }
            ],
            "execution_count": 41
        },
        {
            "cell_type": "markdown",
            "source": "### Step 7: Do a filter query for predicate pushdown",
            "metadata": {}
        },
        {
            "cell_type": "code",
            "source": [
                "-- Try a simple filter\r\n",
                "SELECT * FROM oracle.accountsreceivable\r\n",
                "WHERE arref = 336252\r\n",
                "GO"
            ],
            "metadata": {},
            "outputs": [
                {
                    "output_type": "display_data",
                    "data": {
                        "text/html": "(1 row affected)"
                    },
                    "metadata": {}
                },
                {
                    "output_type": "display_data",
                    "data": {
                        "text/html": "Total execution time: 00:00:06.2927365"
                    },
                    "metadata": {}
                },
                {
                    "output_type": "execute_result",
                    "execution_count": 42,
                    "data": {
                        "application/vnd.dataresource+json": {
                            "schema": {
                                "fields": [
                                    {
                                        "name": "arid"
                                    },
                                    {
                                        "name": "ardate"
                                    },
                                    {
                                        "name": "ardesc"
                                    },
                                    {
                                        "name": "arref"
                                    },
                                    {
                                        "name": "aramt"
                                    }
                                ]
                            },
                            "data": [
                                {
                                    "0": "1",
                                    "1": "2016-05-31",
                                    "2": "Invoice 70510",
                                    "3": "336252",
                                    "4": "5549.90"
                                }
                            ]
                        },
                        "text/html": "<table><tr><th>arid</th><th>ardate</th><th>ardesc</th><th>arref</th><th>aramt</th></tr><tr><td>1</td><td>2016-05-31</td><td>Invoice 70510</td><td>336252</td><td>5549.90</td></tr></table>"
                    },
                    "metadata": {}
                }
            ],
            "execution_count": 42
        },
        {
            "cell_type": "markdown",
            "source": "### Step 8: Join with a local table",
            "metadata": {}
        },
        {
            "cell_type": "code",
            "source": [
                "-- Join with a local table\r\n",
                "--\r\n",
                "SELECT ct.*, oa.arid, oa.ardesc\r\n",
                "FROM oracle.accountsreceivable oa\r\n",
                "JOIN [Sales].[CustomerTransactions] ct\r\n",
                "ON oa.arref = ct.CustomerTransactionID\r\n",
                "GO"
            ],
            "metadata": {},
            "outputs": [
                {
                    "output_type": "display_data",
                    "data": {
                        "text/html": "(1 row affected)"
                    },
                    "metadata": {}
                },
                {
                    "output_type": "display_data",
                    "data": {
                        "text/html": "Total execution time: 00:00:04.8095964"
                    },
                    "metadata": {}
                },
                {
                    "output_type": "execute_result",
                    "execution_count": 43,
                    "data": {
                        "application/vnd.dataresource+json": {
                            "schema": {
                                "fields": [
                                    {
                                        "name": "CustomerTransactionID"
                                    },
                                    {
                                        "name": "CustomerID"
                                    },
                                    {
                                        "name": "TransactionTypeID"
                                    },
                                    {
                                        "name": "InvoiceID"
                                    },
                                    {
                                        "name": "PaymentMethodID"
                                    },
                                    {
                                        "name": "TransactionDate"
                                    },
                                    {
                                        "name": "AmountExcludingTax"
                                    },
                                    {
                                        "name": "TaxAmount"
                                    },
                                    {
                                        "name": "TransactionAmount"
                                    },
                                    {
                                        "name": "OutstandingBalance"
                                    },
                                    {
                                        "name": "FinalizationDate"
                                    },
                                    {
                                        "name": "IsFinalized"
                                    },
                                    {
                                        "name": "LastEditedBy"
                                    },
                                    {
                                        "name": "LastEditedWhen"
                                    },
                                    {
                                        "name": "arid"
                                    },
                                    {
                                        "name": "ardesc"
                                    }
                                ]
                            },
                            "data": [
                                {
                                    "0": "336252",
                                    "1": "401",
                                    "2": "1",
                                    "3": "70510",
                                    "4": "NULL",
                                    "5": "2016-05-31",
                                    "6": "4826.00",
                                    "7": "723.90",
                                    "8": "5549.90",
                                    "9": "5549.90",
                                    "10": "NULL",
                                    "11": "0",
                                    "12": "3",
                                    "13": "2016-05-31 12:00:00.0000000",
                                    "14": "1",
                                    "15": "Invoice 70510"
                                }
                            ]
                        },
                        "text/html": "<table><tr><th>CustomerTransactionID</th><th>CustomerID</th><th>TransactionTypeID</th><th>InvoiceID</th><th>PaymentMethodID</th><th>TransactionDate</th><th>AmountExcludingTax</th><th>TaxAmount</th><th>TransactionAmount</th><th>OutstandingBalance</th><th>FinalizationDate</th><th>IsFinalized</th><th>LastEditedBy</th><th>LastEditedWhen</th><th>arid</th><th>ardesc</th></tr><tr><td>336252</td><td>401</td><td>1</td><td>70510</td><td>NULL</td><td>2016-05-31</td><td>4826.00</td><td>723.90</td><td>5549.90</td><td>5549.90</td><td>NULL</td><td>0</td><td>3</td><td>2016-05-31 12:00:00.0000000</td><td>1</td><td>Invoice 70510</td></tr></table>"
                    },
                    "metadata": {}
                }
            ],
            "execution_count": 43
        }
    ]
}