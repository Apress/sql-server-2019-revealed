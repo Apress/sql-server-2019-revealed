{
    "metadata": {
        "kernelspec": {
            "name": "SQL",
            "display_name": "SQL",
            "language": "sql"
        },
        "language_info": {
            "name": "sql",
            "version": ""
        }
    },
    "nbformat_minor": 2,
    "nbformat": 4,
    "cells": [
        {
            "cell_type": "markdown",
            "source": [
                "# SQL Server 2019 Data Virtualization - Using Polybase to query Azure CosmosDB\r\n",
                "This notebook contains an example of how to use external tables to query data in Azure CosmosDB (using MongoDB API) without moving data. You may need to change identity, secret, connection, database, schema, and remote table names to work with your Azure CosmosDB.\r\n",
                "\r\n",
                "This notebook also assumes you are using SQL Server 2019 Release Candidate or later and that the Polybase feature has been installed and enabled.\r\n",
                "\r\n",
                "This notebook uses the sample WideWorldImporters sample database but can be used with any user database."
            ],
            "metadata": {}
        },
        {
            "cell_type": "markdown",
            "source": [
                "## Step 0: Create the CosmosDB database, document, collection, and add data\r\n",
                "\r\n",
                "Create a new database, collection, and document with CosmosDB in Azure. You can the Azure portal to create a new Azure CosmosDB database (choose for Mongo API). Use the Data Explorer tool from the portal to create a database called **WideWorldImporters** with a collection called **Orders**. Then create a new document with field names and values like the following (Note: the _id field was created by Data Explorer and the id field was a default value already provided by the tool)\r\n",
                "\r\n",
                "\r\n",
                "```json\r\n",
                "{\r\n",
                "\t\"_id\" : ObjectId(\"5c54aa72dd13c70f445745bf\"),\r\n",
                "\t\"id\" : \"1\",\r\n",
                "\t\"OrderID\" : 1,\r\n",
                "\t\"SalesPersonPersonID\" : 2,\r\n",
                "\t\"CustomerName\" : \"Vandelay Industries\",\r\n",
                "\t\"CustomerContact\" : \"Art Vandelay\",\r\n",
                "\t\"OrderDate\" : \"2018-05-14\",\r\n",
                "\t\"CustomerPO\" : \"20180514\",\r\n",
                "\t\"ExpectedDeliveryDate\" : \"2018-05-21\"\r\n",
                "}\r\n",
                "```"
            ],
            "metadata": {}
        },
        {
            "cell_type": "markdown",
            "source": [
                "## Step 1: Create a master key\r\n",
                "Create a master key to encrypt the database credential"
            ],
            "metadata": {}
        },
        {
            "cell_type": "code",
            "source": [
                "USE [WideWorldImporters]\r\n",
                "GO\r\n",
                "CREATE MASTER KEY ENCRYPTION BY PASSWORD = '<password>'\r\n",
                "GO"
            ],
            "metadata": {},
            "outputs": [
                {
                    "output_type": "display_data",
                    "data": {
                        "text/html": "Commands completed successfully."
                    },
                    "metadata": {}
                },
                {
                    "output_type": "display_data",
                    "data": {
                        "text/html": "Commands completed successfully."
                    },
                    "metadata": {}
                },
                {
                    "output_type": "display_data",
                    "data": {
                        "text/html": "Total execution time: 00:00:00.018"
                    },
                    "metadata": {}
                }
            ],
            "execution_count": 1
        },
        {
            "cell_type": "markdown",
            "source": [
                "## Step 2: Create a database credential\r\n",
                "Create the database scoped credentials with the Azure CosmosDB user and password. You can get the IDENTITY (user) and secret (password) from the Connection String option in the Azure portal"
            ],
            "metadata": {}
        },
        {
            "cell_type": "code",
            "source": [
                "CREATE DATABASE SCOPED CREDENTIAL CosmosDBCredentials   \r\n",
                "WITH IDENTITY = '<user>', Secret = '<password>'\r\n",
                "GO"
            ],
            "metadata": {},
            "outputs": [
                {
                    "output_type": "display_data",
                    "data": {
                        "text/html": "Commands completed successfully."
                    },
                    "metadata": {}
                },
                {
                    "output_type": "display_data",
                    "data": {
                        "text/html": "Total execution time: 00:00:00.004"
                    },
                    "metadata": {}
                }
            ],
            "execution_count": 2
        },
        {
            "cell_type": "markdown",
            "source": [
                "## Step 3: Create an EXTERNAL DATA SOURCE\r\n",
                "The EXTERNAL DATA SOURCE indicates what type of data source, the connection \"string\", where PUSHDOWN predicates should be used (if possible), and the name of the database credential.\r\n",
                "\r\n",
                "The LOCATION syntax is <datasourcetype>:<connection string>.\r\n",
                "\r\n",
                "datasourcetype can be sqlserver, oracle, teradata, mongodb, or odbc (Windows only)\r\n",
                "The connection string depends on the datasourcetype\r\n",
                "\r\n",
                "For this example, create a data source for the Azure CosmoDB sderver using the host URI and port. The LOCATION is built from <HOST>:<PORT> from the Connection String in the Azure Portal"
            ],
            "metadata": {}
        },
        {
            "cell_type": "code",
            "source": [
                "CREATE EXTERNAL DATA SOURCE CosmosDB\r\n",
                "WITH ( \r\n",
                "LOCATION = 'mongodb://<uri>:<port>',\r\n",
                "PUSHDOWN = ON,\r\n",
                "CREDENTIAL = CosmosDBCredentials\r\n",
                ")\r\n",
                "GO"
            ],
            "metadata": {},
            "outputs": [
                {
                    "output_type": "display_data",
                    "data": {
                        "text/html": "Commands completed successfully."
                    },
                    "metadata": {}
                },
                {
                    "output_type": "display_data",
                    "data": {
                        "text/html": "Total execution time: 00:00:00.027"
                    },
                    "metadata": {}
                }
            ],
            "execution_count": 3
        },
        {
            "cell_type": "markdown",
            "source": [
                "## Step 4: Create a schema for the EXTERNAL TABLE\r\n",
                "Schemas provide convenient methods to secure and organize objects"
            ],
            "metadata": {}
        },
        {
            "cell_type": "code",
            "source": [
                "CREATE SCHEMA cosmosdb\r\n",
                "GO"
            ],
            "metadata": {},
            "outputs": [
                {
                    "output_type": "display_data",
                    "data": {
                        "text/html": "Commands completed successfully."
                    },
                    "metadata": {}
                },
                {
                    "output_type": "display_data",
                    "data": {
                        "text/html": "Total execution time: 00:00:00.004"
                    },
                    "metadata": {}
                }
            ],
            "execution_count": 4
        },
        {
            "cell_type": "markdown",
            "source": [
                "## Step 5: Create an EXTERNAL TABLE\r\n",
                "An external table provides metadata so SQL Server knows how to map columns to the remote table. The name of the table for the external table can be your choice. But the columns must be specified in the same order with the same name as they are defined in the remote table. Furthermore, local data types must be compatible with the remote table.\r\n",
                "\r\n",
                "Create the external table to match the Azure CosmosDB document. The WITH clause specifies a LOCATION. This LOCATION is different than the EXTERNAL DATA SOURCE. The LOCATION is the CosmosDB database and collection."
            ],
            "metadata": {}
        },
        {
            "cell_type": "code",
            "source": [
                "CREATE EXTERNAL TABLE cosmosdb.Orders\r\n",
                "(\r\n",
                "\t[_id] NVARCHAR(100) COLLATE Latin1_General_100_CI_AS NOT NULL,\r\n",
                "\t[id] NVARCHAR(100) COLLATE Latin1_General_100_CI_AS NOT NULL,\r\n",
                "\t[OrderID] int NOT NULL,\r\n",
                "\t[SalesPersonPersonID] int NOT NULL,\r\n",
                "\t[CustomerName] NVARCHAR(100) COLLATE Latin1_General_100_CI_AS NOT NULL,\r\n",
                "\t[CustomerContact] NVARCHAR(100) COLLATE Latin1_General_100_CI_AS NOT NULL,\r\n",
                "\t[OrderDate] NVARCHAR(100) COLLATE Latin1_General_100_CI_AS NOT NULL,\r\n",
                "\t[CustomerPO] NVARCHAR(100) COLLATE Latin1_General_100_CI_AS NULL,\r\n",
                "\t[ExpectedDeliveryDate] NVARCHAR(100) COLLATE Latin1_General_100_CI_AS NOT NULL\r\n",
                ")\r\n",
                " WITH (\r\n",
                " LOCATION='WideWorldImporters.Orders',\r\n",
                " DATA_SOURCE=CosmosDB\r\n",
                ")\r\n",
                "GO"
            ],
            "metadata": {},
            "outputs": [
                {
                    "output_type": "display_data",
                    "data": {
                        "text/html": "Commands completed successfully."
                    },
                    "metadata": {}
                },
                {
                    "output_type": "display_data",
                    "data": {
                        "text/html": "Total execution time: 00:00:00.335"
                    },
                    "metadata": {}
                }
            ],
            "execution_count": 7
        },
        {
            "cell_type": "markdown",
            "source": [
                "## Step 6: Create statistics\r\n",
                "SQL Server allows you to store local statistics about specific columns from the remote table. This can help the query processing to make more efficient plan decisions."
            ],
            "metadata": {}
        },
        {
            "cell_type": "code",
            "source": [
                "CREATE STATISTICS CosmosDBOrderSalesPersonStats ON cosmosdb.Orders ([SalesPersonPersonID]) WITH FULLSCAN\r\n",
                "GO"
            ],
            "metadata": {},
            "outputs": [
                {
                    "output_type": "display_data",
                    "data": {
                        "text/html": "Commands completed successfully."
                    },
                    "metadata": {}
                },
                {
                    "output_type": "display_data",
                    "data": {
                        "text/html": "Total execution time: 00:00:01.793"
                    },
                    "metadata": {}
                }
            ],
            "execution_count": 8
        },
        {
            "cell_type": "markdown",
            "source": [
                "## Step 7: Try to scan the remote table\r\n",
                "Run a simple query on the EXTERNAL TABLE to scan all rows."
            ],
            "metadata": {}
        },
        {
            "cell_type": "code",
            "source": [
                "SELECT * FROM cosmosdb.Orders\r\n",
                "GO"
            ],
            "metadata": {},
            "outputs": [
                {
                    "output_type": "display_data",
                    "data": {
                        "text/html": "(1 row affected)"
                    },
                    "metadata": {}
                },
                {
                    "output_type": "display_data",
                    "data": {
                        "text/html": "Total execution time: 00:00:00.535"
                    },
                    "metadata": {}
                },
                {
                    "output_type": "execute_result",
                    "execution_count": 9,
                    "data": {
                        "application/vnd.dataresource+json": {
                            "schema": {
                                "fields": [
                                    {
                                        "name": "_id"
                                    },
                                    {
                                        "name": "id"
                                    },
                                    {
                                        "name": "OrderID"
                                    },
                                    {
                                        "name": "SalesPersonPersonID"
                                    },
                                    {
                                        "name": "CustomerName"
                                    },
                                    {
                                        "name": "CustomerContact"
                                    },
                                    {
                                        "name": "OrderDate"
                                    },
                                    {
                                        "name": "CustomerPO"
                                    },
                                    {
                                        "name": "ExpectedDeliveryDate"
                                    }
                                ]
                            },
                            "data": [
                                {
                                    "0": "5c54aa72dd13c70f445745bf",
                                    "1": "1",
                                    "2": "1",
                                    "3": "2",
                                    "4": "Vandelay Industries",
                                    "5": "Art Vandelay",
                                    "6": "2018-05-14",
                                    "7": "20180514",
                                    "8": "2018-05-21"
                                }
                            ]
                        },
                        "text/html": "<table><tr><th>_id</th><th>id</th><th>OrderID</th><th>SalesPersonPersonID</th><th>CustomerName</th><th>CustomerContact</th><th>OrderDate</th><th>CustomerPO</th><th>ExpectedDeliveryDate</th></tr><tr><td>5c54aa72dd13c70f445745bf</td><td>1</td><td>1</td><td>2</td><td>Vandelay Industries</td><td>Art Vandelay</td><td>2018-05-14</td><td>20180514</td><td>2018-05-21</td></tr></table>"
                    },
                    "metadata": {}
                }
            ],
            "execution_count": 9
        },
        {
            "cell_type": "markdown",
            "source": [
                "## Step 8: Query the remote table with a WHERE clause\r\n",
                "Even though the table may be small SQL Server will \"push\" the WHERE clause filter to the remote table"
            ],
            "metadata": {}
        },
        {
            "cell_type": "code",
            "source": [
                "SELECT * FROM cosmosdb.Orders WHERE SalesPersonPersonID = 2\r\n",
                "GO"
            ],
            "metadata": {},
            "outputs": [
                {
                    "output_type": "display_data",
                    "data": {
                        "text/html": "(1 row affected)"
                    },
                    "metadata": {}
                },
                {
                    "output_type": "display_data",
                    "data": {
                        "text/html": "Total execution time: 00:00:01.343"
                    },
                    "metadata": {}
                },
                {
                    "output_type": "execute_result",
                    "execution_count": 10,
                    "data": {
                        "application/vnd.dataresource+json": {
                            "schema": {
                                "fields": [
                                    {
                                        "name": "_id"
                                    },
                                    {
                                        "name": "id"
                                    },
                                    {
                                        "name": "OrderID"
                                    },
                                    {
                                        "name": "SalesPersonPersonID"
                                    },
                                    {
                                        "name": "CustomerName"
                                    },
                                    {
                                        "name": "CustomerContact"
                                    },
                                    {
                                        "name": "OrderDate"
                                    },
                                    {
                                        "name": "CustomerPO"
                                    },
                                    {
                                        "name": "ExpectedDeliveryDate"
                                    }
                                ]
                            },
                            "data": [
                                {
                                    "0": "5c54aa72dd13c70f445745bf",
                                    "1": "1",
                                    "2": "1",
                                    "3": "2",
                                    "4": "Vandelay Industries",
                                    "5": "Art Vandelay",
                                    "6": "2018-05-14",
                                    "7": "20180514",
                                    "8": "2018-05-21"
                                }
                            ]
                        },
                        "text/html": "<table><tr><th>_id</th><th>id</th><th>OrderID</th><th>SalesPersonPersonID</th><th>CustomerName</th><th>CustomerContact</th><th>OrderDate</th><th>CustomerPO</th><th>ExpectedDeliveryDate</th></tr><tr><td>5c54aa72dd13c70f445745bf</td><td>1</td><td>1</td><td>2</td><td>Vandelay Industries</td><td>Art Vandelay</td><td>2018-05-14</td><td>20180514</td><td>2018-05-21</td></tr></table>"
                    },
                    "metadata": {}
                }
            ],
            "execution_count": 10
        },
        {
            "cell_type": "markdown",
            "source": [
                "## Step 9: Join with local SQL Server tables\r\n",
                "Find out the name of the salesperson and which customer they worked with to test out the new mobile app experience."
            ],
            "metadata": {}
        },
        {
            "cell_type": "code",
            "source": [
                "SELECT FullName, o.CustomerName, o.CustomerContact, o.OrderDate\r\n",
                "FROM cosmosdb.Orders o\r\n",
                "JOIN [Application].[People] p\r\n",
                "ON o.SalesPersonPersonID = p.PersonID\r\n",
                "GO"
            ],
            "metadata": {},
            "outputs": [
                {
                    "output_type": "display_data",
                    "data": {
                        "text/html": "(1 row affected)"
                    },
                    "metadata": {}
                },
                {
                    "output_type": "display_data",
                    "data": {
                        "text/html": "Total execution time: 00:00:00.452"
                    },
                    "metadata": {}
                },
                {
                    "output_type": "execute_result",
                    "execution_count": 11,
                    "data": {
                        "application/vnd.dataresource+json": {
                            "schema": {
                                "fields": [
                                    {
                                        "name": "FullName"
                                    },
                                    {
                                        "name": "CustomerName"
                                    },
                                    {
                                        "name": "CustomerContact"
                                    },
                                    {
                                        "name": "OrderDate"
                                    }
                                ]
                            },
                            "data": [
                                {
                                    "0": "Kayla Woodcock",
                                    "1": "Vandelay Industries",
                                    "2": "Art Vandelay",
                                    "3": "2018-05-14"
                                }
                            ]
                        },
                        "text/html": "<table><tr><th>FullName</th><th>CustomerName</th><th>CustomerContact</th><th>OrderDate</th></tr><tr><td>Kayla Woodcock</td><td>Vandelay Industries</td><td>Art Vandelay</td><td>2018-05-14</td></tr></table>"
                    },
                    "metadata": {}
                }
            ],
            "execution_count": 11
        },
        {
            "cell_type": "markdown",
            "source": "",
            "metadata": {}
        }
    ]
}