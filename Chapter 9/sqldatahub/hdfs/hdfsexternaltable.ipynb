{
    "metadata": {
        "kernelspec": {
            "name": "SQL",
            "display_name": "SQL",
            "language": "sql"
        },
        "language_info": {
            "name": "sql",
            "version": ""
        }
    },
    "nbformat_minor": 2,
    "nbformat": 4,
    "cells": [
        {
            "cell_type": "markdown",
            "source": [
                "# SQL Server 2019 Data Virtualization - Using Polybase to query HDFS (without Big Data Clusters)\r\n",
                "This notebook contains an example of how to use external tables to query data in HDFS (not using Big Data Clusters) without moving data. You may need to change identity, secret, connection, database, schema, and remote table names to work with your HDFS system. This example uses Azure Blob Storage for HDFS.\r\n",
                "\r\n",
                "This notebook also assumes you are using SQL Server 2019 Release Candidate or later and that the Polybase feature has been installed and enabled (you must choose the Java option when installing the Polybase feature to use external tables based on HDFS).\r\n",
                "\r\n",
                "This notebook uses the sample WideWorldImporters sample database but can be used with any user database."
            ],
            "metadata": {}
        },
        {
            "cell_type": "markdown",
            "source": [
                "## Step 0: Create the storage for HDFS using Azure Blob Storage\r\n",
                "Create an Azure Storage container to hold the hdfs data. For this example the name of my container is **wwi**. For further information look at the documentation at https://docs.microsoft.com/en-us/sql/relational-databases/polybase/polybase-configure-azure-blob-storage."
            ],
            "metadata": {}
        },
        {
            "cell_type": "markdown",
            "source": [
                "## Step 1: Enable Polybase connectivity to Azure Blog Storage and ingestion into HDFS\r\n",
                "**You must restart SQL Server to be able to proceed to Step 2**"
            ],
            "metadata": {}
        },
        {
            "cell_type": "code",
            "source": [
                "USE [master]\r\n",
                "GO\r\n",
                "sp_configure @configname = 'hadoop connectivity', @configvalue = 7;\r\n",
                "GO\r\n",
                "sp_configure 'allow polybase export', 1\r\n",
                "GO\r\n",
                "RECONFIGURE\r\n",
                "GO"
            ],
            "metadata": {},
            "outputs": [
                {
                    "output_type": "display_data",
                    "data": {
                        "text/html": "Commands completed successfully."
                    },
                    "metadata": {}
                },
                {
                    "output_type": "display_data",
                    "data": {
                        "text/html": "Configuration option 'hadoop connectivity' changed from 7 to 7. Run the RECONFIGURE statement to install."
                    },
                    "metadata": {}
                },
                {
                    "output_type": "display_data",
                    "data": {
                        "text/html": "Configuration option 'allow polybase export' changed from 1 to 1. Run the RECONFIGURE statement to install."
                    },
                    "metadata": {}
                },
                {
                    "output_type": "display_data",
                    "data": {
                        "text/html": "Commands completed successfully."
                    },
                    "metadata": {}
                },
                {
                    "output_type": "display_data",
                    "data": {
                        "text/html": "Total execution time: 00:00:00.046"
                    },
                    "metadata": {}
                }
            ],
            "execution_count": 1
        },
        {
            "cell_type": "markdown",
            "source": [
                "## Step 2: Create a master key\r\n",
                "Create a master key to encrypt the database credential"
            ],
            "metadata": {}
        },
        {
            "cell_type": "code",
            "source": [
                "USE [WideWorldImporters]\r\n",
                "GO\r\n",
                "CREATE MASTER KEY ENCRYPTION BY PASSWORD = '<password>'\r\n",
                "GO"
            ],
            "metadata": {},
            "outputs": [
                {
                    "output_type": "display_data",
                    "data": {
                        "text/html": "Commands completed successfully."
                    },
                    "metadata": {}
                },
                {
                    "output_type": "display_data",
                    "data": {
                        "text/html": "Commands completed successfully."
                    },
                    "metadata": {}
                },
                {
                    "output_type": "display_data",
                    "data": {
                        "text/html": "Total execution time: 00:00:00.019"
                    },
                    "metadata": {}
                }
            ],
            "execution_count": 2
        },
        {
            "cell_type": "markdown",
            "source": [
                "## Step 3: Create a database credential\r\n",
                "Create a database scoped credential for access to Azure Blob Storage<br>\r\n",
                "IDENTITY: any string (this is not used for authentication to Azure storage)<br>\r\n",
                "SECRET: your Azure storage account key which you can get from the portal or az CLI"
            ],
            "metadata": {}
        },
        {
            "cell_type": "code",
            "source": [
                "CREATE DATABASE SCOPED CREDENTIAL AzureStorageCredentials   \r\n",
                "WITH IDENTITY = 'user', Secret = '<storage account key>'\r\n",
                "GO"
            ],
            "metadata": {},
            "outputs": [
                {
                    "output_type": "display_data",
                    "data": {
                        "text/html": "Commands completed successfully."
                    },
                    "metadata": {}
                },
                {
                    "output_type": "display_data",
                    "data": {
                        "text/html": "Total execution time: 00:00:00.004"
                    },
                    "metadata": {}
                }
            ],
            "execution_count": 6
        },
        {
            "cell_type": "markdown",
            "source": [
                "## Step 4: Create an EXTERNAL DATA SOURCE\r\n",
                "The EXTERNAL DATA SOURCE indicates what type of data source, the connection \"string\", where PUSHDOWN predicates should be used (if possible), and the name of the database credential.\r\n",
                "\r\n",
                "For HDFS exteranl tables, you need to use the TYPE = HADOOP syntax. The LOCATION for Azure Blob Storage is the WASBS URI which you can get from the Azure Portal or az CLI"
            ],
            "metadata": {}
        },
        {
            "cell_type": "code",
            "source": [
                "CREATE EXTERNAL DATA SOURCE bwdatalake with (  \r\n",
                "      TYPE = HADOOP,\r\n",
                "      LOCATION ='wasbs://wwi@<storage account>.blob.core.windows.net',  \r\n",
                "      CREDENTIAL = AzureStorageCredentials\r\n",
                ")\r\n",
                "GO"
            ],
            "metadata": {},
            "outputs": [
                {
                    "output_type": "display_data",
                    "data": {
                        "text/html": "Commands completed successfully."
                    },
                    "metadata": {}
                },
                {
                    "output_type": "display_data",
                    "data": {
                        "text/html": "Total execution time: 00:00:00.020"
                    },
                    "metadata": {}
                }
            ],
            "execution_count": 7
        },
        {
            "cell_type": "markdown",
            "source": [
                "## Step 5: Create a file format for the external table\r\n",
                "Use an EXTERNAL FILE FORMAT to define the format of the file in HDFS<br>\r\n",
                "FORMAT TYPE: Type of format in Hadoop (DELIMITEDTEXT,  RCFILE, ORC, PARQUET)."
            ],
            "metadata": {}
        },
        {
            "cell_type": "code",
            "source": [
                "CREATE EXTERNAL FILE FORMAT TextFileFormat WITH (  \r\n",
                "      FORMAT_TYPE = DELIMITEDTEXT,\r\n",
                "      FORMAT_OPTIONS (FIELD_TERMINATOR ='|',\r\n",
                "            USE_TYPE_DEFAULT = TRUE))\r\n",
                "GO"
            ],
            "metadata": {},
            "outputs": [
                {
                    "output_type": "display_data",
                    "data": {
                        "text/html": "Commands completed successfully."
                    },
                    "metadata": {}
                },
                {
                    "output_type": "display_data",
                    "data": {
                        "text/html": "Total execution time: 00:00:00.021"
                    },
                    "metadata": {}
                }
            ],
            "execution_count": 9
        },
        {
            "cell_type": "markdown",
            "source": [
                "## Step 6: Create a schema for the EXTERNAL TABLE\r\n",
                "Schemas provide convenient methods to secure and organize objects"
            ],
            "metadata": {}
        },
        {
            "cell_type": "code",
            "source": [
                "CREATE SCHEMA hdfs\r\n",
                "GO"
            ],
            "metadata": {},
            "outputs": [
                {
                    "output_type": "display_data",
                    "data": {
                        "text/html": "Commands completed successfully."
                    },
                    "metadata": {}
                },
                {
                    "output_type": "display_data",
                    "data": {
                        "text/html": "Total execution time: 00:00:00.004"
                    },
                    "metadata": {}
                }
            ],
            "execution_count": 10
        },
        {
            "cell_type": "markdown",
            "source": [
                "## Step 7: Create an EXTERNAL TABLE\r\n",
                "An external table provides metadata so SQL Server knows how to map columns to the remote table. In the case of HDFS, you can use any table or column name and map in appropriate data types for data in the file.\r\n",
                "\r\n",
                "Create the external table to match the fileformat and file in HDFS<br>\r\n",
                "LOCATION: path to file or directory that contains the data (relative to HDFS root)."
            ],
            "metadata": {}
        },
        {
            "cell_type": "code",
            "source": [
                "CREATE EXTERNAL TABLE [hdfs].[WWI_Order_Reviews] (  \r\n",
                "      [OrderID] int NOT NULL,\r\n",
                "      [CustomerID] int NOT NULL,\r\n",
                "      [Rating] int NULL,\r\n",
                "      [Review_Comments] nvarchar(1000) NOT NULL\r\n",
                ")  \r\n",
                "WITH (LOCATION='/WWI/',\r\n",
                "      DATA_SOURCE = bwdatalake,  \r\n",
                "      FILE_FORMAT = TextFileFormat  \r\n",
                ")\r\n",
                "GO"
            ],
            "metadata": {},
            "outputs": [
                {
                    "output_type": "display_data",
                    "data": {
                        "text/html": "Commands completed successfully."
                    },
                    "metadata": {}
                },
                {
                    "output_type": "display_data",
                    "data": {
                        "text/html": "Total execution time: 00:00:00.139"
                    },
                    "metadata": {}
                }
            ],
            "execution_count": 19
        },
        {
            "cell_type": "markdown",
            "source": [
                "## Step 8: Ingest some data into HDFS\r\n",
                "INSERT is allowed for external tables based on HDFS<br>\r\n",
                "Ingest some data lined up with a valid OrderID and CustomerID in the database"
            ],
            "metadata": {}
        },
        {
            "cell_type": "code",
            "source": [
                "INSERT INTO [hdfs].[WWI_Order_Reviews] VALUES (1, 832, 10, 'I had a great experience with my order')\r\n",
                "GO"
            ],
            "metadata": {},
            "outputs": [
                {
                    "output_type": "display_data",
                    "data": {
                        "text/html": "(1 row affected)"
                    },
                    "metadata": {}
                },
                {
                    "output_type": "display_data",
                    "data": {
                        "text/html": "Total execution time: 00:00:00.689"
                    },
                    "metadata": {}
                }
            ],
            "execution_count": 20
        },
        {
            "cell_type": "markdown",
            "source": [
                "## Step 9: Create statistics\r\n",
                "SQL Server allows you to store local statistics about specific columns from the remote table. This can help the query processing to make more efficient plan decisions."
            ],
            "metadata": {}
        },
        {
            "cell_type": "code",
            "source": [
                "CREATE STATISTICS StatsforReviews on [hdfs].[WWI_Order_Reviews](OrderID, CustomerID)\r\n",
                "GO"
            ],
            "metadata": {},
            "outputs": [
                {
                    "output_type": "display_data",
                    "data": {
                        "text/html": "Commands completed successfully."
                    },
                    "metadata": {}
                },
                {
                    "output_type": "display_data",
                    "data": {
                        "text/html": "Total execution time: 00:00:00.491"
                    },
                    "metadata": {}
                }
            ],
            "execution_count": 21
        },
        {
            "cell_type": "markdown",
            "source": [
                "## Step 10: Try to scan the remote table\r\n",
                "Run a simple query on the EXTERNAL TABLE to scan all rows."
            ],
            "metadata": {}
        },
        {
            "cell_type": "code",
            "source": [
                "SELECT * FROM [hdfs].[WWI_Order_Reviews]\r\n",
                "GO"
            ],
            "metadata": {},
            "outputs": [
                {
                    "output_type": "display_data",
                    "data": {
                        "text/html": "(1 row affected)"
                    },
                    "metadata": {}
                },
                {
                    "output_type": "display_data",
                    "data": {
                        "text/html": "Total execution time: 00:00:00.366"
                    },
                    "metadata": {}
                },
                {
                    "output_type": "execute_result",
                    "execution_count": 22,
                    "data": {
                        "application/vnd.dataresource+json": {
                            "schema": {
                                "fields": [
                                    {
                                        "name": "OrderID"
                                    },
                                    {
                                        "name": "CustomerID"
                                    },
                                    {
                                        "name": "Rating"
                                    },
                                    {
                                        "name": "Review_Comments"
                                    }
                                ]
                            },
                            "data": [
                                {
                                    "0": "1",
                                    "1": "832",
                                    "2": "10",
                                    "3": "I had a great experience with my order"
                                }
                            ]
                        },
                        "text/html": "<table><tr><th>OrderID</th><th>CustomerID</th><th>Rating</th><th>Review_Comments</th></tr><tr><td>1</td><td>832</td><td>10</td><td>I had a great experience with my order</td></tr></table>"
                    },
                    "metadata": {}
                }
            ],
            "execution_count": 22
        },
        {
            "cell_type": "markdown",
            "source": [
                "## Step 11: Query the remote table with a WHERE clause\r\n",
                "Even though the table may be small SQL Server will \"push\" the WHERE clause filter to the remote table"
            ],
            "metadata": {}
        },
        {
            "cell_type": "code",
            "source": [
                "SELECT * FROM [hdfs].[WWI_Order_Reviews]\r\n",
                "WHERE OrderID = 1\r\n",
                "GO"
            ],
            "metadata": {},
            "outputs": [
                {
                    "output_type": "display_data",
                    "data": {
                        "text/html": "(1 row affected)"
                    },
                    "metadata": {}
                },
                {
                    "output_type": "display_data",
                    "data": {
                        "text/html": "Total execution time: 00:00:00.572"
                    },
                    "metadata": {}
                },
                {
                    "output_type": "execute_result",
                    "execution_count": 23,
                    "data": {
                        "application/vnd.dataresource+json": {
                            "schema": {
                                "fields": [
                                    {
                                        "name": "OrderID"
                                    },
                                    {
                                        "name": "CustomerID"
                                    },
                                    {
                                        "name": "Rating"
                                    },
                                    {
                                        "name": "Review_Comments"
                                    }
                                ]
                            },
                            "data": [
                                {
                                    "0": "1",
                                    "1": "832",
                                    "2": "10",
                                    "3": "I had a great experience with my order"
                                }
                            ]
                        },
                        "text/html": "<table><tr><th>OrderID</th><th>CustomerID</th><th>Rating</th><th>Review_Comments</th></tr><tr><td>1</td><td>832</td><td>10</td><td>I had a great experience with my order</td></tr></table>"
                    },
                    "metadata": {}
                }
            ],
            "execution_count": 23
        },
        {
            "cell_type": "markdown",
            "source": [
                "## Step 12: Join with local SQL Server tables\r\n",
                "Let's join the review with our order and customer data"
            ],
            "metadata": {}
        },
        {
            "cell_type": "code",
            "source": [
                "SELECT o.OrderDate, c.CustomerName, p.FullName as SalesPerson, wor.Rating, wor.Review_Comments\r\n",
                "FROM [Sales].[Orders] o\r\n",
                "JOIN [hdfs].[WWI_Order_Reviews] wor\r\n",
                "ON o.OrderID = wor.OrderID\r\n",
                "JOIN [Application].[People] p\r\n",
                "ON p.PersonID = o.SalespersonPersonID\r\n",
                "JOIN [Sales].[Customers] c\r\n",
                "ON c.CustomerID = wor.CustomerID\r\n",
                "GO"
            ],
            "metadata": {},
            "outputs": [
                {
                    "output_type": "display_data",
                    "data": {
                        "text/html": "(1 row affected)"
                    },
                    "metadata": {}
                },
                {
                    "output_type": "display_data",
                    "data": {
                        "text/html": "Total execution time: 00:00:00.504"
                    },
                    "metadata": {}
                },
                {
                    "output_type": "execute_result",
                    "execution_count": 24,
                    "data": {
                        "application/vnd.dataresource+json": {
                            "schema": {
                                "fields": [
                                    {
                                        "name": "OrderDate"
                                    },
                                    {
                                        "name": "CustomerName"
                                    },
                                    {
                                        "name": "SalesPerson"
                                    },
                                    {
                                        "name": "Rating"
                                    },
                                    {
                                        "name": "Review_Comments"
                                    }
                                ]
                            },
                            "data": [
                                {
                                    "0": "2013-01-01",
                                    "1": "Aakriti Byrraju",
                                    "2": "Kayla Woodcock",
                                    "3": "10",
                                    "4": "I had a great experience with my order"
                                }
                            ]
                        },
                        "text/html": "<table><tr><th>OrderDate</th><th>CustomerName</th><th>SalesPerson</th><th>Rating</th><th>Review_Comments</th></tr><tr><td>2013-01-01</td><td>Aakriti Byrraju</td><td>Kayla Woodcock</td><td>10</td><td>I had a great experience with my order</td></tr></table>"
                    },
                    "metadata": {}
                }
            ],
            "execution_count": 24
        },
        {
            "cell_type": "markdown",
            "source": "",
            "metadata": {}
        }
    ]
}