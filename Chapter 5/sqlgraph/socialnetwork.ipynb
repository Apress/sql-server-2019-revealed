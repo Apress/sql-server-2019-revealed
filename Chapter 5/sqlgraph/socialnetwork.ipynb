{
    "metadata": {
        "kernelspec": {
            "name": "SQL",
            "display_name": "SQL",
            "language": "sql"
        },
        "language_info": {
            "name": "sql",
            "version": ""
        }
    },
    "nbformat_minor": 2,
    "nbformat": 4,
    "cells": [
        {
            "cell_type": "markdown",
            "source": "# SQL Graph database example - A social network\r\nIn this example, you will learn how to build a graph database in the form of node and edges to simulate a social network.\r\n\r\nSteps 1-7 can be done with SQL Server 2017<br>\r\nSteps 8-9 require SQL Server 2019",
            "metadata": {}
        },
        {
            "cell_type": "markdown",
            "source": "## Step 1: Build the graph tables for the social network\r\nThe social network will consist of the following **node** tables:\r\n\r\nPerson<br>\r\nRestaurant<br>\r\nCity<br>\r\n\r\nAnd the following **edge** tables:\r\n\r\nfriendOf - Defines the relationship between People<br>\r\nlivesIn - What city do people live in<br>\r\nlocatedIn - What city is a restaurant located in<br>\r\nlikes - What restaurants do people like and how do they rate it<br>",
            "metadata": {}
        },
        {
            "cell_type": "code",
            "source": "USE master;\r\nGO\r\nDROP DATABASE IF EXISTS socialnetwork;\r\nGO\r\nCREATE DATABASE socialnetwork;\r\nGO\r\n\r\nUSE socialnetwork;\r\nGO\r\n\r\nDROP TABLE IF EXISTS Person;\r\nDROP TABLE IF EXISTS Restaurant;\r\nDROP TABLE IF EXISTS City;\r\nDROP TABLE IF EXISTS likes;\r\nDROP TABLE IF EXISTS friendOf;\r\nDROP TABLE IF EXISTS livesIn;\r\nDROP TABLE IF EXISTS locatedIn;\r\nGO\r\nCREATE TABLE Person (id INTEGER PRIMARY KEY NOT NULL, name VARCHAR(100) NOT NULL) AS NODE;\r\nCREATE TABLE Restaurant (id INTEGER PRIMARY KEY NOT NULL, name VARCHAR(100) NOT NULL, city VARCHAR(100) NOT NULL) AS NODE;\r\nCREATE TABLE City (id INTEGER PRIMARY KEY NOT NULL, name VARCHAR(100) NOT NULL, stateName VARCHAR(100) NOT NULL) AS NODE;\r\nCREATE TABLE friendOf AS EDGE;\r\nCREATE TABLE livesIn AS EDGE;\r\nCREATE TABLE locatedIn AS EDGE;\r\nCREATE TABLE likes (rating INTEGER) AS EDGE;\r\nGO",
            "metadata": {},
            "outputs": [
                {
                    "output_type": "display_data",
                    "data": {
                        "text/html": "Commands completed successfully."
                    },
                    "metadata": {}
                },
                {
                    "output_type": "display_data",
                    "data": {
                        "text/html": "Commands completed successfully."
                    },
                    "metadata": {}
                },
                {
                    "output_type": "display_data",
                    "data": {
                        "text/html": "Commands completed successfully."
                    },
                    "metadata": {}
                },
                {
                    "output_type": "display_data",
                    "data": {
                        "text/html": "Commands completed successfully."
                    },
                    "metadata": {}
                },
                {
                    "output_type": "display_data",
                    "data": {
                        "text/html": "Commands completed successfully."
                    },
                    "metadata": {}
                },
                {
                    "output_type": "display_data",
                    "data": {
                        "text/html": "Commands completed successfully."
                    },
                    "metadata": {}
                },
                {
                    "output_type": "display_data",
                    "data": {
                        "text/html": "Total execution time: 00:00:00.334"
                    },
                    "metadata": {}
                }
            ],
            "execution_count": 1
        },
        {
            "cell_type": "markdown",
            "source": "## Step 2: Populate the social network for the node tables\r\nInsert data into node tables. This populates all the people, restaraunts, and cities",
            "metadata": {}
        },
        {
            "cell_type": "code",
            "source": "INSERT INTO Person VALUES (1,'John');\r\nINSERT INTO Person VALUES (2,'Mary');\r\nINSERT INTO Person VALUES (3,'Alice');\r\nINSERT INTO Person VALUES (4,'Jacob');\r\nINSERT INTO Person VALUES (5,'Julie');\r\nINSERT INTO Person VALUES (6, 'Ginger');\r\nINSERT INTO Person VALUES (7, 'Ryan');\r\nGO\r\nINSERT INTO Restaurant VALUES (1,'Taco Dell','Bellevue');\r\nINSERT INTO Restaurant VALUES (2,'Ginger and Spice','Seattle');\r\nINSERT INTO Restaurant VALUES (3,'Noodle Land', 'Redmond');\r\nINSERT INTO RestaUrant VALUES (4,'BBQ Heaven', 'North Richland Hills');\r\nGO\r\nINSERT INTO City VALUES (1,'Bellevue','wa');\r\nINSERT INTO City VALUES (2,'Seattle','wa');\r\nINSERT INTO City VALUES (3,'Redmond','wa');\r\nINSERT INTO City VALUES (4, 'North Richland Hills', 'tx');\r\nGO",
            "metadata": {},
            "outputs": [
                {
                    "output_type": "display_data",
                    "data": {
                        "text/html": "(1 row affected)"
                    },
                    "metadata": {}
                },
                {
                    "output_type": "display_data",
                    "data": {
                        "text/html": "(1 row affected)"
                    },
                    "metadata": {}
                },
                {
                    "output_type": "display_data",
                    "data": {
                        "text/html": "(1 row affected)"
                    },
                    "metadata": {}
                },
                {
                    "output_type": "display_data",
                    "data": {
                        "text/html": "(1 row affected)"
                    },
                    "metadata": {}
                },
                {
                    "output_type": "display_data",
                    "data": {
                        "text/html": "(1 row affected)"
                    },
                    "metadata": {}
                },
                {
                    "output_type": "display_data",
                    "data": {
                        "text/html": "(1 row affected)"
                    },
                    "metadata": {}
                },
                {
                    "output_type": "display_data",
                    "data": {
                        "text/html": "(1 row affected)"
                    },
                    "metadata": {}
                },
                {
                    "output_type": "display_data",
                    "data": {
                        "text/html": "(1 row affected)"
                    },
                    "metadata": {}
                },
                {
                    "output_type": "display_data",
                    "data": {
                        "text/html": "(1 row affected)"
                    },
                    "metadata": {}
                },
                {
                    "output_type": "display_data",
                    "data": {
                        "text/html": "(1 row affected)"
                    },
                    "metadata": {}
                },
                {
                    "output_type": "display_data",
                    "data": {
                        "text/html": "(1 row affected)"
                    },
                    "metadata": {}
                },
                {
                    "output_type": "display_data",
                    "data": {
                        "text/html": "(1 row affected)"
                    },
                    "metadata": {}
                },
                {
                    "output_type": "display_data",
                    "data": {
                        "text/html": "(1 row affected)"
                    },
                    "metadata": {}
                },
                {
                    "output_type": "display_data",
                    "data": {
                        "text/html": "(1 row affected)"
                    },
                    "metadata": {}
                },
                {
                    "output_type": "display_data",
                    "data": {
                        "text/html": "(1 row affected)"
                    },
                    "metadata": {}
                },
                {
                    "output_type": "display_data",
                    "data": {
                        "text/html": "Total execution time: 00:00:00.085"
                    },
                    "metadata": {}
                }
            ],
            "execution_count": 2
        },
        {
            "cell_type": "markdown",
            "source": "## Step 3: Populate the relationships in the social network through the edge tables\r\nInsert data ito the edge tables. Notice the use of the $node_id keyword to insert the value from a node table.",
            "metadata": {}
        },
        {
            "cell_type": "code",
            "source": "INSERT INTO friendOf VALUES ((SELECT $NODE_ID FROM Person WHERE ID = 1), (SELECT $NODE_ID FROM Person WHERE ID = 2));\r\nINSERT INTO friendOf VALUES ((SELECT $NODE_ID FROM Person WHERE ID = 2), (SELECT $NODE_ID FROM Person WHERE ID = 3));\r\nINSERT INTO friendOf VALUES ((SELECT $NODE_ID FROM Person WHERE ID = 3), (SELECT $NODE_ID FROM Person WHERE ID = 1));\r\nINSERT INTO friendOf VALUES ((SELECT $NODE_ID FROM Person WHERE ID = 4), (SELECT $NODE_ID FROM Person WHERE ID = 2));\r\nINSERT INTO friendOf VALUES ((SELECT $NODE_ID FROM Person WHERE ID = 5), (SELECT $NODE_ID FROM Person WHERE ID = 4));\r\nINSERT INTO friendOf VALUES ((SELECT $NODE_ID FROM Person WHERE ID = 3), (SELECT $NODE_ID FROM Person WHERE ID = 6));\r\nINSERT INTO friendOf VALUES ((SELECT $NODE_ID FROM Person WHERE ID = 1), (SELECT $NODE_ID FROM Person WHERE ID = 5));\r\nINSERT INTO friendOf VALUES ((SELECT $NODE_ID FROM Person WHERE ID = 6), (SELECT $NODE_ID FROM Person WHERE ID = 7));\r\nGO\r\n\r\nINSERT INTO livesIn VALUES ((SELECT $node_id FROM Person WHERE ID = 1),\r\n      (SELECT $node_id FROM City WHERE ID = 1));\r\nINSERT INTO livesIn VALUES ((SELECT $node_id FROM Person WHERE ID = 2),\r\n      (SELECT $node_id FROM City WHERE ID = 2));\r\nINSERT INTO livesIn VALUES ((SELECT $node_id FROM Person WHERE ID = 3),\r\n      (SELECT $node_id FROM City WHERE ID = 3));\r\nINSERT INTO livesIn VALUES ((SELECT $node_id FROM Person WHERE ID = 4),\r\n      (SELECT $node_id FROM City WHERE ID = 3));\r\nINSERT INTO livesIn VALUES ((SELECT $node_id FROM Person WHERE ID = 5),\r\n      (SELECT $node_id FROM City WHERE ID = 1));\r\nINSERT INTO livesIn VALUES ((SELECT $node_id FROM Person WHERE ID = 6),\r\n      (SELECT $node_id FROM City WHERE ID = 4));\r\nINSERT INTO livesIn VALUES ((SELECT $node_id FROM Person WHERE ID = 7),\r\n      (SELECT $node_id FROM City WHERE ID = 4));\r\nGO\r\n\r\nINSERT INTO locatedIn VALUES ((SELECT $node_id FROM Restaurant WHERE ID = 1),\r\n      (SELECT $node_id FROM City WHERE ID =1));\r\nINSERT INTO locatedIn VALUES ((SELECT $node_id FROM Restaurant WHERE ID = 2),\r\n      (SELECT $node_id FROM City WHERE ID =2));\r\nINSERT INTO locatedIn VALUES ((SELECT $node_id FROM Restaurant WHERE ID = 3),\r\n      (SELECT $node_id FROM City WHERE ID =3));\r\nINSERT INTO locatedIn VALUES ((SELECT $node_id FROM Restaurant WHERE ID = 4),\r\n      (SELECT $node_id FROM City WHERE ID =4));\r\nGO\r\n\r\nINSERT INTO likes VALUES ((SELECT $node_id FROM Person WHERE ID = 1), \r\n       (SELECT $node_id FROM Restaurant WHERE ID = 1),9);\r\nINSERT INTO likes VALUES ((SELECT $node_id FROM Person WHERE ID = 2), \r\n      (SELECT $node_id FROM Restaurant WHERE ID = 2),9);\r\nINSERT INTO likes VALUES ((SELECT $node_id FROM Person WHERE ID = 3), \r\n      (SELECT $node_id FROM Restaurant WHERE ID = 3),9);\r\nINSERT INTO likes VALUES ((SELECT $node_id FROM Person WHERE ID = 4), \r\n      (SELECT $node_id FROM Restaurant WHERE ID = 3),6);\r\nINSERT INTO likes VALUES ((SELECT $node_id FROM Person WHERE ID = 5), \r\n      (SELECT $node_id FROM Restaurant WHERE ID = 3),9);\r\nINSERT INTO likes VALUES ((SELECT $node_id FROM Person WHERE ID = 6), \r\n      (SELECT $node_id FROM Restaurant WHERE ID = 4),10);\r\nINSERT INTO likes VALUES ((SELECT $node_id FROM Person WHERE ID = 7), \r\n      (SELECT $node_id FROM Restaurant WHERE ID = 4),10);\r\nGO",
            "metadata": {},
            "outputs": [
                {
                    "output_type": "display_data",
                    "data": {
                        "text/html": "(1 row affected)"
                    },
                    "metadata": {}
                },
                {
                    "output_type": "display_data",
                    "data": {
                        "text/html": "(1 row affected)"
                    },
                    "metadata": {}
                },
                {
                    "output_type": "display_data",
                    "data": {
                        "text/html": "(1 row affected)"
                    },
                    "metadata": {}
                },
                {
                    "output_type": "display_data",
                    "data": {
                        "text/html": "(1 row affected)"
                    },
                    "metadata": {}
                },
                {
                    "output_type": "display_data",
                    "data": {
                        "text/html": "(1 row affected)"
                    },
                    "metadata": {}
                },
                {
                    "output_type": "display_data",
                    "data": {
                        "text/html": "(1 row affected)"
                    },
                    "metadata": {}
                },
                {
                    "output_type": "display_data",
                    "data": {
                        "text/html": "(1 row affected)"
                    },
                    "metadata": {}
                },
                {
                    "output_type": "display_data",
                    "data": {
                        "text/html": "(1 row affected)"
                    },
                    "metadata": {}
                },
                {
                    "output_type": "display_data",
                    "data": {
                        "text/html": "(1 row affected)"
                    },
                    "metadata": {}
                },
                {
                    "output_type": "display_data",
                    "data": {
                        "text/html": "(1 row affected)"
                    },
                    "metadata": {}
                },
                {
                    "output_type": "display_data",
                    "data": {
                        "text/html": "(1 row affected)"
                    },
                    "metadata": {}
                },
                {
                    "output_type": "display_data",
                    "data": {
                        "text/html": "(1 row affected)"
                    },
                    "metadata": {}
                },
                {
                    "output_type": "display_data",
                    "data": {
                        "text/html": "(1 row affected)"
                    },
                    "metadata": {}
                },
                {
                    "output_type": "display_data",
                    "data": {
                        "text/html": "(1 row affected)"
                    },
                    "metadata": {}
                },
                {
                    "output_type": "display_data",
                    "data": {
                        "text/html": "(1 row affected)"
                    },
                    "metadata": {}
                },
                {
                    "output_type": "display_data",
                    "data": {
                        "text/html": "(1 row affected)"
                    },
                    "metadata": {}
                },
                {
                    "output_type": "display_data",
                    "data": {
                        "text/html": "(1 row affected)"
                    },
                    "metadata": {}
                },
                {
                    "output_type": "display_data",
                    "data": {
                        "text/html": "(1 row affected)"
                    },
                    "metadata": {}
                },
                {
                    "output_type": "display_data",
                    "data": {
                        "text/html": "(1 row affected)"
                    },
                    "metadata": {}
                },
                {
                    "output_type": "display_data",
                    "data": {
                        "text/html": "(1 row affected)"
                    },
                    "metadata": {}
                },
                {
                    "output_type": "display_data",
                    "data": {
                        "text/html": "(1 row affected)"
                    },
                    "metadata": {}
                },
                {
                    "output_type": "display_data",
                    "data": {
                        "text/html": "(1 row affected)"
                    },
                    "metadata": {}
                },
                {
                    "output_type": "display_data",
                    "data": {
                        "text/html": "(1 row affected)"
                    },
                    "metadata": {}
                },
                {
                    "output_type": "display_data",
                    "data": {
                        "text/html": "(1 row affected)"
                    },
                    "metadata": {}
                },
                {
                    "output_type": "display_data",
                    "data": {
                        "text/html": "(1 row affected)"
                    },
                    "metadata": {}
                },
                {
                    "output_type": "display_data",
                    "data": {
                        "text/html": "(1 row affected)"
                    },
                    "metadata": {}
                },
                {
                    "output_type": "display_data",
                    "data": {
                        "text/html": "Total execution time: 00:00:00.154"
                    },
                    "metadata": {}
                }
            ],
            "execution_count": 3
        },
        {
            "cell_type": "markdown",
            "source": "## Step 4: Who are my friends?\r\nJohn wants to find friends in his network. How does he find his *immediate* friends?",
            "metadata": {}
        },
        {
            "cell_type": "code",
            "source": "USE socialnetwork\r\nGO\r\nSELECT Person2.name AS FriendName\r\nFROM Person Person1, friendOf, Person Person2\r\nWHERE MATCH(Person1-(friendOf)->Person2)\r\nAND Person1.name = 'John';\r\nGO",
            "metadata": {},
            "outputs": [
                {
                    "output_type": "display_data",
                    "data": {
                        "text/html": "Commands completed successfully."
                    },
                    "metadata": {}
                },
                {
                    "output_type": "display_data",
                    "data": {
                        "text/html": "(2 rows affected)"
                    },
                    "metadata": {}
                },
                {
                    "output_type": "display_data",
                    "data": {
                        "text/html": "Total execution time: 00:00:00.162"
                    },
                    "metadata": {}
                },
                {
                    "output_type": "execute_result",
                    "execution_count": 4,
                    "data": {
                        "application/vnd.dataresource+json": {
                            "schema": {
                                "fields": [
                                    {
                                        "name": "FriendName"
                                    }
                                ]
                            },
                            "data": [
                                {
                                    "0": "Mary"
                                },
                                {
                                    "0": "Julie"
                                }
                            ]
                        },
                        "text/html": "<table><tr><th>FriendName</th></tr><tr><td>Mary</td></tr><tr><td>Julie</td></tr></table>"
                    },
                    "metadata": {}
                }
            ],
            "execution_count": 4
        },
        {
            "cell_type": "markdown",
            "source": "## Step 5: Who are the friends of my friends?\r\nJohn wants to know who are immediate friends of Mary and Julie. Notice this uses a 2nd level traversal of the graph of friends. John now knows he could possible add to his network of friends with Alice and Jacob using Mary and Julie as references.",
            "metadata": {}
        },
        {
            "cell_type": "code",
            "source": "SELECT person1.name +' is friends with ' + person2.name, + 'who is friends with '+ person3.name\r\nFROM Person person1, friendOf friend1, Person person2, friendOf friend2, Person person3\r\nWHERE MATCH(person1-(friend1)->person2-(friend2)->person3)\r\nAND person1.name = 'John';\r\nGO",
            "metadata": {},
            "outputs": [
                {
                    "output_type": "display_data",
                    "data": {
                        "text/html": "(2 rows affected)"
                    },
                    "metadata": {}
                },
                {
                    "output_type": "display_data",
                    "data": {
                        "text/html": "Total execution time: 00:00:00.025"
                    },
                    "metadata": {}
                },
                {
                    "output_type": "execute_result",
                    "execution_count": 5,
                    "data": {
                        "application/vnd.dataresource+json": {
                            "schema": {
                                "fields": [
                                    {
                                        "name": "(No column name)"
                                    },
                                    {
                                        "name": "(No column name)"
                                    }
                                ]
                            },
                            "data": [
                                {
                                    "0": "John is friends with Mary",
                                    "1": "who is friends with Alice"
                                },
                                {
                                    "0": "John is friends with Julie",
                                    "1": "who is friends with Jacob"
                                }
                            ]
                        },
                        "text/html": "<table><tr><th>(No column name)</th><th>(No column name)</th></tr><tr><td>John is friends with Mary</td><td>who is friends with Alice</td></tr><tr><td>John is friends with Julie</td><td>who is friends with Jacob</td></tr></table>"
                    },
                    "metadata": {}
                }
            ],
            "execution_count": 5
        },
        {
            "cell_type": "markdown",
            "source": "## Step 6: Find the restaraunts my friends like\r\nJohn is looking for a new restaurant and wants to know which restaurants his friends like\r\n",
            "metadata": {}
        },
        {
            "cell_type": "code",
            "source": "SELECT person2.name, Restaurant.name, likes.rating\r\nFROM Person person1, Person person2, likes, friendOf, Restaurant\r\nWHERE MATCH(person1-(friendOf)->person2-(likes)->Restaurant)\r\nAND person1.name='John';\r\nGO",
            "metadata": {},
            "outputs": [
                {
                    "output_type": "display_data",
                    "data": {
                        "text/html": "(2 rows affected)"
                    },
                    "metadata": {}
                },
                {
                    "output_type": "display_data",
                    "data": {
                        "text/html": "Total execution time: 00:00:00.036"
                    },
                    "metadata": {}
                },
                {
                    "output_type": "execute_result",
                    "execution_count": 6,
                    "data": {
                        "application/vnd.dataresource+json": {
                            "schema": {
                                "fields": [
                                    {
                                        "name": "name"
                                    },
                                    {
                                        "name": "name"
                                    },
                                    {
                                        "name": "rating"
                                    }
                                ]
                            },
                            "data": [
                                {
                                    "0": "Mary",
                                    "1": "Ginger and Spice",
                                    "2": "9"
                                },
                                {
                                    "0": "Julie",
                                    "1": "Noodle Land",
                                    "2": "9"
                                }
                            ]
                        },
                        "text/html": "<table><tr><th>name</th><th>name</th><th>rating</th></tr><tr><td>Mary</td><td>Ginger and Spice</td><td>9</td></tr><tr><td>Julie</td><td>Noodle Land</td><td>9</td></tr></table>"
                    },
                    "metadata": {}
                }
            ],
            "execution_count": 6
        },
        {
            "cell_type": "markdown",
            "source": "## Step 7: Who likes restaurants where they live\r\nJohn wants to see who likes restaurants in the cities they live in to find out what other choices are out there",
            "metadata": {}
        },
        {
            "cell_type": "code",
            "source": "SELECT Person.name, Restaurant.name, likes.rating, City.name\r\nFROM Person, likes, Restaurant, livesIn, City, locatedIn\r\nWHERE MATCH (Person-(likes)->Restaurant-(locatedIn)->City AND Person-(livesIn)->City);\r\nGO",
            "metadata": {},
            "outputs": [
                {
                    "output_type": "display_data",
                    "data": {
                        "text/html": "(6 rows affected)"
                    },
                    "metadata": {}
                },
                {
                    "output_type": "display_data",
                    "data": {
                        "text/html": "Total execution time: 00:00:00.039"
                    },
                    "metadata": {}
                },
                {
                    "output_type": "execute_result",
                    "execution_count": 7,
                    "data": {
                        "application/vnd.dataresource+json": {
                            "schema": {
                                "fields": [
                                    {
                                        "name": "name"
                                    },
                                    {
                                        "name": "name"
                                    },
                                    {
                                        "name": "rating"
                                    },
                                    {
                                        "name": "name"
                                    }
                                ]
                            },
                            "data": [
                                {
                                    "0": "John",
                                    "1": "Taco Dell",
                                    "2": "9",
                                    "3": "Bellevue"
                                },
                                {
                                    "0": "Mary",
                                    "1": "Ginger and Spice",
                                    "2": "9",
                                    "3": "Seattle"
                                },
                                {
                                    "0": "Alice",
                                    "1": "Noodle Land",
                                    "2": "9",
                                    "3": "Redmond"
                                },
                                {
                                    "0": "Jacob",
                                    "1": "Noodle Land",
                                    "2": "6",
                                    "3": "Redmond"
                                },
                                {
                                    "0": "Ginger",
                                    "1": "BBQ Heaven",
                                    "2": "10",
                                    "3": "North Richland Hills"
                                },
                                {
                                    "0": "Ryan",
                                    "1": "BBQ Heaven",
                                    "2": "10",
                                    "3": "North Richland Hills"
                                }
                            ]
                        },
                        "text/html": "<table><tr><th>name</th><th>name</th><th>rating</th><th>name</th></tr><tr><td>John</td><td>Taco Dell</td><td>9</td><td>Bellevue</td></tr><tr><td>Mary</td><td>Ginger and Spice</td><td>9</td><td>Seattle</td></tr><tr><td>Alice</td><td>Noodle Land</td><td>9</td><td>Redmond</td></tr><tr><td>Jacob</td><td>Noodle Land</td><td>6</td><td>Redmond</td></tr><tr><td>Ginger</td><td>BBQ Heaven</td><td>10</td><td>North Richland Hills</td></tr><tr><td>Ryan</td><td>BBQ Heaven</td><td>10</td><td>North Richland Hills</td></tr></table>"
                    },
                    "metadata": {}
                }
            ],
            "execution_count": 7
        },
        {
            "cell_type": "markdown",
            "source": "## Step 8: Find out my possible social network\r\nJohn wants to know what other possible friends are out there to expand his social network. He wants to dive deeper into levels of the graph for the network without having to go one level at a time. The SHORTEST_PATH() keyword can help. This step requires SQL Server 2019.\r\n\r\nJohn now see that Alice is friends with him but he has not listed Alice as friend. He also notices Ginger (and implictly Ryan) are friends with Alice. He noticed Ginger and Ryan are from Texas and he has a business trip soon there. He could possible talk to Alice about what Ginger and Ryan are like and whether he should try to become friends with them too (and potentially try their favorite BBQ place).",
            "metadata": {}
        },
        {
            "cell_type": "code",
            "source": "SELECT\r\n\tPerson1.name AS PersonName, \r\n\tSTRING_AGG(Person2.name, '->') WITHIN GROUP (GRAPH PATH) AS Friends\r\nFROM\r\n\tPerson AS Person1,\r\n\tfriendOf FOR PATH AS fo,\r\n\tPerson FOR PATH  AS Person2\r\nWHERE MATCH(SHORTEST_PATH(Person1(-(fo)->Person2)+))\r\nAND Person1.name = 'John';\r\nGO",
            "metadata": {},
            "outputs": [
                {
                    "output_type": "display_data",
                    "data": {
                        "text/html": "(7 rows affected)"
                    },
                    "metadata": {}
                },
                {
                    "output_type": "display_data",
                    "data": {
                        "text/html": "Total execution time: 00:00:00.008"
                    },
                    "metadata": {}
                },
                {
                    "output_type": "execute_result",
                    "execution_count": 9,
                    "data": {
                        "application/vnd.dataresource+json": {
                            "schema": {
                                "fields": [
                                    {
                                        "name": "PersonName"
                                    },
                                    {
                                        "name": "Friends"
                                    }
                                ]
                            },
                            "data": [
                                {
                                    "0": "John",
                                    "1": "Mary"
                                },
                                {
                                    "0": "John",
                                    "1": "Julie"
                                },
                                {
                                    "0": "John",
                                    "1": "Mary->Alice"
                                },
                                {
                                    "0": "John",
                                    "1": "Julie->Jacob"
                                },
                                {
                                    "0": "John",
                                    "1": "Mary->Alice->John"
                                },
                                {
                                    "0": "John",
                                    "1": "Mary->Alice->Ginger"
                                },
                                {
                                    "0": "John",
                                    "1": "Mary->Alice->Ginger->Ryan"
                                }
                            ]
                        },
                        "text/html": "<table><tr><th>PersonName</th><th>Friends</th></tr><tr><td>John</td><td>Mary</td></tr><tr><td>John</td><td>Julie</td></tr><tr><td>John</td><td>Mary-&gt;Alice</td></tr><tr><td>John</td><td>Julie-&gt;Jacob</td></tr><tr><td>John</td><td>Mary-&gt;Alice-&gt;John</td></tr><tr><td>John</td><td>Mary-&gt;Alice-&gt;Ginger</td></tr><tr><td>John</td><td>Mary-&gt;Alice-&gt;Ginger-&gt;Ryan</td></tr></table>"
                    },
                    "metadata": {}
                }
            ],
            "execution_count": 9
        },
        {
            "cell_type": "markdown",
            "source": "## Step 9: Find the quickest way to become friends\r\nJacob wants to become friends with Alice through her friends. But he doesn't want to traverse the network of friends manually one level at a time. He can use SHORTEST_PATH() to find the quickest way to become friends with Alice.",
            "metadata": {}
        },
        {
            "cell_type": "code",
            "source": "SELECT PersonName, Friends\r\nFROM (\t\r\n\tSELECT\r\n\t\tPerson1.name AS PersonName, \r\n\t\tSTRING_AGG(Person2.name, '->') WITHIN GROUP (GRAPH PATH) AS Friends,\r\n\t\tLAST_VALUE(Person2.name) WITHIN GROUP (GRAPH PATH) AS LastNode\r\n\tFROM\r\n\t\tPerson AS Person1,\r\n\t\tfriendOf FOR PATH AS fo,\r\n\t\tPerson FOR PATH  AS Person2\r\n\tWHERE MATCH(SHORTEST_PATH(Person1(-(fo)->Person2)+))\r\n\tAND Person1.name = 'Jacob'\r\n) AS Q\r\nWHERE Q.LastNode = 'Alice';\r\nGO",
            "metadata": {},
            "outputs": [
                {
                    "output_type": "display_data",
                    "data": {
                        "text/html": "(1 row affected)"
                    },
                    "metadata": {}
                },
                {
                    "output_type": "display_data",
                    "data": {
                        "text/html": "Total execution time: 00:00:00.067"
                    },
                    "metadata": {}
                },
                {
                    "output_type": "execute_result",
                    "execution_count": 10,
                    "data": {
                        "application/vnd.dataresource+json": {
                            "schema": {
                                "fields": [
                                    {
                                        "name": "PersonName"
                                    },
                                    {
                                        "name": "Friends"
                                    }
                                ]
                            },
                            "data": [
                                {
                                    "0": "Jacob",
                                    "1": "Mary->Alice"
                                }
                            ]
                        },
                        "text/html": "<table><tr><th>PersonName</th><th>Friends</th></tr><tr><td>Jacob</td><td>Mary-&gt;Alice</td></tr></table>"
                    },
                    "metadata": {}
                }
            ],
            "execution_count": 0
        }
    ]
}