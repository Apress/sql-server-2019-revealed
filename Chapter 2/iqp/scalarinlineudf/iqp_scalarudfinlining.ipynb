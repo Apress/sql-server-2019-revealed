{
    "metadata": {
        "kernelspec": {
            "name": "SQL",
            "display_name": "SQL",
            "language": "sql"
        },
        "language_info": {
            "name": "sql",
            "version": ""
        }
    },
    "nbformat_minor": 2,
    "nbformat": 4,
    "cells": [
        {
            "cell_type": "markdown",
            "source": "# Intelligent Query Processing\r\n## Scalar UDF Inlining\r\nScalar User Defined Function (UDF) inlining is an example of Intelligent Query Processing that can be enabled with database compatibility level 150 or higher. Follow the steps in this notebook to see the performance difference when scalar UDF are not inlined.\r\n\r\n**Prerequisites**: Restore the WideWorldImportersDW full backup. Then run the **extendwwidw.sql** script to customize the database. If you have already done this, proceed to the next steps",
            "metadata": {}
        },
        {
            "cell_type": "markdown",
            "source": "## Step 1: Create a scalar UDF\r\nCreate a function that will take a customerID as input and return a category classification based on the customer order history total spend.",
            "metadata": {}
        },
        {
            "cell_type": "code",
            "source": "-- Step 1: Create a new function to get a customer category based on their order spend\r\nUSE WideWorldImportersDW\r\nGO\r\n\r\nCREATE OR ALTER FUNCTION [Dimension].[customer_category](@CustomerKey INT) \r\nRETURNS CHAR(10) AS\r\nBEGIN\r\nDECLARE @total_amount DECIMAL(18,2);\r\nDECLARE @category CHAR(10);\r\n\r\nSELECT @total_amount = \tSUM([Total Including Tax]) \r\nFROM [Fact].[OrderHistory]\r\nWHERE [Customer Key] = @CustomerKey\r\n\r\nIF @total_amount < 3000000\r\n SET @category = 'REGULAR'\r\nELSE IF @total_amount < 4500000\r\n SET @category = 'GOLD'\r\nELSE \r\n SET @category = 'PLATINUM'\r\n\r\nRETURN @category\r\nEND\r\nGO",
            "metadata": {},
            "outputs": [
                {
                    "output_type": "display_data",
                    "data": {
                        "text/html": "Commands completed successfully."
                    },
                    "metadata": {}
                },
                {
                    "output_type": "display_data",
                    "data": {
                        "text/html": "Total execution time: 00:00:00.0009826"
                    },
                    "metadata": {}
                },
                {
                    "output_type": "display_data",
                    "data": {
                        "text/html": "Commands completed successfully."
                    },
                    "metadata": {}
                },
                {
                    "output_type": "display_data",
                    "data": {
                        "text/html": "Total execution time: 00:00:00.0192480"
                    },
                    "metadata": {}
                }
            ],
            "execution_count": 1
        },
        {
            "cell_type": "markdown",
            "source": "## Step 2: Setup the database\r\nChange to dbcompat 150, clear the procedure cache of the database, and warm the cache",
            "metadata": {}
        },
        {
            "cell_type": "code",
            "source": "-- Step 2: Set the database to db compat 150, clear the procedure cache from previous executions, and make the comparison fair by warming the cache\r\nALTER DATABASE WideWorldImportersDW \r\nSET COMPATIBILITY_LEVEL = 150\r\nGO\r\nALTER DATABASE SCOPED CONFIGURATION \r\nCLEAR PROCEDURE_CACHE\r\nGO\r\nSELECT COUNT(*) FROM [Fact].[OrderHistory]\r\nGO",
            "metadata": {},
            "outputs": [
                {
                    "output_type": "display_data",
                    "data": {
                        "text/html": "Commands completed successfully."
                    },
                    "metadata": {}
                },
                {
                    "output_type": "display_data",
                    "data": {
                        "text/html": "Total execution time: 00:00:00.0042106"
                    },
                    "metadata": {}
                },
                {
                    "output_type": "display_data",
                    "data": {
                        "text/html": "Commands completed successfully."
                    },
                    "metadata": {}
                },
                {
                    "output_type": "display_data",
                    "data": {
                        "text/html": "Total execution time: 00:00:00.0042789"
                    },
                    "metadata": {}
                },
                {
                    "output_type": "display_data",
                    "data": {
                        "text/html": "(1 row affected)"
                    },
                    "metadata": {}
                },
                {
                    "output_type": "display_data",
                    "data": {
                        "text/html": "Total execution time: 00:00:00.1079508"
                    },
                    "metadata": {}
                },
                {
                    "output_type": "execute_result",
                    "metadata": {},
                    "execution_count": 2,
                    "data": {
                        "application/vnd.dataresource+json": {
                            "schema": {
                                "fields": [
                                    {
                                        "name": "(No column name)"
                                    }
                                ]
                            },
                            "data": [
                                {
                                    "0": "3702592"
                                }
                            ]
                        },
                        "text/html": "<table><tr><th>(No column name)</th></tr><tr><td>3702592</td></tr></table>"
                    }
                }
            ],
            "execution_count": 2
        },
        {
            "cell_type": "markdown",
            "source": "## Step 3: Run the query without scalar UDF inlining\r\nSince the database as dbcompat = 150, use a query hint to temporarily turn off scalar UDF inlining",
            "metadata": {}
        },
        {
            "cell_type": "code",
            "source": "-- Step 3: Run the query but disable the use of scalar inlining using a query hint\r\nSELECT [Customer Key], [Customer], [Dimension].[customer_category]([Customer Key]) AS [Discount Price]\r\nFROM [Dimension].[Customer]\r\nORDER BY [Customer Key]\r\nOPTION (USE HINT('DISABLE_TSQL_SCALAR_UDF_INLINING'))\r\nGO",
            "metadata": {},
            "outputs": [
                {
                    "output_type": "display_data",
                    "data": {
                        "text/html": "(403 rows affected)"
                    },
                    "metadata": {}
                },
                {
                    "output_type": "display_data",
                    "data": {
                        "text/html": "Total execution time: 00:00:43.8651651"
                    },
                    "metadata": {}
                },
                {
                    "output_type": "execute_result",
                    "metadata": {},
                    "execution_count": 3,
                    "data": {
                        "application/vnd.dataresource+json": {
                            "schema": {
                                "fields": [
                                    {
                                        "name": "Customer Key"
                                    },
                                    {
                                        "name": "Customer"
                                    },
                                    {
                                        "name": "Discount Price"
                                    }
                                ]
                            },
                            "data": [
                                {
                                    "0": "0",
                                    "1": "Unknown",
                                    "2": "PLATINUM  "
                                },
                                {
                                    "0": "1",
                                    "1": "Tailspin Toys (Head Office)",
                                    "2": "PLATINUM  "
                                },
                                {
                                    "0": "2",
                                    "1": "Tailspin Toys (Sylvanite, MT)",
                                    "2": "GOLD      "
                                },
                                {
                                    "0": "3",
                                    "1": "Tailspin Toys (Peeples Valley, AZ)",
                                    "2": "PLATINUM  "
                                },
                                {
                                    "0": "4",
                                    "1": "Tailspin Toys (Medicine Lodge, KS)",
                                    "2": "PLATINUM  "
                                },
                                {
                                    "0": "5",
                                    "1": "Tailspin Toys (Gasport, NY)",
                                    "2": "PLATINUM  "
                                },
                                {
                                    "0": "6",
                                    "1": "Tailspin Toys (Jessie, ND)",
                                    "2": "PLATINUM  "
                                },
                                {
                                    "0": "7",
                                    "1": "Tailspin Toys (Frankewing, TN)",
                                    "2": "PLATINUM  "
                                },
                                {
                                    "0": "8",
                                    "1": "Tailspin Toys (Bow Mar, CO)",
                                    "2": "GOLD      "
                                },
                                {
                                    "0": "9",
                                    "1": "Tailspin Toys (Netcong, NJ)",
                                    "2": "PLATINUM  "
                                },
                                {
                                    "0": "10",
                                    "1": "Tailspin Toys (Wimbledon, ND)",
                                    "2": "PLATINUM  "
                                },
                                {
                                    "0": "11",
                                    "1": "Tailspin Toys (Devault, PA)",
                                    "2": "PLATINUM  "
                                },
                                {
                                    "0": "12",
                                    "1": "Tailspin Toys (Biscay, MN)",
                                    "2": "PLATINUM  "
                                },
                                {
                                    "0": "13",
                                    "1": "Tailspin Toys (Stonefort, IL)",
                                    "2": "GOLD      "
                                },
                                {
                                    "0": "14",
                                    "1": "Tailspin Toys (Long Meadow, MD)",
                                    "2": "PLATINUM  "
                                },
                                {
                                    "0": "15",
                                    "1": "Tailspin Toys (Batson, TX)",
                                    "2": "PLATINUM  "
                                },
                                {
                                    "0": "16",
                                    "1": "Tailspin Toys (Coney Island, MO)",
                                    "2": "PLATINUM  "
                                },
                                {
                                    "0": "17",
                                    "1": "Tailspin Toys (East Fultonham, OH)",
                                    "2": "PLATINUM  "
                                },
                                {
                                    "0": "18",
                                    "1": "Tailspin Toys (Goffstown, NH)",
                                    "2": "PLATINUM  "
                                },
                                {
                                    "0": "19",
                                    "1": "Tailspin Toys (Lemeta, AK)",
                                    "2": "GOLD      "
                                },
                                {
                                    "0": "20",
                                    "1": "Tailspin Toys (College Place, WA)",
                                    "2": "GOLD      "
                                },
                                {
                                    "0": "21",
                                    "1": "Tailspin Toys (Tresckow, PA)",
                                    "2": "PLATINUM  "
                                },
                                {
                                    "0": "22",
                                    "1": "Tailspin Toys (Ward Ridge, FL)",
                                    "2": "GOLD      "
                                },
                                {
                                    "0": "23",
                                    "1": "Tailspin Toys (Ikatan, AK)",
                                    "2": "GOLD      "
                                },
                                {
                                    "0": "24",
                                    "1": "Tailspin Toys (Dundarrach, NC)",
                                    "2": "GOLD      "
                                },
                                {
                                    "0": "25",
                                    "1": "Tailspin Toys (Avenal, CA)",
                                    "2": "PLATINUM  "
                                },
                                {
                                    "0": "26",
                                    "1": "Tailspin Toys (Hedrick, IA)",
                                    "2": "PLATINUM  "
                                },
                                {
                                    "0": "27",
                                    "1": "Tailspin Toys (Bowlus, MN)",
                                    "2": "PLATINUM  "
                                },
                                {
                                    "0": "28",
                                    "1": "Tailspin Toys (North Ridge, NY)",
                                    "2": "PLATINUM  "
                                },
                                {
                                    "0": "29",
                                    "1": "Tailspin Toys (Eulaton, AL)",
                                    "2": "PLATINUM  "
                                },
                                {
                                    "0": "30",
                                    "1": "Tailspin Toys (Koontzville, WA)",
                                    "2": "PLATINUM  "
                                },
                                {
                                    "0": "31",
                                    "1": "Tailspin Toys (Lake Stevens, WA)",
                                    "2": "PLATINUM  "
                                },
                                {
                                    "0": "32",
                                    "1": "Tailspin Toys (Maypearl, TX)",
                                    "2": "PLATINUM  "
                                },
                                {
                                    "0": "33",
                                    "1": "Tailspin Toys (Boyden Arbor, SC)",
                                    "2": "PLATINUM  "
                                },
                                {
                                    "0": "34",
                                    "1": "Tailspin Toys (Dallardsville, TX)",
                                    "2": "PLATINUM  "
                                },
                                {
                                    "0": "35",
                                    "1": "Tailspin Toys (Slanesville, WV)",
                                    "2": "PLATINUM  "
                                },
                                {
                                    "0": "36",
                                    "1": "Tailspin Toys (Ekron, KY)",
                                    "2": "GOLD      "
                                },
                                {
                                    "0": "37",
                                    "1": "Tailspin Toys (Kerby, OR)",
                                    "2": "PLATINUM  "
                                },
                                {
                                    "0": "38",
                                    "1": "Tailspin Toys (Airport Drive, MO)",
                                    "2": "PLATINUM  "
                                },
                                {
                                    "0": "39",
                                    "1": "Tailspin Toys (Diablock, KY)",
                                    "2": "GOLD      "
                                },
                                {
                                    "0": "40",
                                    "1": "Tailspin Toys (Impact, TX)",
                                    "2": "PLATINUM  "
                                },
                                {
                                    "0": "41",
                                    "1": "Tailspin Toys (Olivette, MO)",
                                    "2": "GOLD      "
                                },
                                {
                                    "0": "42",
                                    "1": "Tailspin Toys (Arietta, NY)",
                                    "2": "PLATINUM  "
                                },
                                {
                                    "0": "43",
                                    "1": "Tailspin Toys (Upper Preston, WA)",
                                    "2": "PLATINUM  "
                                },
                                {
                                    "0": "44",
                                    "1": "Tailspin Toys (Amanda Park, WA)",
                                    "2": "PLATINUM  "
                                },
                                {
                                    "0": "45",
                                    "1": "Tailspin Toys (Severna Park, MD)",
                                    "2": "PLATINUM  "
                                },
                                {
                                    "0": "46",
                                    "1": "Tailspin Toys (Jemison, AL)",
                                    "2": "PLATINUM  "
                                },
                                {
                                    "0": "47",
                                    "1": "Tailspin Toys (Lake Hughes, CA)",
                                    "2": "GOLD      "
                                },
                                {
                                    "0": "48",
                                    "1": "Tailspin Toys (Trentwood, WA)",
                                    "2": "PLATINUM  "
                                },
                                {
                                    "0": "49",
                                    "1": "Tailspin Toys (Muir, MI)",
                                    "2": "GOLD      "
                                },
                                {
                                    "0": "50",
                                    "1": "Tailspin Toys (Hambleton, WV)",
                                    "2": "PLATINUM  "
                                },
                                {
                                    "0": "51",
                                    "1": "Tailspin Toys (Imlaystown, NJ)",
                                    "2": "PLATINUM  "
                                },
                                {
                                    "0": "52",
                                    "1": "Tailspin Toys (Idria, CA)",
                                    "2": "PLATINUM  "
                                },
                                {
                                    "0": "53",
                                    "1": "Tailspin Toys (Nanafalia, AL)",
                                    "2": "PLATINUM  "
                                },
                                {
                                    "0": "54",
                                    "1": "Tailspin Toys (Railroad, PA)",
                                    "2": "GOLD      "
                                },
                                {
                                    "0": "55",
                                    "1": "Tailspin Toys (Gum Branch, GA)",
                                    "2": "PLATINUM  "
                                },
                                {
                                    "0": "56",
                                    "1": "Tailspin Toys (Royal City, WA)",
                                    "2": "PLATINUM  "
                                },
                                {
                                    "0": "57",
                                    "1": "Tailspin Toys (Lakemore, OH)",
                                    "2": "GOLD      "
                                },
                                {
                                    "0": "58",
                                    "1": "Tailspin Toys (Mappsburg, VA)",
                                    "2": "PLATINUM  "
                                },
                                {
                                    "0": "59",
                                    "1": "Tailspin Toys (Edgartown, MA)",
                                    "2": "PLATINUM  "
                                },
                                {
                                    "0": "60",
                                    "1": "Tailspin Toys (East Dailey, WV)",
                                    "2": "GOLD      "
                                },
                                {
                                    "0": "61",
                                    "1": "Tailspin Toys (Fairfield Glade, TN)",
                                    "2": "GOLD      "
                                },
                                {
                                    "0": "62",
                                    "1": "Tailspin Toys (Great Neck Estates, NY)",
                                    "2": "GOLD      "
                                },
                                {
                                    "0": "63",
                                    "1": "Tailspin Toys (Stallion Springs, CA)",
                                    "2": "PLATINUM  "
                                },
                                {
                                    "0": "64",
                                    "1": "Tailspin Toys (Hodgdon, ME)",
                                    "2": "PLATINUM  "
                                },
                                {
                                    "0": "65",
                                    "1": "Tailspin Toys (North Cowden, TX)",
                                    "2": "PLATINUM  "
                                },
                                {
                                    "0": "66",
                                    "1": "Tailspin Toys (Madaket, MA)",
                                    "2": "GOLD      "
                                },
                                {
                                    "0": "67",
                                    "1": "Tailspin Toys (Sentinel Butte, ND)",
                                    "2": "PLATINUM  "
                                },
                                {
                                    "0": "68",
                                    "1": "Tailspin Toys (Gardere, LA)",
                                    "2": "PLATINUM  "
                                },
                                {
                                    "0": "69",
                                    "1": "Tailspin Toys (Lytle Creek, CA)",
                                    "2": "PLATINUM  "
                                },
                                {
                                    "0": "70",
                                    "1": "Tailspin Toys (New Baden, IL)",
                                    "2": "PLATINUM  "
                                },
                                {
                                    "0": "71",
                                    "1": "Tailspin Toys (Good Hart, MI)",
                                    "2": "PLATINUM  "
                                },
                                {
                                    "0": "72",
                                    "1": "Tailspin Toys (Cortaro, AZ)",
                                    "2": "PLATINUM  "
                                },
                                {
                                    "0": "73",
                                    "1": "Tailspin Toys (Cokato, MN)",
                                    "2": "GOLD      "
                                },
                                {
                                    "0": "74",
                                    "1": "Tailspin Toys (Indios, PR)",
                                    "2": "PLATINUM  "
                                },
                                {
                                    "0": "75",
                                    "1": "Tailspin Toys (Windsor Locks, CT)",
                                    "2": "PLATINUM  "
                                },
                                {
                                    "0": "76",
                                    "1": "Tailspin Toys (Yewed, OK)",
                                    "2": "GOLD      "
                                },
                                {
                                    "0": "77",
                                    "1": "Tailspin Toys (Hahira, GA)",
                                    "2": "PLATINUM  "
                                },
                                {
                                    "0": "78",
                                    "1": "Tailspin Toys (Sekiu, WA)",
                                    "2": "PLATINUM  "
                                },
                                {
                                    "0": "79",
                                    "1": "Tailspin Toys (Page City, KS)",
                                    "2": "PLATINUM  "
                                },
                                {
                                    "0": "80",
                                    "1": "Tailspin Toys (Valdese, NC)",
                                    "2": "PLATINUM  "
                                },
                                {
                                    "0": "81",
                                    "1": "Tailspin Toys (Big Moose, NY)",
                                    "2": "PLATINUM  "
                                },
                                {
                                    "0": "82",
                                    "1": "Tailspin Toys (La Cueva, NM)",
                                    "2": "PLATINUM  "
                                },
                                {
                                    "0": "83",
                                    "1": "Tailspin Toys (Absecon, NJ)",
                                    "2": "PLATINUM  "
                                },
                                {
                                    "0": "84",
                                    "1": "Tailspin Toys (Aceitunas, PR)",
                                    "2": "PLATINUM  "
                                },
                                {
                                    "0": "85",
                                    "1": "Tailspin Toys (Andrix, CO)",
                                    "2": "PLATINUM  "
                                },
                                {
                                    "0": "86",
                                    "1": "Tailspin Toys (New Lexington, OH)",
                                    "2": "PLATINUM  "
                                },
                                {
                                    "0": "87",
                                    "1": "Tailspin Toys (Sauquoit, NY)",
                                    "2": "PLATINUM  "
                                },
                                {
                                    "0": "88",
                                    "1": "Tailspin Toys (Dracut, MA)",
                                    "2": "PLATINUM  "
                                },
                                {
                                    "0": "89",
                                    "1": "Tailspin Toys (Victory Gardens, NJ)",
                                    "2": "PLATINUM  "
                                },
                                {
                                    "0": "90",
                                    "1": "Tailspin Toys (Tolna, ND)",
                                    "2": "PLATINUM  "
                                },
                                {
                                    "0": "91",
                                    "1": "Tailspin Toys (Alstead, NH)",
                                    "2": "GOLD      "
                                },
                                {
                                    "0": "92",
                                    "1": "Tailspin Toys (Sans Souci, SC)",
                                    "2": "PLATINUM  "
                                },
                                {
                                    "0": "93",
                                    "1": "Tailspin Toys (Clewiston, FL)",
                                    "2": "PLATINUM  "
                                },
                                {
                                    "0": "94",
                                    "1": "Tailspin Toys (Cheyenne Wells, CO)",
                                    "2": "PLATINUM  "
                                },
                                {
                                    "0": "95",
                                    "1": "Tailspin Toys (Lavon, TX)",
                                    "2": "GOLD      "
                                },
                                {
                                    "0": "96",
                                    "1": "Tailspin Toys (South La Paloma, TX)",
                                    "2": "PLATINUM  "
                                },
                                {
                                    "0": "97",
                                    "1": "Tailspin Toys (Manchester Center, VT)",
                                    "2": "PLATINUM  "
                                },
                                {
                                    "0": "98",
                                    "1": "Tailspin Toys (El Centro, CA)",
                                    "2": "PLATINUM  "
                                },
                                {
                                    "0": "99",
                                    "1": "Tailspin Toys (Guin, AL)",
                                    "2": "PLATINUM  "
                                },
                                {
                                    "0": "100",
                                    "1": "Tailspin Toys (Tunnelhill, PA)",
                                    "2": "GOLD      "
                                },
                                {
                                    "0": "101",
                                    "1": "Tailspin Toys (Cundiyo, NM)",
                                    "2": "PLATINUM  "
                                },
                                {
                                    "0": "102",
                                    "1": "Tailspin Toys (Fieldbrook, CA)",
                                    "2": "PLATINUM  "
                                },
                                {
                                    "0": "103",
                                    "1": "Tailspin Toys (Kalvesta, KS)",
                                    "2": "PLATINUM  "
                                },
                                {
                                    "0": "104",
                                    "1": "Tailspin Toys (Wallagrass, ME)",
                                    "2": "GOLD      "
                                },
                                {
                                    "0": "105",
                                    "1": "Tailspin Toys (Tomnolen, MS)",
                                    "2": "GOLD      "
                                },
                                {
                                    "0": "106",
                                    "1": "Tailspin Toys (Tumacacori, AZ)",
                                    "2": "PLATINUM  "
                                },
                                {
                                    "0": "107",
                                    "1": "Tailspin Toys (Glen Avon, CA)",
                                    "2": "PLATINUM  "
                                },
                                {
                                    "0": "108",
                                    "1": "Tailspin Toys (Bernie, MO)",
                                    "2": "PLATINUM  "
                                },
                                {
                                    "0": "109",
                                    "1": "Tailspin Toys (South Laguna, CA)",
                                    "2": "PLATINUM  "
                                },
                                {
                                    "0": "110",
                                    "1": "Tailspin Toys (North Crows Nest, IN)",
                                    "2": "PLATINUM  "
                                },
                                {
                                    "0": "111",
                                    "1": "Tailspin Toys (Oriole Beach, FL)",
                                    "2": "GOLD      "
                                },
                                {
                                    "0": "112",
                                    "1": "Tailspin Toys (Sallyards, KS)",
                                    "2": "PLATINUM  "
                                },
                                {
                                    "0": "113",
                                    "1": "Tailspin Toys (Dahlia, NM)",
                                    "2": "PLATINUM  "
                                },
                                {
                                    "0": "114",
                                    "1": "Tailspin Toys (Cherry Grove Beach, SC)",
                                    "2": "PLATINUM  "
                                },
                                {
                                    "0": "115",
                                    "1": "Tailspin Toys (Bethania, NC)",
                                    "2": "PLATINUM  "
                                },
                                {
                                    "0": "116",
                                    "1": "Tailspin Toys (Rafael Capó, PR)",
                                    "2": "PLATINUM  "
                                },
                                {
                                    "0": "117",
                                    "1": "Tailspin Toys (Scofield, UT)",
                                    "2": "PLATINUM  "
                                },
                                {
                                    "0": "118",
                                    "1": "Tailspin Toys (Vassalboro, ME)",
                                    "2": "PLATINUM  "
                                },
                                {
                                    "0": "119",
                                    "1": "Tailspin Toys (Statenville, GA)",
                                    "2": "PLATINUM  "
                                },
                                {
                                    "0": "120",
                                    "1": "Tailspin Toys (Bratenahl, OH)",
                                    "2": "GOLD      "
                                },
                                {
                                    "0": "121",
                                    "1": "Tailspin Toys (Elrosa, MN)",
                                    "2": "PLATINUM  "
                                },
                                {
                                    "0": "122",
                                    "1": "Tailspin Toys (McClave, CO)",
                                    "2": "PLATINUM  "
                                },
                                {
                                    "0": "123",
                                    "1": "Tailspin Toys (Roe Park, NY)",
                                    "2": "PLATINUM  "
                                },
                                {
                                    "0": "124",
                                    "1": "Tailspin Toys (Hanoverton, OH)",
                                    "2": "PLATINUM  "
                                },
                                {
                                    "0": "125",
                                    "1": "Tailspin Toys (Annamoriah, WV)",
                                    "2": "PLATINUM  "
                                },
                                {
                                    "0": "126",
                                    "1": "Tailspin Toys (Francis Mills, NJ)",
                                    "2": "GOLD      "
                                },
                                {
                                    "0": "127",
                                    "1": "Tailspin Toys (Point Roberts, WA)",
                                    "2": "PLATINUM  "
                                },
                                {
                                    "0": "128",
                                    "1": "Tailspin Toys (East Portal, CO)",
                                    "2": "PLATINUM  "
                                },
                                {
                                    "0": "129",
                                    "1": "Tailspin Toys (Mineral Hills, MI)",
                                    "2": "PLATINUM  "
                                },
                                {
                                    "0": "130",
                                    "1": "Tailspin Toys (Maple Shade, NJ)",
                                    "2": "PLATINUM  "
                                },
                                {
                                    "0": "131",
                                    "1": "Tailspin Toys (Kwethluk, AK)",
                                    "2": "PLATINUM  "
                                },
                                {
                                    "0": "132",
                                    "1": "Tailspin Toys (Minidoka, ID)",
                                    "2": "PLATINUM  "
                                },
                                {
                                    "0": "133",
                                    "1": "Tailspin Toys (Lake Erie Beach, NY)",
                                    "2": "PLATINUM  "
                                },
                                {
                                    "0": "134",
                                    "1": "Tailspin Toys (Tavares, FL)",
                                    "2": "PLATINUM  "
                                },
                                {
                                    "0": "135",
                                    "1": "Tailspin Toys (Terre du Lac, MO)",
                                    "2": "PLATINUM  "
                                },
                                {
                                    "0": "136",
                                    "1": "Tailspin Toys (Mount Montgomery, NV)",
                                    "2": "PLATINUM  "
                                },
                                {
                                    "0": "137",
                                    "1": "Tailspin Toys (Carbonville, UT)",
                                    "2": "PLATINUM  "
                                },
                                {
                                    "0": "138",
                                    "1": "Tailspin Toys (Navassa, NC)",
                                    "2": "PLATINUM  "
                                },
                                {
                                    "0": "139",
                                    "1": "Tailspin Toys (Hardeeville, SC)",
                                    "2": "PLATINUM  "
                                },
                                {
                                    "0": "140",
                                    "1": "Tailspin Toys (Furley, KS)",
                                    "2": "PLATINUM  "
                                },
                                {
                                    "0": "141",
                                    "1": "Tailspin Toys (Arrow Rock, MO)",
                                    "2": "GOLD      "
                                },
                                {
                                    "0": "142",
                                    "1": "Tailspin Toys (King Cove, AK)",
                                    "2": "PLATINUM  "
                                },
                                {
                                    "0": "143",
                                    "1": "Tailspin Toys (Ashtabula, OH)",
                                    "2": "PLATINUM  "
                                },
                                {
                                    "0": "144",
                                    "1": "Tailspin Toys (Larose, LA)",
                                    "2": "PLATINUM  "
                                },
                                {
                                    "0": "145",
                                    "1": "Tailspin Toys (Manahawkin, NJ)",
                                    "2": "PLATINUM  "
                                },
                                {
                                    "0": "146",
                                    "1": "Tailspin Toys (Belgreen, AL)",
                                    "2": "PLATINUM  "
                                },
                                {
                                    "0": "147",
                                    "1": "Tailspin Toys (Fishtail, MT)",
                                    "2": "GOLD      "
                                },
                                {
                                    "0": "148",
                                    "1": "Tailspin Toys (Baraboo, WI)",
                                    "2": "GOLD      "
                                },
                                {
                                    "0": "149",
                                    "1": "Tailspin Toys (Inguadona, MN)",
                                    "2": "PLATINUM  "
                                },
                                {
                                    "0": "150",
                                    "1": "Tailspin Toys (Corfu, NY)",
                                    "2": "PLATINUM  "
                                },
                                {
                                    "0": "151",
                                    "1": "Tailspin Toys (Antares, AZ)",
                                    "2": "PLATINUM  "
                                },
                                {
                                    "0": "152",
                                    "1": "Tailspin Toys (Sun River, MT)",
                                    "2": "GOLD      "
                                },
                                {
                                    "0": "153",
                                    "1": "Tailspin Toys (Marcell, MN)",
                                    "2": "PLATINUM  "
                                },
                                {
                                    "0": "154",
                                    "1": "Tailspin Toys (Eden Valley, MN)",
                                    "2": "GOLD      "
                                },
                                {
                                    "0": "155",
                                    "1": "Tailspin Toys (Arbor Vitae, WI)",
                                    "2": "PLATINUM  "
                                },
                                {
                                    "0": "156",
                                    "1": "Tailspin Toys (Hollywood Park, TX)",
                                    "2": "GOLD      "
                                },
                                {
                                    "0": "157",
                                    "1": "Tailspin Toys (Saks, AL)",
                                    "2": "PLATINUM  "
                                },
                                {
                                    "0": "158",
                                    "1": "Tailspin Toys (Donner, LA)",
                                    "2": "PLATINUM  "
                                },
                                {
                                    "0": "159",
                                    "1": "Tailspin Toys (Saint Louis Park, MN)",
                                    "2": "PLATINUM  "
                                },
                                {
                                    "0": "160",
                                    "1": "Tailspin Toys (Crary, ND)",
                                    "2": "PLATINUM  "
                                },
                                {
                                    "0": "161",
                                    "1": "Tailspin Toys (Aspen Park, CO)",
                                    "2": "PLATINUM  "
                                },
                                {
                                    "0": "162",
                                    "1": "Tailspin Toys (Glen Park, NY)",
                                    "2": "PLATINUM  "
                                },
                                {
                                    "0": "163",
                                    "1": "Tailspin Toys (Panaca, NV)",
                                    "2": "PLATINUM  "
                                },
                                {
                                    "0": "164",
                                    "1": "Tailspin Toys (Rothsville, PA)",
                                    "2": "PLATINUM  "
                                },
                                {
                                    "0": "165",
                                    "1": "Tailspin Toys (Topstone, CT)",
                                    "2": "PLATINUM  "
                                },
                                {
                                    "0": "166",
                                    "1": "Tailspin Toys (McCamey, TX)",
                                    "2": "PLATINUM  "
                                },
                                {
                                    "0": "167",
                                    "1": "Tailspin Toys (Rockwall, TX)",
                                    "2": "PLATINUM  "
                                },
                                {
                                    "0": "168",
                                    "1": "Tailspin Toys (Seagraves, TX)",
                                    "2": "PLATINUM  "
                                },
                                {
                                    "0": "169",
                                    "1": "Tailspin Toys (Sinclair, WY)",
                                    "2": "PLATINUM  "
                                },
                                {
                                    "0": "170",
                                    "1": "Tailspin Toys (Eastchester, NY)",
                                    "2": "PLATINUM  "
                                },
                                {
                                    "0": "171",
                                    "1": "Tailspin Toys (Ortley Beach, NJ)",
                                    "2": "PLATINUM  "
                                },
                                {
                                    "0": "172",
                                    "1": "Tailspin Toys (Madrone, NM)",
                                    "2": "PLATINUM  "
                                },
                                {
                                    "0": "173",
                                    "1": "Tailspin Toys (Wappingers Falls, NY)",
                                    "2": "PLATINUM  "
                                },
                                {
                                    "0": "174",
                                    "1": "Tailspin Toys (Astor Park, FL)",
                                    "2": "PLATINUM  "
                                },
                                {
                                    "0": "175",
                                    "1": "Tailspin Toys (San Acacia, NM)",
                                    "2": "GOLD      "
                                },
                                {
                                    "0": "176",
                                    "1": "Tailspin Toys (Malott, WA)",
                                    "2": "PLATINUM  "
                                },
                                {
                                    "0": "177",
                                    "1": "Tailspin Toys (Orrtanna, PA)",
                                    "2": "PLATINUM  "
                                },
                                {
                                    "0": "178",
                                    "1": "Tailspin Toys (Armstrong Creek, WI)",
                                    "2": "PLATINUM  "
                                },
                                {
                                    "0": "179",
                                    "1": "Tailspin Toys (Hiteman, IA)",
                                    "2": "GOLD      "
                                },
                                {
                                    "0": "180",
                                    "1": "Tailspin Toys (Caselton, NV)",
                                    "2": "PLATINUM  "
                                },
                                {
                                    "0": "181",
                                    "1": "Tailspin Toys (Heilwood, PA)",
                                    "2": "PLATINUM  "
                                },
                                {
                                    "0": "182",
                                    "1": "Tailspin Toys (Hayes Center, NE)",
                                    "2": "PLATINUM  "
                                },
                                {
                                    "0": "183",
                                    "1": "Tailspin Toys (Tierra Verde, FL)",
                                    "2": "PLATINUM  "
                                },
                                {
                                    "0": "184",
                                    "1": "Tailspin Toys (South Euclid, OH)",
                                    "2": "GOLD      "
                                },
                                {
                                    "0": "185",
                                    "1": "Tailspin Toys (Vidrine, LA)",
                                    "2": "PLATINUM  "
                                },
                                {
                                    "0": "186",
                                    "1": "Tailspin Toys (Placer, OR)",
                                    "2": "PLATINUM  "
                                },
                                {
                                    "0": "187",
                                    "1": "Tailspin Toys (Brown City, MI)",
                                    "2": "PLATINUM  "
                                },
                                {
                                    "0": "188",
                                    "1": "Tailspin Toys (Premont, TX)",
                                    "2": "PLATINUM  "
                                },
                                {
                                    "0": "189",
                                    "1": "Tailspin Toys (Wilkes-Barre, PA)",
                                    "2": "GOLD      "
                                },
                                {
                                    "0": "190",
                                    "1": "Tailspin Toys (Teutopolis, IL)",
                                    "2": "PLATINUM  "
                                },
                                {
                                    "0": "191",
                                    "1": "Tailspin Toys (Orchard Hill, GA)",
                                    "2": "PLATINUM  "
                                },
                                {
                                    "0": "192",
                                    "1": "Tailspin Toys (Optimo, NM)",
                                    "2": "PLATINUM  "
                                },
                                {
                                    "0": "193",
                                    "1": "Tailspin Toys (Knifley, KY)",
                                    "2": "PLATINUM  "
                                },
                                {
                                    "0": "194",
                                    "1": "Tailspin Toys (Naples Park, FL)",
                                    "2": "GOLD      "
                                },
                                {
                                    "0": "195",
                                    "1": "Tailspin Toys (Lesslie, SC)",
                                    "2": "PLATINUM  "
                                },
                                {
                                    "0": "196",
                                    "1": "Tailspin Toys (Howells, NE)",
                                    "2": "PLATINUM  "
                                },
                                {
                                    "0": "197",
                                    "1": "Tailspin Toys (Magalia, CA)",
                                    "2": "GOLD      "
                                },
                                {
                                    "0": "198",
                                    "1": "Tailspin Toys (Buell, MO)",
                                    "2": "PLATINUM  "
                                },
                                {
                                    "0": "199",
                                    "1": "Tailspin Toys (Antonito, CO)",
                                    "2": "GOLD      "
                                },
                                {
                                    "0": "200",
                                    "1": "Tailspin Toys (Tooele, UT)",
                                    "2": "PLATINUM  "
                                },
                                {
                                    "0": "201",
                                    "1": "Tailspin Toys (Skyway, WA)",
                                    "2": "PLATINUM  "
                                },
                                {
                                    "0": "202",
                                    "1": "Wingtip Toys (Head Office)",
                                    "2": "PLATINUM  "
                                },
                                {
                                    "0": "203",
                                    "1": "Wingtip Toys (Black Lick, PA)",
                                    "2": "PLATINUM  "
                                },
                                {
                                    "0": "204",
                                    "1": "Wingtip Toys (Queen Valley, AZ)",
                                    "2": "PLATINUM  "
                                },
                                {
                                    "0": "205",
                                    "1": "Wingtip Toys (Penns Creek, PA)",
                                    "2": "GOLD      "
                                },
                                {
                                    "0": "206",
                                    "1": "Wingtip Toys (Bourbonnais, IL)",
                                    "2": "PLATINUM  "
                                },
                                {
                                    "0": "207",
                                    "1": "Wingtip Toys (Tuscaloosa, AL)",
                                    "2": "PLATINUM  "
                                },
                                {
                                    "0": "208",
                                    "1": "Wingtip Toys (Mooringsport, LA)",
                                    "2": "PLATINUM  "
                                },
                                {
                                    "0": "209",
                                    "1": "Wingtip Toys (Rockwall, TX)",
                                    "2": "PLATINUM  "
                                },
                                {
                                    "0": "210",
                                    "1": "Wingtip Toys (Orick, CA)",
                                    "2": "PLATINUM  "
                                },
                                {
                                    "0": "211",
                                    "1": "Wingtip Toys (Bernstein, TX)",
                                    "2": "PLATINUM  "
                                },
                                {
                                    "0": "212",
                                    "1": "Wingtip Toys (Edmund, WI)",
                                    "2": "GOLD      "
                                },
                                {
                                    "0": "213",
                                    "1": "Wingtip Toys (Bozeman Hot Springs, MT)",
                                    "2": "PLATINUM  "
                                },
                                {
                                    "0": "214",
                                    "1": "Wingtip Toys (Truscott, TX)",
                                    "2": "PLATINUM  "
                                },
                                {
                                    "0": "215",
                                    "1": "Wingtip Toys (Rose Tree, PA)",
                                    "2": "PLATINUM  "
                                },
                                {
                                    "0": "216",
                                    "1": "Wingtip Toys (Leathersville, GA)",
                                    "2": "PLATINUM  "
                                },
                                {
                                    "0": "217",
                                    "1": "Wingtip Toys (Necedah, WI)",
                                    "2": "PLATINUM  "
                                },
                                {
                                    "0": "218",
                                    "1": "Wingtip Toys (Chetek, WI)",
                                    "2": "GOLD      "
                                },
                                {
                                    "0": "219",
                                    "1": "Wingtip Toys (Yaak, MT)",
                                    "2": "PLATINUM  "
                                },
                                {
                                    "0": "220",
                                    "1": "Wingtip Toys (Compass Lake, FL)",
                                    "2": "GOLD      "
                                },
                                {
                                    "0": "221",
                                    "1": "Wingtip Toys (Herlong, CA)",
                                    "2": "PLATINUM  "
                                },
                                {
                                    "0": "222",
                                    "1": "Wingtip Toys (Highland Home, AL)",
                                    "2": "PLATINUM  "
                                },
                                {
                                    "0": "223",
                                    "1": "Wingtip Toys (Naches, WA)",
                                    "2": "PLATINUM  "
                                },
                                {
                                    "0": "224",
                                    "1": "Wingtip Toys (Baldwin City, KS)",
                                    "2": "GOLD      "
                                },
                                {
                                    "0": "225",
                                    "1": "Wingtip Toys (Heartwell, NE)",
                                    "2": "GOLD      "
                                },
                                {
                                    "0": "226",
                                    "1": "Wingtip Toys (Bethel Acres, OK)",
                                    "2": "PLATINUM  "
                                },
                                {
                                    "0": "227",
                                    "1": "Wingtip Toys (Willow Valley, AZ)",
                                    "2": "GOLD      "
                                },
                                {
                                    "0": "228",
                                    "1": "Wingtip Toys (Athol Springs, NY)",
                                    "2": "PLATINUM  "
                                },
                                {
                                    "0": "229",
                                    "1": "Wingtip Toys (Paw Paw Lake, MI)",
                                    "2": "PLATINUM  "
                                },
                                {
                                    "0": "230",
                                    "1": "Wingtip Toys (Lilbourn, MO)",
                                    "2": "PLATINUM  "
                                },
                                {
                                    "0": "231",
                                    "1": "Wingtip Toys (Lost River, ID)",
                                    "2": "PLATINUM  "
                                },
                                {
                                    "0": "232",
                                    "1": "Wingtip Toys (Rosa Sánchez, PR)",
                                    "2": "PLATINUM  "
                                },
                                {
                                    "0": "233",
                                    "1": "Wingtip Toys (Vamo, FL)",
                                    "2": "PLATINUM  "
                                },
                                {
                                    "0": "234",
                                    "1": "Wingtip Toys (Balko, OK)",
                                    "2": "GOLD      "
                                },
                                {
                                    "0": "235",
                                    "1": "Wingtip Toys (Lime Lake, NY)",
                                    "2": "PLATINUM  "
                                },
                                {
                                    "0": "236",
                                    "1": "Wingtip Toys (Teutopolis, IL)",
                                    "2": "PLATINUM  "
                                },
                                {
                                    "0": "237",
                                    "1": "Wingtip Toys (Gargatha, VA)",
                                    "2": "PLATINUM  "
                                },
                                {
                                    "0": "238",
                                    "1": "Wingtip Toys (Cadogan, PA)",
                                    "2": "PLATINUM  "
                                },
                                {
                                    "0": "239",
                                    "1": "Wingtip Toys (Lucasville, OH)",
                                    "2": "PLATINUM  "
                                },
                                {
                                    "0": "240",
                                    "1": "Wingtip Toys (Cylon, WI)",
                                    "2": "PLATINUM  "
                                },
                                {
                                    "0": "241",
                                    "1": "Wingtip Toys (Asher, OK)",
                                    "2": "PLATINUM  "
                                },
                                {
                                    "0": "242",
                                    "1": "Wingtip Toys (Keosauqua, IA)",
                                    "2": "PLATINUM  "
                                },
                                {
                                    "0": "243",
                                    "1": "Wingtip Toys (Homer City, PA)",
                                    "2": "PLATINUM  "
                                },
                                {
                                    "0": "244",
                                    "1": "Wingtip Toys (Berville, MI)",
                                    "2": "PLATINUM  "
                                },
                                {
                                    "0": "245",
                                    "1": "Wingtip Toys (Tea, SD)",
                                    "2": "PLATINUM  "
                                },
                                {
                                    "0": "246",
                                    "1": "Wingtip Toys (Dacono, CO)",
                                    "2": "PLATINUM  "
                                },
                                {
                                    "0": "247",
                                    "1": "Wingtip Toys (Saint Landry, LA)",
                                    "2": "GOLD      "
                                },
                                {
                                    "0": "248",
                                    "1": "Wingtip Toys (Coin, IA)",
                                    "2": "PLATINUM  "
                                },
                                {
                                    "0": "249",
                                    "1": "Wingtip Toys (Salt Wells, NV)",
                                    "2": "PLATINUM  "
                                },
                                {
                                    "0": "250",
                                    "1": "Wingtip Toys (Delray, WV)",
                                    "2": "PLATINUM  "
                                },
                                {
                                    "0": "251",
                                    "1": "Wingtip Toys (Mount Summit, IN)",
                                    "2": "GOLD      "
                                },
                                {
                                    "0": "252",
                                    "1": "Wingtip Toys (Smoot, WY)",
                                    "2": "PLATINUM  "
                                },
                                {
                                    "0": "253",
                                    "1": "Wingtip Toys (Lake Davis, CA)",
                                    "2": "PLATINUM  "
                                },
                                {
                                    "0": "254",
                                    "1": "Wingtip Toys (Stanardsville, VA)",
                                    "2": "GOLD      "
                                },
                                {
                                    "0": "255",
                                    "1": "Wingtip Toys (Corcovado, PR)",
                                    "2": "GOLD      "
                                },
                                {
                                    "0": "256",
                                    "1": "Wingtip Toys (Taft Heights, CA)",
                                    "2": "PLATINUM  "
                                },
                                {
                                    "0": "257",
                                    "1": "Wingtip Toys (West Hempstead, NY)",
                                    "2": "PLATINUM  "
                                },
                                {
                                    "0": "258",
                                    "1": "Wingtip Toys (Portales, NM)",
                                    "2": "GOLD      "
                                },
                                {
                                    "0": "259",
                                    "1": "Wingtip Toys (Coker, AL)",
                                    "2": "PLATINUM  "
                                },
                                {
                                    "0": "260",
                                    "1": "Wingtip Toys (Haydenville, OH)",
                                    "2": "PLATINUM  "
                                },
                                {
                                    "0": "261",
                                    "1": "Wingtip Toys (Mayhill, NM)",
                                    "2": "PLATINUM  "
                                },
                                {
                                    "0": "262",
                                    "1": "Wingtip Toys (Vair, TX)",
                                    "2": "GOLD      "
                                },
                                {
                                    "0": "263",
                                    "1": "Wingtip Toys (Crossroads, NM)",
                                    "2": "GOLD      "
                                },
                                {
                                    "0": "264",
                                    "1": "Wingtip Toys (Cowlington, OK)",
                                    "2": "PLATINUM  "
                                },
                                {
                                    "0": "265",
                                    "1": "Wingtip Toys (Glen Ullin, ND)",
                                    "2": "PLATINUM  "
                                },
                                {
                                    "0": "266",
                                    "1": "Wingtip Toys (Oologah, OK)",
                                    "2": "PLATINUM  "
                                },
                                {
                                    "0": "267",
                                    "1": "Wingtip Toys (Lytle, TX)",
                                    "2": "PLATINUM  "
                                },
                                {
                                    "0": "268",
                                    "1": "Wingtip Toys (Mahaffey, PA)",
                                    "2": "PLATINUM  "
                                },
                                {
                                    "0": "269",
                                    "1": "Wingtip Toys (Sunburg, MN)",
                                    "2": "PLATINUM  "
                                },
                                {
                                    "0": "270",
                                    "1": "Wingtip Toys (Johnetta, KY)",
                                    "2": "PLATINUM  "
                                },
                                {
                                    "0": "271",
                                    "1": "Wingtip Toys (Universal City, TX)",
                                    "2": "GOLD      "
                                },
                                {
                                    "0": "272",
                                    "1": "Wingtip Toys (Ridgemark, CA)",
                                    "2": "PLATINUM  "
                                },
                                {
                                    "0": "273",
                                    "1": "Wingtip Toys (San Jacinto, CA)",
                                    "2": "PLATINUM  "
                                },
                                {
                                    "0": "274",
                                    "1": "Wingtip Toys (Floriston, CA)",
                                    "2": "PLATINUM  "
                                },
                                {
                                    "0": "275",
                                    "1": "Wingtip Toys (Bokeelia, FL)",
                                    "2": "PLATINUM  "
                                },
                                {
                                    "0": "276",
                                    "1": "Wingtip Toys (Cale, AR)",
                                    "2": "PLATINUM  "
                                },
                                {
                                    "0": "277",
                                    "1": "Wingtip Toys (Karthaus, PA)",
                                    "2": "PLATINUM  "
                                },
                                {
                                    "0": "278",
                                    "1": "Wingtip Toys (Glancy, MS)",
                                    "2": "GOLD      "
                                },
                                {
                                    "0": "279",
                                    "1": "Wingtip Toys (Stoneboro, PA)",
                                    "2": "PLATINUM  "
                                },
                                {
                                    "0": "280",
                                    "1": "Wingtip Toys (Mier, IN)",
                                    "2": "PLATINUM  "
                                },
                                {
                                    "0": "281",
                                    "1": "Wingtip Toys (Wapinitia, OR)",
                                    "2": "PLATINUM  "
                                },
                                {
                                    "0": "282",
                                    "1": "Wingtip Toys (White Church, MO)",
                                    "2": "PLATINUM  "
                                },
                                {
                                    "0": "283",
                                    "1": "Wingtip Toys (Caton, NY)",
                                    "2": "GOLD      "
                                },
                                {
                                    "0": "284",
                                    "1": "Wingtip Toys (Plum Branch, SC)",
                                    "2": "PLATINUM  "
                                },
                                {
                                    "0": "285",
                                    "1": "Wingtip Toys (Mauldin, SC)",
                                    "2": "PLATINUM  "
                                },
                                {
                                    "0": "286",
                                    "1": "Wingtip Toys (Bonner Springs, KS)",
                                    "2": "PLATINUM  "
                                },
                                {
                                    "0": "287",
                                    "1": "Wingtip Toys (Lowellville, OH)",
                                    "2": "GOLD      "
                                },
                                {
                                    "0": "288",
                                    "1": "Wingtip Toys (Elverson, PA)",
                                    "2": "PLATINUM  "
                                },
                                {
                                    "0": "289",
                                    "1": "Wingtip Toys (Isabela, PR)",
                                    "2": "PLATINUM  "
                                },
                                {
                                    "0": "290",
                                    "1": "Wingtip Toys (Sayner, WI)",
                                    "2": "PLATINUM  "
                                },
                                {
                                    "0": "291",
                                    "1": "Wingtip Toys (Beals, ME)",
                                    "2": "GOLD      "
                                },
                                {
                                    "0": "292",
                                    "1": "Wingtip Toys (Morton Grove, IL)",
                                    "2": "GOLD      "
                                },
                                {
                                    "0": "293",
                                    "1": "Wingtip Toys (Birds, IL)",
                                    "2": "PLATINUM  "
                                },
                                {
                                    "0": "294",
                                    "1": "Wingtip Toys (Federalsburg, MD)",
                                    "2": "PLATINUM  "
                                },
                                {
                                    "0": "295",
                                    "1": "Wingtip Toys (Pikeview, CO)",
                                    "2": "PLATINUM  "
                                },
                                {
                                    "0": "296",
                                    "1": "Wingtip Toys (Boalsburg, PA)",
                                    "2": "PLATINUM  "
                                },
                                {
                                    "0": "297",
                                    "1": "Wingtip Toys (Port Hueneme, CA)",
                                    "2": "PLATINUM  "
                                },
                                {
                                    "0": "298",
                                    "1": "Wingtip Toys (Verdery, SC)",
                                    "2": "PLATINUM  "
                                },
                                {
                                    "0": "299",
                                    "1": "Wingtip Toys (Obetz, OH)",
                                    "2": "PLATINUM  "
                                },
                                {
                                    "0": "300",
                                    "1": "Wingtip Toys (East Fultonham, OH)",
                                    "2": "PLATINUM  "
                                },
                                {
                                    "0": "301",
                                    "1": "Wingtip Toys (Obion, TN)",
                                    "2": "PLATINUM  "
                                },
                                {
                                    "0": "302",
                                    "1": "Wingtip Toys (Cavendish, VT)",
                                    "2": "PLATINUM  "
                                },
                                {
                                    "0": "303",
                                    "1": "Wingtip Toys (Miesville, MN)",
                                    "2": "GOLD      "
                                },
                                {
                                    "0": "304",
                                    "1": "Wingtip Toys (Valhalla, NC)",
                                    "2": "PLATINUM  "
                                },
                                {
                                    "0": "305",
                                    "1": "Wingtip Toys (Cape Neddick, ME)",
                                    "2": "GOLD      "
                                },
                                {
                                    "0": "306",
                                    "1": "Wingtip Toys (Silver Plume, CO)",
                                    "2": "PLATINUM  "
                                },
                                {
                                    "0": "307",
                                    "1": "Wingtip Toys (North Beach Haven, NJ)",
                                    "2": "PLATINUM  "
                                },
                                {
                                    "0": "308",
                                    "1": "Wingtip Toys (Downingtown, PA)",
                                    "2": "PLATINUM  "
                                },
                                {
                                    "0": "309",
                                    "1": "Wingtip Toys (Branson West, MO)",
                                    "2": "PLATINUM  "
                                },
                                {
                                    "0": "310",
                                    "1": "Wingtip Toys (Bergen Park, CO)",
                                    "2": "PLATINUM  "
                                },
                                {
                                    "0": "311",
                                    "1": "Wingtip Toys (Grabill, IN)",
                                    "2": "PLATINUM  "
                                },
                                {
                                    "0": "312",
                                    "1": "Wingtip Toys (North Manitou, MI)",
                                    "2": "GOLD      "
                                },
                                {
                                    "0": "313",
                                    "1": "Wingtip Toys (Philip, SD)",
                                    "2": "PLATINUM  "
                                },
                                {
                                    "0": "314",
                                    "1": "Wingtip Toys (Straughn, IN)",
                                    "2": "GOLD      "
                                },
                                {
                                    "0": "315",
                                    "1": "Wingtip Toys (Gilford, NH)",
                                    "2": "PLATINUM  "
                                },
                                {
                                    "0": "316",
                                    "1": "Wingtip Toys (Del Valle, TX)",
                                    "2": "GOLD      "
                                },
                                {
                                    "0": "317",
                                    "1": "Wingtip Toys (Harkers Island, NC)",
                                    "2": "PLATINUM  "
                                },
                                {
                                    "0": "318",
                                    "1": "Wingtip Toys (Licking, MO)",
                                    "2": "PLATINUM  "
                                },
                                {
                                    "0": "319",
                                    "1": "Wingtip Toys (Raton, NM)",
                                    "2": "PLATINUM  "
                                },
                                {
                                    "0": "320",
                                    "1": "Wingtip Toys (Boynton, OK)",
                                    "2": "PLATINUM  "
                                },
                                {
                                    "0": "321",
                                    "1": "Wingtip Toys (Frenchburg, KY)",
                                    "2": "PLATINUM  "
                                },
                                {
                                    "0": "322",
                                    "1": "Wingtip Toys (Robertsdale, AL)",
                                    "2": "PLATINUM  "
                                },
                                {
                                    "0": "323",
                                    "1": "Wingtip Toys (Dickerson, MD)",
                                    "2": "GOLD      "
                                },
                                {
                                    "0": "324",
                                    "1": "Wingtip Toys (Bruceton Mills, WV)",
                                    "2": "PLATINUM  "
                                },
                                {
                                    "0": "325",
                                    "1": "Wingtip Toys (Cloquet, MN)",
                                    "2": "PLATINUM  "
                                },
                                {
                                    "0": "326",
                                    "1": "Wingtip Toys (Claycomo, MO)",
                                    "2": "PLATINUM  "
                                },
                                {
                                    "0": "327",
                                    "1": "Wingtip Toys (Beekmantown, NY)",
                                    "2": "PLATINUM  "
                                },
                                {
                                    "0": "328",
                                    "1": "Wingtip Toys (Islip Terrace, NY)",
                                    "2": "PLATINUM  "
                                },
                                {
                                    "0": "329",
                                    "1": "Wingtip Toys (Rich Creek, VA)",
                                    "2": "PLATINUM  "
                                },
                                {
                                    "0": "330",
                                    "1": "Wingtip Toys (Griswoldville, GA)",
                                    "2": "PLATINUM  "
                                },
                                {
                                    "0": "331",
                                    "1": "Wingtip Toys (East Mountain, TX)",
                                    "2": "GOLD      "
                                },
                                {
                                    "0": "332",
                                    "1": "Wingtip Toys (Omer, MI)",
                                    "2": "PLATINUM  "
                                },
                                {
                                    "0": "333",
                                    "1": "Wingtip Toys (Waycross, GA)",
                                    "2": "PLATINUM  "
                                },
                                {
                                    "0": "334",
                                    "1": "Wingtip Toys (Nichols Hills, OK)",
                                    "2": "PLATINUM  "
                                },
                                {
                                    "0": "335",
                                    "1": "Wingtip Toys (Plaquemine, LA)",
                                    "2": "PLATINUM  "
                                },
                                {
                                    "0": "336",
                                    "1": "Wingtip Toys (Triadelphia, WV)",
                                    "2": "PLATINUM  "
                                },
                                {
                                    "0": "337",
                                    "1": "Wingtip Toys (Ferney, SD)",
                                    "2": "PLATINUM  "
                                },
                                {
                                    "0": "338",
                                    "1": "Wingtip Toys (Akhiok, AK)",
                                    "2": "PLATINUM  "
                                },
                                {
                                    "0": "339",
                                    "1": "Wingtip Toys (Deeson, MS)",
                                    "2": "PLATINUM  "
                                },
                                {
                                    "0": "340",
                                    "1": "Wingtip Toys (Nuangola, PA)",
                                    "2": "GOLD      "
                                },
                                {
                                    "0": "341",
                                    "1": "Wingtip Toys (Weld, ME)",
                                    "2": "PLATINUM  "
                                },
                                {
                                    "0": "342",
                                    "1": "Wingtip Toys (Mickleton, NJ)",
                                    "2": "PLATINUM  "
                                },
                                {
                                    "0": "343",
                                    "1": "Wingtip Toys (Schererville, IN)",
                                    "2": "PLATINUM  "
                                },
                                {
                                    "0": "344",
                                    "1": "Wingtip Toys (Lexington Heights, MI)",
                                    "2": "PLATINUM  "
                                },
                                {
                                    "0": "345",
                                    "1": "Wingtip Toys (Broomtown, AL)",
                                    "2": "PLATINUM  "
                                },
                                {
                                    "0": "346",
                                    "1": "Wingtip Toys (Jamison, IA)",
                                    "2": "PLATINUM  "
                                },
                                {
                                    "0": "347",
                                    "1": "Wingtip Toys (Key Biscayne, FL)",
                                    "2": "PLATINUM  "
                                },
                                {
                                    "0": "348",
                                    "1": "Wingtip Toys (Chaseley, ND)",
                                    "2": "GOLD      "
                                },
                                {
                                    "0": "349",
                                    "1": "Wingtip Toys (Indian Creek, IL)",
                                    "2": "PLATINUM  "
                                },
                                {
                                    "0": "350",
                                    "1": "Wingtip Toys (Lake Ronkonkoma, NY)",
                                    "2": "PLATINUM  "
                                },
                                {
                                    "0": "351",
                                    "1": "Wingtip Toys (Morrison Bluff, AR)",
                                    "2": "PLATINUM  "
                                },
                                {
                                    "0": "352",
                                    "1": "Wingtip Toys (Huntingburg, IN)",
                                    "2": "PLATINUM  "
                                },
                                {
                                    "0": "353",
                                    "1": "Wingtip Toys (Shay, PA)",
                                    "2": "PLATINUM  "
                                },
                                {
                                    "0": "354",
                                    "1": "Wingtip Toys (Helotes, TX)",
                                    "2": "GOLD      "
                                },
                                {
                                    "0": "355",
                                    "1": "Wingtip Toys (Hollandsburg, IN)",
                                    "2": "PLATINUM  "
                                },
                                {
                                    "0": "356",
                                    "1": "Wingtip Toys (Liberty Grove, MD)",
                                    "2": "PLATINUM  "
                                },
                                {
                                    "0": "357",
                                    "1": "Wingtip Toys (Morita, TX)",
                                    "2": "GOLD      "
                                },
                                {
                                    "0": "358",
                                    "1": "Wingtip Toys (New Laguna, NM)",
                                    "2": "GOLD      "
                                },
                                {
                                    "0": "359",
                                    "1": "Wingtip Toys (Bourneville, OH)",
                                    "2": "PLATINUM  "
                                },
                                {
                                    "0": "360",
                                    "1": "Wingtip Toys (Mendoza, TX)",
                                    "2": "PLATINUM  "
                                },
                                {
                                    "0": "361",
                                    "1": "Wingtip Toys (Palmas del Mar, PR)",
                                    "2": "GOLD      "
                                },
                                {
                                    "0": "362",
                                    "1": "Wingtip Toys (Marion Junction, AL)",
                                    "2": "PLATINUM  "
                                },
                                {
                                    "0": "363",
                                    "1": "Wingtip Toys (Ware Shoals, SC)",
                                    "2": "PLATINUM  "
                                },
                                {
                                    "0": "364",
                                    "1": "Wingtip Toys (Lostine, OR)",
                                    "2": "GOLD      "
                                },
                                {
                                    "0": "365",
                                    "1": "Wingtip Toys (Tilleda, WI)",
                                    "2": "PLATINUM  "
                                },
                                {
                                    "0": "366",
                                    "1": "Wingtip Toys (Wapiti, WY)",
                                    "2": "PLATINUM  "
                                },
                                {
                                    "0": "367",
                                    "1": "Wingtip Toys (Amado, AZ)",
                                    "2": "PLATINUM  "
                                },
                                {
                                    "0": "368",
                                    "1": "Wingtip Toys (Jeromesville, OH)",
                                    "2": "GOLD      "
                                },
                                {
                                    "0": "369",
                                    "1": "Wingtip Toys (Ovilla, TX)",
                                    "2": "GOLD      "
                                },
                                {
                                    "0": "370",
                                    "1": "Wingtip Toys (West Frostproof, FL)",
                                    "2": "PLATINUM  "
                                },
                                {
                                    "0": "371",
                                    "1": "Wingtip Toys (Flomaton, AL)",
                                    "2": "PLATINUM  "
                                },
                                {
                                    "0": "372",
                                    "1": "Wingtip Toys (Pawlet, VT)",
                                    "2": "PLATINUM  "
                                },
                                {
                                    "0": "373",
                                    "1": "Wingtip Toys (Trout Run, PA)",
                                    "2": "PLATINUM  "
                                },
                                {
                                    "0": "374",
                                    "1": "Wingtip Toys (Marin City, CA)",
                                    "2": "GOLD      "
                                },
                                {
                                    "0": "375",
                                    "1": "Wingtip Toys (Molalla, OR)",
                                    "2": "PLATINUM  "
                                },
                                {
                                    "0": "376",
                                    "1": "Wingtip Toys (Trumansburg, NY)",
                                    "2": "PLATINUM  "
                                },
                                {
                                    "0": "377",
                                    "1": "Wingtip Toys (Goodings Grove, IL)",
                                    "2": "GOLD      "
                                },
                                {
                                    "0": "378",
                                    "1": "Wingtip Toys (Cherryplain, NY)",
                                    "2": "REGULAR   "
                                },
                                {
                                    "0": "379",
                                    "1": "Wingtip Toys (Bell Acres, PA)",
                                    "2": "PLATINUM  "
                                },
                                {
                                    "0": "380",
                                    "1": "Wingtip Toys (Connoquenessing, PA)",
                                    "2": "PLATINUM  "
                                },
                                {
                                    "0": "381",
                                    "1": "Wingtip Toys (Sarversville, PA)",
                                    "2": "PLATINUM  "
                                },
                                {
                                    "0": "382",
                                    "1": "Wingtip Toys (Munich, ND)",
                                    "2": "GOLD      "
                                },
                                {
                                    "0": "383",
                                    "1": "Wingtip Toys (Montoya, NM)",
                                    "2": "PLATINUM  "
                                },
                                {
                                    "0": "384",
                                    "1": "Wingtip Toys (Knights Landing, CA)",
                                    "2": "PLATINUM  "
                                },
                                {
                                    "0": "385",
                                    "1": "Wingtip Toys (Cache, OK)",
                                    "2": "PLATINUM  "
                                },
                                {
                                    "0": "386",
                                    "1": "Wingtip Toys (Towaco, NJ)",
                                    "2": "PLATINUM  "
                                },
                                {
                                    "0": "387",
                                    "1": "Wingtip Toys (Lynne, FL)",
                                    "2": "PLATINUM  "
                                },
                                {
                                    "0": "388",
                                    "1": "Wingtip Toys (Plata, TX)",
                                    "2": "PLATINUM  "
                                },
                                {
                                    "0": "389",
                                    "1": "Wingtip Toys (Oak Point, TX)",
                                    "2": "PLATINUM  "
                                },
                                {
                                    "0": "390",
                                    "1": "Wingtip Toys (Alcester, SD)",
                                    "2": "PLATINUM  "
                                },
                                {
                                    "0": "391",
                                    "1": "Wingtip Toys (McAdenville, NC)",
                                    "2": "GOLD      "
                                },
                                {
                                    "0": "392",
                                    "1": "Wingtip Toys (Idaho City, ID)",
                                    "2": "PLATINUM  "
                                },
                                {
                                    "0": "393",
                                    "1": "Wingtip Toys (Dunkerton, IA)",
                                    "2": "PLATINUM  "
                                },
                                {
                                    "0": "394",
                                    "1": "Wingtip Toys (Cuyamungue, NM)",
                                    "2": "PLATINUM  "
                                },
                                {
                                    "0": "395",
                                    "1": "Wingtip Toys (Marfa, TX)",
                                    "2": "PLATINUM  "
                                },
                                {
                                    "0": "396",
                                    "1": "Wingtip Toys (Accomac, VA)",
                                    "2": "PLATINUM  "
                                },
                                {
                                    "0": "397",
                                    "1": "Wingtip Toys (Cos Cob, CT)",
                                    "2": "PLATINUM  "
                                },
                                {
                                    "0": "398",
                                    "1": "Wingtip Toys (Haycock, AK)",
                                    "2": "PLATINUM  "
                                },
                                {
                                    "0": "399",
                                    "1": "Wingtip Toys (Kapa'a, HI)",
                                    "2": "PLATINUM  "
                                },
                                {
                                    "0": "400",
                                    "1": "Wingtip Toys (Dickworsham, TX)",
                                    "2": "GOLD      "
                                },
                                {
                                    "0": "401",
                                    "1": "Wingtip Toys (Caro, MI)",
                                    "2": "PLATINUM  "
                                },
                                {
                                    "0": "402",
                                    "1": "Wingtip Toys (Ruthsburg, MD)",
                                    "2": "PLATINUM  "
                                }
                            ]
                        },
                        "text/html": "<table><tr><th>Customer Key</th><th>Customer</th><th>Discount Price</th></tr><tr><td>0</td><td>Unknown</td><td>PLATINUM  </td></tr><tr><td>1</td><td>Tailspin Toys (Head Office)</td><td>PLATINUM  </td></tr><tr><td>2</td><td>Tailspin Toys (Sylvanite, MT)</td><td>GOLD      </td></tr><tr><td>3</td><td>Tailspin Toys (Peeples Valley, AZ)</td><td>PLATINUM  </td></tr><tr><td>4</td><td>Tailspin Toys (Medicine Lodge, KS)</td><td>PLATINUM  </td></tr><tr><td>5</td><td>Tailspin Toys (Gasport, NY)</td><td>PLATINUM  </td></tr><tr><td>6</td><td>Tailspin Toys (Jessie, ND)</td><td>PLATINUM  </td></tr><tr><td>7</td><td>Tailspin Toys (Frankewing, TN)</td><td>PLATINUM  </td></tr><tr><td>8</td><td>Tailspin Toys (Bow Mar, CO)</td><td>GOLD      </td></tr><tr><td>9</td><td>Tailspin Toys (Netcong, NJ)</td><td>PLATINUM  </td></tr><tr><td>10</td><td>Tailspin Toys (Wimbledon, ND)</td><td>PLATINUM  </td></tr><tr><td>11</td><td>Tailspin Toys (Devault, PA)</td><td>PLATINUM  </td></tr><tr><td>12</td><td>Tailspin Toys (Biscay, MN)</td><td>PLATINUM  </td></tr><tr><td>13</td><td>Tailspin Toys (Stonefort, IL)</td><td>GOLD      </td></tr><tr><td>14</td><td>Tailspin Toys (Long Meadow, MD)</td><td>PLATINUM  </td></tr><tr><td>15</td><td>Tailspin Toys (Batson, TX)</td><td>PLATINUM  </td></tr><tr><td>16</td><td>Tailspin Toys (Coney Island, MO)</td><td>PLATINUM  </td></tr><tr><td>17</td><td>Tailspin Toys (East Fultonham, OH)</td><td>PLATINUM  </td></tr><tr><td>18</td><td>Tailspin Toys (Goffstown, NH)</td><td>PLATINUM  </td></tr><tr><td>19</td><td>Tailspin Toys (Lemeta, AK)</td><td>GOLD      </td></tr><tr><td>20</td><td>Tailspin Toys (College Place, WA)</td><td>GOLD      </td></tr><tr><td>21</td><td>Tailspin Toys (Tresckow, PA)</td><td>PLATINUM  </td></tr><tr><td>22</td><td>Tailspin Toys (Ward Ridge, FL)</td><td>GOLD      </td></tr><tr><td>23</td><td>Tailspin Toys (Ikatan, AK)</td><td>GOLD      </td></tr><tr><td>24</td><td>Tailspin Toys (Dundarrach, NC)</td><td>GOLD      </td></tr><tr><td>25</td><td>Tailspin Toys (Avenal, CA)</td><td>PLATINUM  </td></tr><tr><td>26</td><td>Tailspin Toys (Hedrick, IA)</td><td>PLATINUM  </td></tr><tr><td>27</td><td>Tailspin Toys (Bowlus, MN)</td><td>PLATINUM  </td></tr><tr><td>28</td><td>Tailspin Toys (North Ridge, NY)</td><td>PLATINUM  </td></tr><tr><td>29</td><td>Tailspin Toys (Eulaton, AL)</td><td>PLATINUM  </td></tr><tr><td>30</td><td>Tailspin Toys (Koontzville, WA)</td><td>PLATINUM  </td></tr><tr><td>31</td><td>Tailspin Toys (Lake Stevens, WA)</td><td>PLATINUM  </td></tr><tr><td>32</td><td>Tailspin Toys (Maypearl, TX)</td><td>PLATINUM  </td></tr><tr><td>33</td><td>Tailspin Toys (Boyden Arbor, SC)</td><td>PLATINUM  </td></tr><tr><td>34</td><td>Tailspin Toys (Dallardsville, TX)</td><td>PLATINUM  </td></tr><tr><td>35</td><td>Tailspin Toys (Slanesville, WV)</td><td>PLATINUM  </td></tr><tr><td>36</td><td>Tailspin Toys (Ekron, KY)</td><td>GOLD      </td></tr><tr><td>37</td><td>Tailspin Toys (Kerby, OR)</td><td>PLATINUM  </td></tr><tr><td>38</td><td>Tailspin Toys (Airport Drive, MO)</td><td>PLATINUM  </td></tr><tr><td>39</td><td>Tailspin Toys (Diablock, KY)</td><td>GOLD      </td></tr><tr><td>40</td><td>Tailspin Toys (Impact, TX)</td><td>PLATINUM  </td></tr><tr><td>41</td><td>Tailspin Toys (Olivette, MO)</td><td>GOLD      </td></tr><tr><td>42</td><td>Tailspin Toys (Arietta, NY)</td><td>PLATINUM  </td></tr><tr><td>43</td><td>Tailspin Toys (Upper Preston, WA)</td><td>PLATINUM  </td></tr><tr><td>44</td><td>Tailspin Toys (Amanda Park, WA)</td><td>PLATINUM  </td></tr><tr><td>45</td><td>Tailspin Toys (Severna Park, MD)</td><td>PLATINUM  </td></tr><tr><td>46</td><td>Tailspin Toys (Jemison, AL)</td><td>PLATINUM  </td></tr><tr><td>47</td><td>Tailspin Toys (Lake Hughes, CA)</td><td>GOLD      </td></tr><tr><td>48</td><td>Tailspin Toys (Trentwood, WA)</td><td>PLATINUM  </td></tr><tr><td>49</td><td>Tailspin Toys (Muir, MI)</td><td>GOLD      </td></tr><tr><td>50</td><td>Tailspin Toys (Hambleton, WV)</td><td>PLATINUM  </td></tr><tr><td>51</td><td>Tailspin Toys (Imlaystown, NJ)</td><td>PLATINUM  </td></tr><tr><td>52</td><td>Tailspin Toys (Idria, CA)</td><td>PLATINUM  </td></tr><tr><td>53</td><td>Tailspin Toys (Nanafalia, AL)</td><td>PLATINUM  </td></tr><tr><td>54</td><td>Tailspin Toys (Railroad, PA)</td><td>GOLD      </td></tr><tr><td>55</td><td>Tailspin Toys (Gum Branch, GA)</td><td>PLATINUM  </td></tr><tr><td>56</td><td>Tailspin Toys (Royal City, WA)</td><td>PLATINUM  </td></tr><tr><td>57</td><td>Tailspin Toys (Lakemore, OH)</td><td>GOLD      </td></tr><tr><td>58</td><td>Tailspin Toys (Mappsburg, VA)</td><td>PLATINUM  </td></tr><tr><td>59</td><td>Tailspin Toys (Edgartown, MA)</td><td>PLATINUM  </td></tr><tr><td>60</td><td>Tailspin Toys (East Dailey, WV)</td><td>GOLD      </td></tr><tr><td>61</td><td>Tailspin Toys (Fairfield Glade, TN)</td><td>GOLD      </td></tr><tr><td>62</td><td>Tailspin Toys (Great Neck Estates, NY)</td><td>GOLD      </td></tr><tr><td>63</td><td>Tailspin Toys (Stallion Springs, CA)</td><td>PLATINUM  </td></tr><tr><td>64</td><td>Tailspin Toys (Hodgdon, ME)</td><td>PLATINUM  </td></tr><tr><td>65</td><td>Tailspin Toys (North Cowden, TX)</td><td>PLATINUM  </td></tr><tr><td>66</td><td>Tailspin Toys (Madaket, MA)</td><td>GOLD      </td></tr><tr><td>67</td><td>Tailspin Toys (Sentinel Butte, ND)</td><td>PLATINUM  </td></tr><tr><td>68</td><td>Tailspin Toys (Gardere, LA)</td><td>PLATINUM  </td></tr><tr><td>69</td><td>Tailspin Toys (Lytle Creek, CA)</td><td>PLATINUM  </td></tr><tr><td>70</td><td>Tailspin Toys (New Baden, IL)</td><td>PLATINUM  </td></tr><tr><td>71</td><td>Tailspin Toys (Good Hart, MI)</td><td>PLATINUM  </td></tr><tr><td>72</td><td>Tailspin Toys (Cortaro, AZ)</td><td>PLATINUM  </td></tr><tr><td>73</td><td>Tailspin Toys (Cokato, MN)</td><td>GOLD      </td></tr><tr><td>74</td><td>Tailspin Toys (Indios, PR)</td><td>PLATINUM  </td></tr><tr><td>75</td><td>Tailspin Toys (Windsor Locks, CT)</td><td>PLATINUM  </td></tr><tr><td>76</td><td>Tailspin Toys (Yewed, OK)</td><td>GOLD      </td></tr><tr><td>77</td><td>Tailspin Toys (Hahira, GA)</td><td>PLATINUM  </td></tr><tr><td>78</td><td>Tailspin Toys (Sekiu, WA)</td><td>PLATINUM  </td></tr><tr><td>79</td><td>Tailspin Toys (Page City, KS)</td><td>PLATINUM  </td></tr><tr><td>80</td><td>Tailspin Toys (Valdese, NC)</td><td>PLATINUM  </td></tr><tr><td>81</td><td>Tailspin Toys (Big Moose, NY)</td><td>PLATINUM  </td></tr><tr><td>82</td><td>Tailspin Toys (La Cueva, NM)</td><td>PLATINUM  </td></tr><tr><td>83</td><td>Tailspin Toys (Absecon, NJ)</td><td>PLATINUM  </td></tr><tr><td>84</td><td>Tailspin Toys (Aceitunas, PR)</td><td>PLATINUM  </td></tr><tr><td>85</td><td>Tailspin Toys (Andrix, CO)</td><td>PLATINUM  </td></tr><tr><td>86</td><td>Tailspin Toys (New Lexington, OH)</td><td>PLATINUM  </td></tr><tr><td>87</td><td>Tailspin Toys (Sauquoit, NY)</td><td>PLATINUM  </td></tr><tr><td>88</td><td>Tailspin Toys (Dracut, MA)</td><td>PLATINUM  </td></tr><tr><td>89</td><td>Tailspin Toys (Victory Gardens, NJ)</td><td>PLATINUM  </td></tr><tr><td>90</td><td>Tailspin Toys (Tolna, ND)</td><td>PLATINUM  </td></tr><tr><td>91</td><td>Tailspin Toys (Alstead, NH)</td><td>GOLD      </td></tr><tr><td>92</td><td>Tailspin Toys (Sans Souci, SC)</td><td>PLATINUM  </td></tr><tr><td>93</td><td>Tailspin Toys (Clewiston, FL)</td><td>PLATINUM  </td></tr><tr><td>94</td><td>Tailspin Toys (Cheyenne Wells, CO)</td><td>PLATINUM  </td></tr><tr><td>95</td><td>Tailspin Toys (Lavon, TX)</td><td>GOLD      </td></tr><tr><td>96</td><td>Tailspin Toys (South La Paloma, TX)</td><td>PLATINUM  </td></tr><tr><td>97</td><td>Tailspin Toys (Manchester Center, VT)</td><td>PLATINUM  </td></tr><tr><td>98</td><td>Tailspin Toys (El Centro, CA)</td><td>PLATINUM  </td></tr><tr><td>99</td><td>Tailspin Toys (Guin, AL)</td><td>PLATINUM  </td></tr><tr><td>100</td><td>Tailspin Toys (Tunnelhill, PA)</td><td>GOLD      </td></tr><tr><td>101</td><td>Tailspin Toys (Cundiyo, NM)</td><td>PLATINUM  </td></tr><tr><td>102</td><td>Tailspin Toys (Fieldbrook, CA)</td><td>PLATINUM  </td></tr><tr><td>103</td><td>Tailspin Toys (Kalvesta, KS)</td><td>PLATINUM  </td></tr><tr><td>104</td><td>Tailspin Toys (Wallagrass, ME)</td><td>GOLD      </td></tr><tr><td>105</td><td>Tailspin Toys (Tomnolen, MS)</td><td>GOLD      </td></tr><tr><td>106</td><td>Tailspin Toys (Tumacacori, AZ)</td><td>PLATINUM  </td></tr><tr><td>107</td><td>Tailspin Toys (Glen Avon, CA)</td><td>PLATINUM  </td></tr><tr><td>108</td><td>Tailspin Toys (Bernie, MO)</td><td>PLATINUM  </td></tr><tr><td>109</td><td>Tailspin Toys (South Laguna, CA)</td><td>PLATINUM  </td></tr><tr><td>110</td><td>Tailspin Toys (North Crows Nest, IN)</td><td>PLATINUM  </td></tr><tr><td>111</td><td>Tailspin Toys (Oriole Beach, FL)</td><td>GOLD      </td></tr><tr><td>112</td><td>Tailspin Toys (Sallyards, KS)</td><td>PLATINUM  </td></tr><tr><td>113</td><td>Tailspin Toys (Dahlia, NM)</td><td>PLATINUM  </td></tr><tr><td>114</td><td>Tailspin Toys (Cherry Grove Beach, SC)</td><td>PLATINUM  </td></tr><tr><td>115</td><td>Tailspin Toys (Bethania, NC)</td><td>PLATINUM  </td></tr><tr><td>116</td><td>Tailspin Toys (Rafael Capó, PR)</td><td>PLATINUM  </td></tr><tr><td>117</td><td>Tailspin Toys (Scofield, UT)</td><td>PLATINUM  </td></tr><tr><td>118</td><td>Tailspin Toys (Vassalboro, ME)</td><td>PLATINUM  </td></tr><tr><td>119</td><td>Tailspin Toys (Statenville, GA)</td><td>PLATINUM  </td></tr><tr><td>120</td><td>Tailspin Toys (Bratenahl, OH)</td><td>GOLD      </td></tr><tr><td>121</td><td>Tailspin Toys (Elrosa, MN)</td><td>PLATINUM  </td></tr><tr><td>122</td><td>Tailspin Toys (McClave, CO)</td><td>PLATINUM  </td></tr><tr><td>123</td><td>Tailspin Toys (Roe Park, NY)</td><td>PLATINUM  </td></tr><tr><td>124</td><td>Tailspin Toys (Hanoverton, OH)</td><td>PLATINUM  </td></tr><tr><td>125</td><td>Tailspin Toys (Annamoriah, WV)</td><td>PLATINUM  </td></tr><tr><td>126</td><td>Tailspin Toys (Francis Mills, NJ)</td><td>GOLD      </td></tr><tr><td>127</td><td>Tailspin Toys (Point Roberts, WA)</td><td>PLATINUM  </td></tr><tr><td>128</td><td>Tailspin Toys (East Portal, CO)</td><td>PLATINUM  </td></tr><tr><td>129</td><td>Tailspin Toys (Mineral Hills, MI)</td><td>PLATINUM  </td></tr><tr><td>130</td><td>Tailspin Toys (Maple Shade, NJ)</td><td>PLATINUM  </td></tr><tr><td>131</td><td>Tailspin Toys (Kwethluk, AK)</td><td>PLATINUM  </td></tr><tr><td>132</td><td>Tailspin Toys (Minidoka, ID)</td><td>PLATINUM  </td></tr><tr><td>133</td><td>Tailspin Toys (Lake Erie Beach, NY)</td><td>PLATINUM  </td></tr><tr><td>134</td><td>Tailspin Toys (Tavares, FL)</td><td>PLATINUM  </td></tr><tr><td>135</td><td>Tailspin Toys (Terre du Lac, MO)</td><td>PLATINUM  </td></tr><tr><td>136</td><td>Tailspin Toys (Mount Montgomery, NV)</td><td>PLATINUM  </td></tr><tr><td>137</td><td>Tailspin Toys (Carbonville, UT)</td><td>PLATINUM  </td></tr><tr><td>138</td><td>Tailspin Toys (Navassa, NC)</td><td>PLATINUM  </td></tr><tr><td>139</td><td>Tailspin Toys (Hardeeville, SC)</td><td>PLATINUM  </td></tr><tr><td>140</td><td>Tailspin Toys (Furley, KS)</td><td>PLATINUM  </td></tr><tr><td>141</td><td>Tailspin Toys (Arrow Rock, MO)</td><td>GOLD      </td></tr><tr><td>142</td><td>Tailspin Toys (King Cove, AK)</td><td>PLATINUM  </td></tr><tr><td>143</td><td>Tailspin Toys (Ashtabula, OH)</td><td>PLATINUM  </td></tr><tr><td>144</td><td>Tailspin Toys (Larose, LA)</td><td>PLATINUM  </td></tr><tr><td>145</td><td>Tailspin Toys (Manahawkin, NJ)</td><td>PLATINUM  </td></tr><tr><td>146</td><td>Tailspin Toys (Belgreen, AL)</td><td>PLATINUM  </td></tr><tr><td>147</td><td>Tailspin Toys (Fishtail, MT)</td><td>GOLD      </td></tr><tr><td>148</td><td>Tailspin Toys (Baraboo, WI)</td><td>GOLD      </td></tr><tr><td>149</td><td>Tailspin Toys (Inguadona, MN)</td><td>PLATINUM  </td></tr><tr><td>150</td><td>Tailspin Toys (Corfu, NY)</td><td>PLATINUM  </td></tr><tr><td>151</td><td>Tailspin Toys (Antares, AZ)</td><td>PLATINUM  </td></tr><tr><td>152</td><td>Tailspin Toys (Sun River, MT)</td><td>GOLD      </td></tr><tr><td>153</td><td>Tailspin Toys (Marcell, MN)</td><td>PLATINUM  </td></tr><tr><td>154</td><td>Tailspin Toys (Eden Valley, MN)</td><td>GOLD      </td></tr><tr><td>155</td><td>Tailspin Toys (Arbor Vitae, WI)</td><td>PLATINUM  </td></tr><tr><td>156</td><td>Tailspin Toys (Hollywood Park, TX)</td><td>GOLD      </td></tr><tr><td>157</td><td>Tailspin Toys (Saks, AL)</td><td>PLATINUM  </td></tr><tr><td>158</td><td>Tailspin Toys (Donner, LA)</td><td>PLATINUM  </td></tr><tr><td>159</td><td>Tailspin Toys (Saint Louis Park, MN)</td><td>PLATINUM  </td></tr><tr><td>160</td><td>Tailspin Toys (Crary, ND)</td><td>PLATINUM  </td></tr><tr><td>161</td><td>Tailspin Toys (Aspen Park, CO)</td><td>PLATINUM  </td></tr><tr><td>162</td><td>Tailspin Toys (Glen Park, NY)</td><td>PLATINUM  </td></tr><tr><td>163</td><td>Tailspin Toys (Panaca, NV)</td><td>PLATINUM  </td></tr><tr><td>164</td><td>Tailspin Toys (Rothsville, PA)</td><td>PLATINUM  </td></tr><tr><td>165</td><td>Tailspin Toys (Topstone, CT)</td><td>PLATINUM  </td></tr><tr><td>166</td><td>Tailspin Toys (McCamey, TX)</td><td>PLATINUM  </td></tr><tr><td>167</td><td>Tailspin Toys (Rockwall, TX)</td><td>PLATINUM  </td></tr><tr><td>168</td><td>Tailspin Toys (Seagraves, TX)</td><td>PLATINUM  </td></tr><tr><td>169</td><td>Tailspin Toys (Sinclair, WY)</td><td>PLATINUM  </td></tr><tr><td>170</td><td>Tailspin Toys (Eastchester, NY)</td><td>PLATINUM  </td></tr><tr><td>171</td><td>Tailspin Toys (Ortley Beach, NJ)</td><td>PLATINUM  </td></tr><tr><td>172</td><td>Tailspin Toys (Madrone, NM)</td><td>PLATINUM  </td></tr><tr><td>173</td><td>Tailspin Toys (Wappingers Falls, NY)</td><td>PLATINUM  </td></tr><tr><td>174</td><td>Tailspin Toys (Astor Park, FL)</td><td>PLATINUM  </td></tr><tr><td>175</td><td>Tailspin Toys (San Acacia, NM)</td><td>GOLD      </td></tr><tr><td>176</td><td>Tailspin Toys (Malott, WA)</td><td>PLATINUM  </td></tr><tr><td>177</td><td>Tailspin Toys (Orrtanna, PA)</td><td>PLATINUM  </td></tr><tr><td>178</td><td>Tailspin Toys (Armstrong Creek, WI)</td><td>PLATINUM  </td></tr><tr><td>179</td><td>Tailspin Toys (Hiteman, IA)</td><td>GOLD      </td></tr><tr><td>180</td><td>Tailspin Toys (Caselton, NV)</td><td>PLATINUM  </td></tr><tr><td>181</td><td>Tailspin Toys (Heilwood, PA)</td><td>PLATINUM  </td></tr><tr><td>182</td><td>Tailspin Toys (Hayes Center, NE)</td><td>PLATINUM  </td></tr><tr><td>183</td><td>Tailspin Toys (Tierra Verde, FL)</td><td>PLATINUM  </td></tr><tr><td>184</td><td>Tailspin Toys (South Euclid, OH)</td><td>GOLD      </td></tr><tr><td>185</td><td>Tailspin Toys (Vidrine, LA)</td><td>PLATINUM  </td></tr><tr><td>186</td><td>Tailspin Toys (Placer, OR)</td><td>PLATINUM  </td></tr><tr><td>187</td><td>Tailspin Toys (Brown City, MI)</td><td>PLATINUM  </td></tr><tr><td>188</td><td>Tailspin Toys (Premont, TX)</td><td>PLATINUM  </td></tr><tr><td>189</td><td>Tailspin Toys (Wilkes-Barre, PA)</td><td>GOLD      </td></tr><tr><td>190</td><td>Tailspin Toys (Teutopolis, IL)</td><td>PLATINUM  </td></tr><tr><td>191</td><td>Tailspin Toys (Orchard Hill, GA)</td><td>PLATINUM  </td></tr><tr><td>192</td><td>Tailspin Toys (Optimo, NM)</td><td>PLATINUM  </td></tr><tr><td>193</td><td>Tailspin Toys (Knifley, KY)</td><td>PLATINUM  </td></tr><tr><td>194</td><td>Tailspin Toys (Naples Park, FL)</td><td>GOLD      </td></tr><tr><td>195</td><td>Tailspin Toys (Lesslie, SC)</td><td>PLATINUM  </td></tr><tr><td>196</td><td>Tailspin Toys (Howells, NE)</td><td>PLATINUM  </td></tr><tr><td>197</td><td>Tailspin Toys (Magalia, CA)</td><td>GOLD      </td></tr><tr><td>198</td><td>Tailspin Toys (Buell, MO)</td><td>PLATINUM  </td></tr><tr><td>199</td><td>Tailspin Toys (Antonito, CO)</td><td>GOLD      </td></tr><tr><td>200</td><td>Tailspin Toys (Tooele, UT)</td><td>PLATINUM  </td></tr><tr><td>201</td><td>Tailspin Toys (Skyway, WA)</td><td>PLATINUM  </td></tr><tr><td>202</td><td>Wingtip Toys (Head Office)</td><td>PLATINUM  </td></tr><tr><td>203</td><td>Wingtip Toys (Black Lick, PA)</td><td>PLATINUM  </td></tr><tr><td>204</td><td>Wingtip Toys (Queen Valley, AZ)</td><td>PLATINUM  </td></tr><tr><td>205</td><td>Wingtip Toys (Penns Creek, PA)</td><td>GOLD      </td></tr><tr><td>206</td><td>Wingtip Toys (Bourbonnais, IL)</td><td>PLATINUM  </td></tr><tr><td>207</td><td>Wingtip Toys (Tuscaloosa, AL)</td><td>PLATINUM  </td></tr><tr><td>208</td><td>Wingtip Toys (Mooringsport, LA)</td><td>PLATINUM  </td></tr><tr><td>209</td><td>Wingtip Toys (Rockwall, TX)</td><td>PLATINUM  </td></tr><tr><td>210</td><td>Wingtip Toys (Orick, CA)</td><td>PLATINUM  </td></tr><tr><td>211</td><td>Wingtip Toys (Bernstein, TX)</td><td>PLATINUM  </td></tr><tr><td>212</td><td>Wingtip Toys (Edmund, WI)</td><td>GOLD      </td></tr><tr><td>213</td><td>Wingtip Toys (Bozeman Hot Springs, MT)</td><td>PLATINUM  </td></tr><tr><td>214</td><td>Wingtip Toys (Truscott, TX)</td><td>PLATINUM  </td></tr><tr><td>215</td><td>Wingtip Toys (Rose Tree, PA)</td><td>PLATINUM  </td></tr><tr><td>216</td><td>Wingtip Toys (Leathersville, GA)</td><td>PLATINUM  </td></tr><tr><td>217</td><td>Wingtip Toys (Necedah, WI)</td><td>PLATINUM  </td></tr><tr><td>218</td><td>Wingtip Toys (Chetek, WI)</td><td>GOLD      </td></tr><tr><td>219</td><td>Wingtip Toys (Yaak, MT)</td><td>PLATINUM  </td></tr><tr><td>220</td><td>Wingtip Toys (Compass Lake, FL)</td><td>GOLD      </td></tr><tr><td>221</td><td>Wingtip Toys (Herlong, CA)</td><td>PLATINUM  </td></tr><tr><td>222</td><td>Wingtip Toys (Highland Home, AL)</td><td>PLATINUM  </td></tr><tr><td>223</td><td>Wingtip Toys (Naches, WA)</td><td>PLATINUM  </td></tr><tr><td>224</td><td>Wingtip Toys (Baldwin City, KS)</td><td>GOLD      </td></tr><tr><td>225</td><td>Wingtip Toys (Heartwell, NE)</td><td>GOLD      </td></tr><tr><td>226</td><td>Wingtip Toys (Bethel Acres, OK)</td><td>PLATINUM  </td></tr><tr><td>227</td><td>Wingtip Toys (Willow Valley, AZ)</td><td>GOLD      </td></tr><tr><td>228</td><td>Wingtip Toys (Athol Springs, NY)</td><td>PLATINUM  </td></tr><tr><td>229</td><td>Wingtip Toys (Paw Paw Lake, MI)</td><td>PLATINUM  </td></tr><tr><td>230</td><td>Wingtip Toys (Lilbourn, MO)</td><td>PLATINUM  </td></tr><tr><td>231</td><td>Wingtip Toys (Lost River, ID)</td><td>PLATINUM  </td></tr><tr><td>232</td><td>Wingtip Toys (Rosa Sánchez, PR)</td><td>PLATINUM  </td></tr><tr><td>233</td><td>Wingtip Toys (Vamo, FL)</td><td>PLATINUM  </td></tr><tr><td>234</td><td>Wingtip Toys (Balko, OK)</td><td>GOLD      </td></tr><tr><td>235</td><td>Wingtip Toys (Lime Lake, NY)</td><td>PLATINUM  </td></tr><tr><td>236</td><td>Wingtip Toys (Teutopolis, IL)</td><td>PLATINUM  </td></tr><tr><td>237</td><td>Wingtip Toys (Gargatha, VA)</td><td>PLATINUM  </td></tr><tr><td>238</td><td>Wingtip Toys (Cadogan, PA)</td><td>PLATINUM  </td></tr><tr><td>239</td><td>Wingtip Toys (Lucasville, OH)</td><td>PLATINUM  </td></tr><tr><td>240</td><td>Wingtip Toys (Cylon, WI)</td><td>PLATINUM  </td></tr><tr><td>241</td><td>Wingtip Toys (Asher, OK)</td><td>PLATINUM  </td></tr><tr><td>242</td><td>Wingtip Toys (Keosauqua, IA)</td><td>PLATINUM  </td></tr><tr><td>243</td><td>Wingtip Toys (Homer City, PA)</td><td>PLATINUM  </td></tr><tr><td>244</td><td>Wingtip Toys (Berville, MI)</td><td>PLATINUM  </td></tr><tr><td>245</td><td>Wingtip Toys (Tea, SD)</td><td>PLATINUM  </td></tr><tr><td>246</td><td>Wingtip Toys (Dacono, CO)</td><td>PLATINUM  </td></tr><tr><td>247</td><td>Wingtip Toys (Saint Landry, LA)</td><td>GOLD      </td></tr><tr><td>248</td><td>Wingtip Toys (Coin, IA)</td><td>PLATINUM  </td></tr><tr><td>249</td><td>Wingtip Toys (Salt Wells, NV)</td><td>PLATINUM  </td></tr><tr><td>250</td><td>Wingtip Toys (Delray, WV)</td><td>PLATINUM  </td></tr><tr><td>251</td><td>Wingtip Toys (Mount Summit, IN)</td><td>GOLD      </td></tr><tr><td>252</td><td>Wingtip Toys (Smoot, WY)</td><td>PLATINUM  </td></tr><tr><td>253</td><td>Wingtip Toys (Lake Davis, CA)</td><td>PLATINUM  </td></tr><tr><td>254</td><td>Wingtip Toys (Stanardsville, VA)</td><td>GOLD      </td></tr><tr><td>255</td><td>Wingtip Toys (Corcovado, PR)</td><td>GOLD      </td></tr><tr><td>256</td><td>Wingtip Toys (Taft Heights, CA)</td><td>PLATINUM  </td></tr><tr><td>257</td><td>Wingtip Toys (West Hempstead, NY)</td><td>PLATINUM  </td></tr><tr><td>258</td><td>Wingtip Toys (Portales, NM)</td><td>GOLD      </td></tr><tr><td>259</td><td>Wingtip Toys (Coker, AL)</td><td>PLATINUM  </td></tr><tr><td>260</td><td>Wingtip Toys (Haydenville, OH)</td><td>PLATINUM  </td></tr><tr><td>261</td><td>Wingtip Toys (Mayhill, NM)</td><td>PLATINUM  </td></tr><tr><td>262</td><td>Wingtip Toys (Vair, TX)</td><td>GOLD      </td></tr><tr><td>263</td><td>Wingtip Toys (Crossroads, NM)</td><td>GOLD      </td></tr><tr><td>264</td><td>Wingtip Toys (Cowlington, OK)</td><td>PLATINUM  </td></tr><tr><td>265</td><td>Wingtip Toys (Glen Ullin, ND)</td><td>PLATINUM  </td></tr><tr><td>266</td><td>Wingtip Toys (Oologah, OK)</td><td>PLATINUM  </td></tr><tr><td>267</td><td>Wingtip Toys (Lytle, TX)</td><td>PLATINUM  </td></tr><tr><td>268</td><td>Wingtip Toys (Mahaffey, PA)</td><td>PLATINUM  </td></tr><tr><td>269</td><td>Wingtip Toys (Sunburg, MN)</td><td>PLATINUM  </td></tr><tr><td>270</td><td>Wingtip Toys (Johnetta, KY)</td><td>PLATINUM  </td></tr><tr><td>271</td><td>Wingtip Toys (Universal City, TX)</td><td>GOLD      </td></tr><tr><td>272</td><td>Wingtip Toys (Ridgemark, CA)</td><td>PLATINUM  </td></tr><tr><td>273</td><td>Wingtip Toys (San Jacinto, CA)</td><td>PLATINUM  </td></tr><tr><td>274</td><td>Wingtip Toys (Floriston, CA)</td><td>PLATINUM  </td></tr><tr><td>275</td><td>Wingtip Toys (Bokeelia, FL)</td><td>PLATINUM  </td></tr><tr><td>276</td><td>Wingtip Toys (Cale, AR)</td><td>PLATINUM  </td></tr><tr><td>277</td><td>Wingtip Toys (Karthaus, PA)</td><td>PLATINUM  </td></tr><tr><td>278</td><td>Wingtip Toys (Glancy, MS)</td><td>GOLD      </td></tr><tr><td>279</td><td>Wingtip Toys (Stoneboro, PA)</td><td>PLATINUM  </td></tr><tr><td>280</td><td>Wingtip Toys (Mier, IN)</td><td>PLATINUM  </td></tr><tr><td>281</td><td>Wingtip Toys (Wapinitia, OR)</td><td>PLATINUM  </td></tr><tr><td>282</td><td>Wingtip Toys (White Church, MO)</td><td>PLATINUM  </td></tr><tr><td>283</td><td>Wingtip Toys (Caton, NY)</td><td>GOLD      </td></tr><tr><td>284</td><td>Wingtip Toys (Plum Branch, SC)</td><td>PLATINUM  </td></tr><tr><td>285</td><td>Wingtip Toys (Mauldin, SC)</td><td>PLATINUM  </td></tr><tr><td>286</td><td>Wingtip Toys (Bonner Springs, KS)</td><td>PLATINUM  </td></tr><tr><td>287</td><td>Wingtip Toys (Lowellville, OH)</td><td>GOLD      </td></tr><tr><td>288</td><td>Wingtip Toys (Elverson, PA)</td><td>PLATINUM  </td></tr><tr><td>289</td><td>Wingtip Toys (Isabela, PR)</td><td>PLATINUM  </td></tr><tr><td>290</td><td>Wingtip Toys (Sayner, WI)</td><td>PLATINUM  </td></tr><tr><td>291</td><td>Wingtip Toys (Beals, ME)</td><td>GOLD      </td></tr><tr><td>292</td><td>Wingtip Toys (Morton Grove, IL)</td><td>GOLD      </td></tr><tr><td>293</td><td>Wingtip Toys (Birds, IL)</td><td>PLATINUM  </td></tr><tr><td>294</td><td>Wingtip Toys (Federalsburg, MD)</td><td>PLATINUM  </td></tr><tr><td>295</td><td>Wingtip Toys (Pikeview, CO)</td><td>PLATINUM  </td></tr><tr><td>296</td><td>Wingtip Toys (Boalsburg, PA)</td><td>PLATINUM  </td></tr><tr><td>297</td><td>Wingtip Toys (Port Hueneme, CA)</td><td>PLATINUM  </td></tr><tr><td>298</td><td>Wingtip Toys (Verdery, SC)</td><td>PLATINUM  </td></tr><tr><td>299</td><td>Wingtip Toys (Obetz, OH)</td><td>PLATINUM  </td></tr><tr><td>300</td><td>Wingtip Toys (East Fultonham, OH)</td><td>PLATINUM  </td></tr><tr><td>301</td><td>Wingtip Toys (Obion, TN)</td><td>PLATINUM  </td></tr><tr><td>302</td><td>Wingtip Toys (Cavendish, VT)</td><td>PLATINUM  </td></tr><tr><td>303</td><td>Wingtip Toys (Miesville, MN)</td><td>GOLD      </td></tr><tr><td>304</td><td>Wingtip Toys (Valhalla, NC)</td><td>PLATINUM  </td></tr><tr><td>305</td><td>Wingtip Toys (Cape Neddick, ME)</td><td>GOLD      </td></tr><tr><td>306</td><td>Wingtip Toys (Silver Plume, CO)</td><td>PLATINUM  </td></tr><tr><td>307</td><td>Wingtip Toys (North Beach Haven, NJ)</td><td>PLATINUM  </td></tr><tr><td>308</td><td>Wingtip Toys (Downingtown, PA)</td><td>PLATINUM  </td></tr><tr><td>309</td><td>Wingtip Toys (Branson West, MO)</td><td>PLATINUM  </td></tr><tr><td>310</td><td>Wingtip Toys (Bergen Park, CO)</td><td>PLATINUM  </td></tr><tr><td>311</td><td>Wingtip Toys (Grabill, IN)</td><td>PLATINUM  </td></tr><tr><td>312</td><td>Wingtip Toys (North Manitou, MI)</td><td>GOLD      </td></tr><tr><td>313</td><td>Wingtip Toys (Philip, SD)</td><td>PLATINUM  </td></tr><tr><td>314</td><td>Wingtip Toys (Straughn, IN)</td><td>GOLD      </td></tr><tr><td>315</td><td>Wingtip Toys (Gilford, NH)</td><td>PLATINUM  </td></tr><tr><td>316</td><td>Wingtip Toys (Del Valle, TX)</td><td>GOLD      </td></tr><tr><td>317</td><td>Wingtip Toys (Harkers Island, NC)</td><td>PLATINUM  </td></tr><tr><td>318</td><td>Wingtip Toys (Licking, MO)</td><td>PLATINUM  </td></tr><tr><td>319</td><td>Wingtip Toys (Raton, NM)</td><td>PLATINUM  </td></tr><tr><td>320</td><td>Wingtip Toys (Boynton, OK)</td><td>PLATINUM  </td></tr><tr><td>321</td><td>Wingtip Toys (Frenchburg, KY)</td><td>PLATINUM  </td></tr><tr><td>322</td><td>Wingtip Toys (Robertsdale, AL)</td><td>PLATINUM  </td></tr><tr><td>323</td><td>Wingtip Toys (Dickerson, MD)</td><td>GOLD      </td></tr><tr><td>324</td><td>Wingtip Toys (Bruceton Mills, WV)</td><td>PLATINUM  </td></tr><tr><td>325</td><td>Wingtip Toys (Cloquet, MN)</td><td>PLATINUM  </td></tr><tr><td>326</td><td>Wingtip Toys (Claycomo, MO)</td><td>PLATINUM  </td></tr><tr><td>327</td><td>Wingtip Toys (Beekmantown, NY)</td><td>PLATINUM  </td></tr><tr><td>328</td><td>Wingtip Toys (Islip Terrace, NY)</td><td>PLATINUM  </td></tr><tr><td>329</td><td>Wingtip Toys (Rich Creek, VA)</td><td>PLATINUM  </td></tr><tr><td>330</td><td>Wingtip Toys (Griswoldville, GA)</td><td>PLATINUM  </td></tr><tr><td>331</td><td>Wingtip Toys (East Mountain, TX)</td><td>GOLD      </td></tr><tr><td>332</td><td>Wingtip Toys (Omer, MI)</td><td>PLATINUM  </td></tr><tr><td>333</td><td>Wingtip Toys (Waycross, GA)</td><td>PLATINUM  </td></tr><tr><td>334</td><td>Wingtip Toys (Nichols Hills, OK)</td><td>PLATINUM  </td></tr><tr><td>335</td><td>Wingtip Toys (Plaquemine, LA)</td><td>PLATINUM  </td></tr><tr><td>336</td><td>Wingtip Toys (Triadelphia, WV)</td><td>PLATINUM  </td></tr><tr><td>337</td><td>Wingtip Toys (Ferney, SD)</td><td>PLATINUM  </td></tr><tr><td>338</td><td>Wingtip Toys (Akhiok, AK)</td><td>PLATINUM  </td></tr><tr><td>339</td><td>Wingtip Toys (Deeson, MS)</td><td>PLATINUM  </td></tr><tr><td>340</td><td>Wingtip Toys (Nuangola, PA)</td><td>GOLD      </td></tr><tr><td>341</td><td>Wingtip Toys (Weld, ME)</td><td>PLATINUM  </td></tr><tr><td>342</td><td>Wingtip Toys (Mickleton, NJ)</td><td>PLATINUM  </td></tr><tr><td>343</td><td>Wingtip Toys (Schererville, IN)</td><td>PLATINUM  </td></tr><tr><td>344</td><td>Wingtip Toys (Lexington Heights, MI)</td><td>PLATINUM  </td></tr><tr><td>345</td><td>Wingtip Toys (Broomtown, AL)</td><td>PLATINUM  </td></tr><tr><td>346</td><td>Wingtip Toys (Jamison, IA)</td><td>PLATINUM  </td></tr><tr><td>347</td><td>Wingtip Toys (Key Biscayne, FL)</td><td>PLATINUM  </td></tr><tr><td>348</td><td>Wingtip Toys (Chaseley, ND)</td><td>GOLD      </td></tr><tr><td>349</td><td>Wingtip Toys (Indian Creek, IL)</td><td>PLATINUM  </td></tr><tr><td>350</td><td>Wingtip Toys (Lake Ronkonkoma, NY)</td><td>PLATINUM  </td></tr><tr><td>351</td><td>Wingtip Toys (Morrison Bluff, AR)</td><td>PLATINUM  </td></tr><tr><td>352</td><td>Wingtip Toys (Huntingburg, IN)</td><td>PLATINUM  </td></tr><tr><td>353</td><td>Wingtip Toys (Shay, PA)</td><td>PLATINUM  </td></tr><tr><td>354</td><td>Wingtip Toys (Helotes, TX)</td><td>GOLD      </td></tr><tr><td>355</td><td>Wingtip Toys (Hollandsburg, IN)</td><td>PLATINUM  </td></tr><tr><td>356</td><td>Wingtip Toys (Liberty Grove, MD)</td><td>PLATINUM  </td></tr><tr><td>357</td><td>Wingtip Toys (Morita, TX)</td><td>GOLD      </td></tr><tr><td>358</td><td>Wingtip Toys (New Laguna, NM)</td><td>GOLD      </td></tr><tr><td>359</td><td>Wingtip Toys (Bourneville, OH)</td><td>PLATINUM  </td></tr><tr><td>360</td><td>Wingtip Toys (Mendoza, TX)</td><td>PLATINUM  </td></tr><tr><td>361</td><td>Wingtip Toys (Palmas del Mar, PR)</td><td>GOLD      </td></tr><tr><td>362</td><td>Wingtip Toys (Marion Junction, AL)</td><td>PLATINUM  </td></tr><tr><td>363</td><td>Wingtip Toys (Ware Shoals, SC)</td><td>PLATINUM  </td></tr><tr><td>364</td><td>Wingtip Toys (Lostine, OR)</td><td>GOLD      </td></tr><tr><td>365</td><td>Wingtip Toys (Tilleda, WI)</td><td>PLATINUM  </td></tr><tr><td>366</td><td>Wingtip Toys (Wapiti, WY)</td><td>PLATINUM  </td></tr><tr><td>367</td><td>Wingtip Toys (Amado, AZ)</td><td>PLATINUM  </td></tr><tr><td>368</td><td>Wingtip Toys (Jeromesville, OH)</td><td>GOLD      </td></tr><tr><td>369</td><td>Wingtip Toys (Ovilla, TX)</td><td>GOLD      </td></tr><tr><td>370</td><td>Wingtip Toys (West Frostproof, FL)</td><td>PLATINUM  </td></tr><tr><td>371</td><td>Wingtip Toys (Flomaton, AL)</td><td>PLATINUM  </td></tr><tr><td>372</td><td>Wingtip Toys (Pawlet, VT)</td><td>PLATINUM  </td></tr><tr><td>373</td><td>Wingtip Toys (Trout Run, PA)</td><td>PLATINUM  </td></tr><tr><td>374</td><td>Wingtip Toys (Marin City, CA)</td><td>GOLD      </td></tr><tr><td>375</td><td>Wingtip Toys (Molalla, OR)</td><td>PLATINUM  </td></tr><tr><td>376</td><td>Wingtip Toys (Trumansburg, NY)</td><td>PLATINUM  </td></tr><tr><td>377</td><td>Wingtip Toys (Goodings Grove, IL)</td><td>GOLD      </td></tr><tr><td>378</td><td>Wingtip Toys (Cherryplain, NY)</td><td>REGULAR   </td></tr><tr><td>379</td><td>Wingtip Toys (Bell Acres, PA)</td><td>PLATINUM  </td></tr><tr><td>380</td><td>Wingtip Toys (Connoquenessing, PA)</td><td>PLATINUM  </td></tr><tr><td>381</td><td>Wingtip Toys (Sarversville, PA)</td><td>PLATINUM  </td></tr><tr><td>382</td><td>Wingtip Toys (Munich, ND)</td><td>GOLD      </td></tr><tr><td>383</td><td>Wingtip Toys (Montoya, NM)</td><td>PLATINUM  </td></tr><tr><td>384</td><td>Wingtip Toys (Knights Landing, CA)</td><td>PLATINUM  </td></tr><tr><td>385</td><td>Wingtip Toys (Cache, OK)</td><td>PLATINUM  </td></tr><tr><td>386</td><td>Wingtip Toys (Towaco, NJ)</td><td>PLATINUM  </td></tr><tr><td>387</td><td>Wingtip Toys (Lynne, FL)</td><td>PLATINUM  </td></tr><tr><td>388</td><td>Wingtip Toys (Plata, TX)</td><td>PLATINUM  </td></tr><tr><td>389</td><td>Wingtip Toys (Oak Point, TX)</td><td>PLATINUM  </td></tr><tr><td>390</td><td>Wingtip Toys (Alcester, SD)</td><td>PLATINUM  </td></tr><tr><td>391</td><td>Wingtip Toys (McAdenville, NC)</td><td>GOLD      </td></tr><tr><td>392</td><td>Wingtip Toys (Idaho City, ID)</td><td>PLATINUM  </td></tr><tr><td>393</td><td>Wingtip Toys (Dunkerton, IA)</td><td>PLATINUM  </td></tr><tr><td>394</td><td>Wingtip Toys (Cuyamungue, NM)</td><td>PLATINUM  </td></tr><tr><td>395</td><td>Wingtip Toys (Marfa, TX)</td><td>PLATINUM  </td></tr><tr><td>396</td><td>Wingtip Toys (Accomac, VA)</td><td>PLATINUM  </td></tr><tr><td>397</td><td>Wingtip Toys (Cos Cob, CT)</td><td>PLATINUM  </td></tr><tr><td>398</td><td>Wingtip Toys (Haycock, AK)</td><td>PLATINUM  </td></tr><tr><td>399</td><td>Wingtip Toys (Kapa'a, HI)</td><td>PLATINUM  </td></tr><tr><td>400</td><td>Wingtip Toys (Dickworsham, TX)</td><td>GOLD      </td></tr><tr><td>401</td><td>Wingtip Toys (Caro, MI)</td><td>PLATINUM  </td></tr><tr><td>402</td><td>Wingtip Toys (Ruthsburg, MD)</td><td>PLATINUM  </td></tr></table>"
                    }
                }
            ],
            "execution_count": 3
        },
        {
            "cell_type": "markdown",
            "source": "## Step 4: Run the query with scalar UDF inlining\r\nTake off the query hint and watch how faster this query runs",
            "metadata": {}
        },
        {
            "cell_type": "code",
            "source": "SELECT [Customer Key], [Customer], [Dimension].[customer_category]([Customer Key]) AS [Discount Price]\r\nFROM [Dimension].[Customer]\r\nORDER BY [Customer Key]\r\nGO",
            "metadata": {},
            "outputs": [
                {
                    "output_type": "display_data",
                    "data": {
                        "text/html": "(403 rows affected)"
                    },
                    "metadata": {}
                },
                {
                    "output_type": "display_data",
                    "data": {
                        "text/html": "Total execution time: 00:00:13.7864965"
                    },
                    "metadata": {}
                },
                {
                    "output_type": "execute_result",
                    "metadata": {},
                    "execution_count": 4,
                    "data": {
                        "application/vnd.dataresource+json": {
                            "schema": {
                                "fields": [
                                    {
                                        "name": "Customer Key"
                                    },
                                    {
                                        "name": "Customer"
                                    },
                                    {
                                        "name": "Discount Price"
                                    }
                                ]
                            },
                            "data": [
                                {
                                    "0": "0",
                                    "1": "Unknown",
                                    "2": "PLATINUM  "
                                },
                                {
                                    "0": "1",
                                    "1": "Tailspin Toys (Head Office)",
                                    "2": "PLATINUM  "
                                },
                                {
                                    "0": "2",
                                    "1": "Tailspin Toys (Sylvanite, MT)",
                                    "2": "GOLD      "
                                },
                                {
                                    "0": "3",
                                    "1": "Tailspin Toys (Peeples Valley, AZ)",
                                    "2": "PLATINUM  "
                                },
                                {
                                    "0": "4",
                                    "1": "Tailspin Toys (Medicine Lodge, KS)",
                                    "2": "PLATINUM  "
                                },
                                {
                                    "0": "5",
                                    "1": "Tailspin Toys (Gasport, NY)",
                                    "2": "PLATINUM  "
                                },
                                {
                                    "0": "6",
                                    "1": "Tailspin Toys (Jessie, ND)",
                                    "2": "PLATINUM  "
                                },
                                {
                                    "0": "7",
                                    "1": "Tailspin Toys (Frankewing, TN)",
                                    "2": "PLATINUM  "
                                },
                                {
                                    "0": "8",
                                    "1": "Tailspin Toys (Bow Mar, CO)",
                                    "2": "GOLD      "
                                },
                                {
                                    "0": "9",
                                    "1": "Tailspin Toys (Netcong, NJ)",
                                    "2": "PLATINUM  "
                                },
                                {
                                    "0": "10",
                                    "1": "Tailspin Toys (Wimbledon, ND)",
                                    "2": "PLATINUM  "
                                },
                                {
                                    "0": "11",
                                    "1": "Tailspin Toys (Devault, PA)",
                                    "2": "PLATINUM  "
                                },
                                {
                                    "0": "12",
                                    "1": "Tailspin Toys (Biscay, MN)",
                                    "2": "PLATINUM  "
                                },
                                {
                                    "0": "13",
                                    "1": "Tailspin Toys (Stonefort, IL)",
                                    "2": "GOLD      "
                                },
                                {
                                    "0": "14",
                                    "1": "Tailspin Toys (Long Meadow, MD)",
                                    "2": "PLATINUM  "
                                },
                                {
                                    "0": "15",
                                    "1": "Tailspin Toys (Batson, TX)",
                                    "2": "PLATINUM  "
                                },
                                {
                                    "0": "16",
                                    "1": "Tailspin Toys (Coney Island, MO)",
                                    "2": "PLATINUM  "
                                },
                                {
                                    "0": "17",
                                    "1": "Tailspin Toys (East Fultonham, OH)",
                                    "2": "PLATINUM  "
                                },
                                {
                                    "0": "18",
                                    "1": "Tailspin Toys (Goffstown, NH)",
                                    "2": "PLATINUM  "
                                },
                                {
                                    "0": "19",
                                    "1": "Tailspin Toys (Lemeta, AK)",
                                    "2": "GOLD      "
                                },
                                {
                                    "0": "20",
                                    "1": "Tailspin Toys (College Place, WA)",
                                    "2": "GOLD      "
                                },
                                {
                                    "0": "21",
                                    "1": "Tailspin Toys (Tresckow, PA)",
                                    "2": "PLATINUM  "
                                },
                                {
                                    "0": "22",
                                    "1": "Tailspin Toys (Ward Ridge, FL)",
                                    "2": "GOLD      "
                                },
                                {
                                    "0": "23",
                                    "1": "Tailspin Toys (Ikatan, AK)",
                                    "2": "GOLD      "
                                },
                                {
                                    "0": "24",
                                    "1": "Tailspin Toys (Dundarrach, NC)",
                                    "2": "GOLD      "
                                },
                                {
                                    "0": "25",
                                    "1": "Tailspin Toys (Avenal, CA)",
                                    "2": "PLATINUM  "
                                },
                                {
                                    "0": "26",
                                    "1": "Tailspin Toys (Hedrick, IA)",
                                    "2": "PLATINUM  "
                                },
                                {
                                    "0": "27",
                                    "1": "Tailspin Toys (Bowlus, MN)",
                                    "2": "PLATINUM  "
                                },
                                {
                                    "0": "28",
                                    "1": "Tailspin Toys (North Ridge, NY)",
                                    "2": "PLATINUM  "
                                },
                                {
                                    "0": "29",
                                    "1": "Tailspin Toys (Eulaton, AL)",
                                    "2": "PLATINUM  "
                                },
                                {
                                    "0": "30",
                                    "1": "Tailspin Toys (Koontzville, WA)",
                                    "2": "PLATINUM  "
                                },
                                {
                                    "0": "31",
                                    "1": "Tailspin Toys (Lake Stevens, WA)",
                                    "2": "PLATINUM  "
                                },
                                {
                                    "0": "32",
                                    "1": "Tailspin Toys (Maypearl, TX)",
                                    "2": "PLATINUM  "
                                },
                                {
                                    "0": "33",
                                    "1": "Tailspin Toys (Boyden Arbor, SC)",
                                    "2": "PLATINUM  "
                                },
                                {
                                    "0": "34",
                                    "1": "Tailspin Toys (Dallardsville, TX)",
                                    "2": "PLATINUM  "
                                },
                                {
                                    "0": "35",
                                    "1": "Tailspin Toys (Slanesville, WV)",
                                    "2": "PLATINUM  "
                                },
                                {
                                    "0": "36",
                                    "1": "Tailspin Toys (Ekron, KY)",
                                    "2": "GOLD      "
                                },
                                {
                                    "0": "37",
                                    "1": "Tailspin Toys (Kerby, OR)",
                                    "2": "PLATINUM  "
                                },
                                {
                                    "0": "38",
                                    "1": "Tailspin Toys (Airport Drive, MO)",
                                    "2": "PLATINUM  "
                                },
                                {
                                    "0": "39",
                                    "1": "Tailspin Toys (Diablock, KY)",
                                    "2": "GOLD      "
                                },
                                {
                                    "0": "40",
                                    "1": "Tailspin Toys (Impact, TX)",
                                    "2": "PLATINUM  "
                                },
                                {
                                    "0": "41",
                                    "1": "Tailspin Toys (Olivette, MO)",
                                    "2": "GOLD      "
                                },
                                {
                                    "0": "42",
                                    "1": "Tailspin Toys (Arietta, NY)",
                                    "2": "PLATINUM  "
                                },
                                {
                                    "0": "43",
                                    "1": "Tailspin Toys (Upper Preston, WA)",
                                    "2": "PLATINUM  "
                                },
                                {
                                    "0": "44",
                                    "1": "Tailspin Toys (Amanda Park, WA)",
                                    "2": "PLATINUM  "
                                },
                                {
                                    "0": "45",
                                    "1": "Tailspin Toys (Severna Park, MD)",
                                    "2": "PLATINUM  "
                                },
                                {
                                    "0": "46",
                                    "1": "Tailspin Toys (Jemison, AL)",
                                    "2": "PLATINUM  "
                                },
                                {
                                    "0": "47",
                                    "1": "Tailspin Toys (Lake Hughes, CA)",
                                    "2": "GOLD      "
                                },
                                {
                                    "0": "48",
                                    "1": "Tailspin Toys (Trentwood, WA)",
                                    "2": "PLATINUM  "
                                },
                                {
                                    "0": "49",
                                    "1": "Tailspin Toys (Muir, MI)",
                                    "2": "GOLD      "
                                },
                                {
                                    "0": "50",
                                    "1": "Tailspin Toys (Hambleton, WV)",
                                    "2": "PLATINUM  "
                                },
                                {
                                    "0": "51",
                                    "1": "Tailspin Toys (Imlaystown, NJ)",
                                    "2": "PLATINUM  "
                                },
                                {
                                    "0": "52",
                                    "1": "Tailspin Toys (Idria, CA)",
                                    "2": "PLATINUM  "
                                },
                                {
                                    "0": "53",
                                    "1": "Tailspin Toys (Nanafalia, AL)",
                                    "2": "PLATINUM  "
                                },
                                {
                                    "0": "54",
                                    "1": "Tailspin Toys (Railroad, PA)",
                                    "2": "GOLD      "
                                },
                                {
                                    "0": "55",
                                    "1": "Tailspin Toys (Gum Branch, GA)",
                                    "2": "PLATINUM  "
                                },
                                {
                                    "0": "56",
                                    "1": "Tailspin Toys (Royal City, WA)",
                                    "2": "PLATINUM  "
                                },
                                {
                                    "0": "57",
                                    "1": "Tailspin Toys (Lakemore, OH)",
                                    "2": "GOLD      "
                                },
                                {
                                    "0": "58",
                                    "1": "Tailspin Toys (Mappsburg, VA)",
                                    "2": "PLATINUM  "
                                },
                                {
                                    "0": "59",
                                    "1": "Tailspin Toys (Edgartown, MA)",
                                    "2": "PLATINUM  "
                                },
                                {
                                    "0": "60",
                                    "1": "Tailspin Toys (East Dailey, WV)",
                                    "2": "GOLD      "
                                },
                                {
                                    "0": "61",
                                    "1": "Tailspin Toys (Fairfield Glade, TN)",
                                    "2": "GOLD      "
                                },
                                {
                                    "0": "62",
                                    "1": "Tailspin Toys (Great Neck Estates, NY)",
                                    "2": "GOLD      "
                                },
                                {
                                    "0": "63",
                                    "1": "Tailspin Toys (Stallion Springs, CA)",
                                    "2": "PLATINUM  "
                                },
                                {
                                    "0": "64",
                                    "1": "Tailspin Toys (Hodgdon, ME)",
                                    "2": "PLATINUM  "
                                },
                                {
                                    "0": "65",
                                    "1": "Tailspin Toys (North Cowden, TX)",
                                    "2": "PLATINUM  "
                                },
                                {
                                    "0": "66",
                                    "1": "Tailspin Toys (Madaket, MA)",
                                    "2": "GOLD      "
                                },
                                {
                                    "0": "67",
                                    "1": "Tailspin Toys (Sentinel Butte, ND)",
                                    "2": "PLATINUM  "
                                },
                                {
                                    "0": "68",
                                    "1": "Tailspin Toys (Gardere, LA)",
                                    "2": "PLATINUM  "
                                },
                                {
                                    "0": "69",
                                    "1": "Tailspin Toys (Lytle Creek, CA)",
                                    "2": "PLATINUM  "
                                },
                                {
                                    "0": "70",
                                    "1": "Tailspin Toys (New Baden, IL)",
                                    "2": "PLATINUM  "
                                },
                                {
                                    "0": "71",
                                    "1": "Tailspin Toys (Good Hart, MI)",
                                    "2": "PLATINUM  "
                                },
                                {
                                    "0": "72",
                                    "1": "Tailspin Toys (Cortaro, AZ)",
                                    "2": "PLATINUM  "
                                },
                                {
                                    "0": "73",
                                    "1": "Tailspin Toys (Cokato, MN)",
                                    "2": "GOLD      "
                                },
                                {
                                    "0": "74",
                                    "1": "Tailspin Toys (Indios, PR)",
                                    "2": "PLATINUM  "
                                },
                                {
                                    "0": "75",
                                    "1": "Tailspin Toys (Windsor Locks, CT)",
                                    "2": "PLATINUM  "
                                },
                                {
                                    "0": "76",
                                    "1": "Tailspin Toys (Yewed, OK)",
                                    "2": "GOLD      "
                                },
                                {
                                    "0": "77",
                                    "1": "Tailspin Toys (Hahira, GA)",
                                    "2": "PLATINUM  "
                                },
                                {
                                    "0": "78",
                                    "1": "Tailspin Toys (Sekiu, WA)",
                                    "2": "PLATINUM  "
                                },
                                {
                                    "0": "79",
                                    "1": "Tailspin Toys (Page City, KS)",
                                    "2": "PLATINUM  "
                                },
                                {
                                    "0": "80",
                                    "1": "Tailspin Toys (Valdese, NC)",
                                    "2": "PLATINUM  "
                                },
                                {
                                    "0": "81",
                                    "1": "Tailspin Toys (Big Moose, NY)",
                                    "2": "PLATINUM  "
                                },
                                {
                                    "0": "82",
                                    "1": "Tailspin Toys (La Cueva, NM)",
                                    "2": "PLATINUM  "
                                },
                                {
                                    "0": "83",
                                    "1": "Tailspin Toys (Absecon, NJ)",
                                    "2": "PLATINUM  "
                                },
                                {
                                    "0": "84",
                                    "1": "Tailspin Toys (Aceitunas, PR)",
                                    "2": "PLATINUM  "
                                },
                                {
                                    "0": "85",
                                    "1": "Tailspin Toys (Andrix, CO)",
                                    "2": "PLATINUM  "
                                },
                                {
                                    "0": "86",
                                    "1": "Tailspin Toys (New Lexington, OH)",
                                    "2": "PLATINUM  "
                                },
                                {
                                    "0": "87",
                                    "1": "Tailspin Toys (Sauquoit, NY)",
                                    "2": "PLATINUM  "
                                },
                                {
                                    "0": "88",
                                    "1": "Tailspin Toys (Dracut, MA)",
                                    "2": "PLATINUM  "
                                },
                                {
                                    "0": "89",
                                    "1": "Tailspin Toys (Victory Gardens, NJ)",
                                    "2": "PLATINUM  "
                                },
                                {
                                    "0": "90",
                                    "1": "Tailspin Toys (Tolna, ND)",
                                    "2": "PLATINUM  "
                                },
                                {
                                    "0": "91",
                                    "1": "Tailspin Toys (Alstead, NH)",
                                    "2": "GOLD      "
                                },
                                {
                                    "0": "92",
                                    "1": "Tailspin Toys (Sans Souci, SC)",
                                    "2": "PLATINUM  "
                                },
                                {
                                    "0": "93",
                                    "1": "Tailspin Toys (Clewiston, FL)",
                                    "2": "PLATINUM  "
                                },
                                {
                                    "0": "94",
                                    "1": "Tailspin Toys (Cheyenne Wells, CO)",
                                    "2": "PLATINUM  "
                                },
                                {
                                    "0": "95",
                                    "1": "Tailspin Toys (Lavon, TX)",
                                    "2": "GOLD      "
                                },
                                {
                                    "0": "96",
                                    "1": "Tailspin Toys (South La Paloma, TX)",
                                    "2": "PLATINUM  "
                                },
                                {
                                    "0": "97",
                                    "1": "Tailspin Toys (Manchester Center, VT)",
                                    "2": "PLATINUM  "
                                },
                                {
                                    "0": "98",
                                    "1": "Tailspin Toys (El Centro, CA)",
                                    "2": "PLATINUM  "
                                },
                                {
                                    "0": "99",
                                    "1": "Tailspin Toys (Guin, AL)",
                                    "2": "PLATINUM  "
                                },
                                {
                                    "0": "100",
                                    "1": "Tailspin Toys (Tunnelhill, PA)",
                                    "2": "GOLD      "
                                },
                                {
                                    "0": "101",
                                    "1": "Tailspin Toys (Cundiyo, NM)",
                                    "2": "PLATINUM  "
                                },
                                {
                                    "0": "102",
                                    "1": "Tailspin Toys (Fieldbrook, CA)",
                                    "2": "PLATINUM  "
                                },
                                {
                                    "0": "103",
                                    "1": "Tailspin Toys (Kalvesta, KS)",
                                    "2": "PLATINUM  "
                                },
                                {
                                    "0": "104",
                                    "1": "Tailspin Toys (Wallagrass, ME)",
                                    "2": "GOLD      "
                                },
                                {
                                    "0": "105",
                                    "1": "Tailspin Toys (Tomnolen, MS)",
                                    "2": "GOLD      "
                                },
                                {
                                    "0": "106",
                                    "1": "Tailspin Toys (Tumacacori, AZ)",
                                    "2": "PLATINUM  "
                                },
                                {
                                    "0": "107",
                                    "1": "Tailspin Toys (Glen Avon, CA)",
                                    "2": "PLATINUM  "
                                },
                                {
                                    "0": "108",
                                    "1": "Tailspin Toys (Bernie, MO)",
                                    "2": "PLATINUM  "
                                },
                                {
                                    "0": "109",
                                    "1": "Tailspin Toys (South Laguna, CA)",
                                    "2": "PLATINUM  "
                                },
                                {
                                    "0": "110",
                                    "1": "Tailspin Toys (North Crows Nest, IN)",
                                    "2": "PLATINUM  "
                                },
                                {
                                    "0": "111",
                                    "1": "Tailspin Toys (Oriole Beach, FL)",
                                    "2": "GOLD      "
                                },
                                {
                                    "0": "112",
                                    "1": "Tailspin Toys (Sallyards, KS)",
                                    "2": "PLATINUM  "
                                },
                                {
                                    "0": "113",
                                    "1": "Tailspin Toys (Dahlia, NM)",
                                    "2": "PLATINUM  "
                                },
                                {
                                    "0": "114",
                                    "1": "Tailspin Toys (Cherry Grove Beach, SC)",
                                    "2": "PLATINUM  "
                                },
                                {
                                    "0": "115",
                                    "1": "Tailspin Toys (Bethania, NC)",
                                    "2": "PLATINUM  "
                                },
                                {
                                    "0": "116",
                                    "1": "Tailspin Toys (Rafael Capó, PR)",
                                    "2": "PLATINUM  "
                                },
                                {
                                    "0": "117",
                                    "1": "Tailspin Toys (Scofield, UT)",
                                    "2": "PLATINUM  "
                                },
                                {
                                    "0": "118",
                                    "1": "Tailspin Toys (Vassalboro, ME)",
                                    "2": "PLATINUM  "
                                },
                                {
                                    "0": "119",
                                    "1": "Tailspin Toys (Statenville, GA)",
                                    "2": "PLATINUM  "
                                },
                                {
                                    "0": "120",
                                    "1": "Tailspin Toys (Bratenahl, OH)",
                                    "2": "GOLD      "
                                },
                                {
                                    "0": "121",
                                    "1": "Tailspin Toys (Elrosa, MN)",
                                    "2": "PLATINUM  "
                                },
                                {
                                    "0": "122",
                                    "1": "Tailspin Toys (McClave, CO)",
                                    "2": "PLATINUM  "
                                },
                                {
                                    "0": "123",
                                    "1": "Tailspin Toys (Roe Park, NY)",
                                    "2": "PLATINUM  "
                                },
                                {
                                    "0": "124",
                                    "1": "Tailspin Toys (Hanoverton, OH)",
                                    "2": "PLATINUM  "
                                },
                                {
                                    "0": "125",
                                    "1": "Tailspin Toys (Annamoriah, WV)",
                                    "2": "PLATINUM  "
                                },
                                {
                                    "0": "126",
                                    "1": "Tailspin Toys (Francis Mills, NJ)",
                                    "2": "GOLD      "
                                },
                                {
                                    "0": "127",
                                    "1": "Tailspin Toys (Point Roberts, WA)",
                                    "2": "PLATINUM  "
                                },
                                {
                                    "0": "128",
                                    "1": "Tailspin Toys (East Portal, CO)",
                                    "2": "PLATINUM  "
                                },
                                {
                                    "0": "129",
                                    "1": "Tailspin Toys (Mineral Hills, MI)",
                                    "2": "PLATINUM  "
                                },
                                {
                                    "0": "130",
                                    "1": "Tailspin Toys (Maple Shade, NJ)",
                                    "2": "PLATINUM  "
                                },
                                {
                                    "0": "131",
                                    "1": "Tailspin Toys (Kwethluk, AK)",
                                    "2": "PLATINUM  "
                                },
                                {
                                    "0": "132",
                                    "1": "Tailspin Toys (Minidoka, ID)",
                                    "2": "PLATINUM  "
                                },
                                {
                                    "0": "133",
                                    "1": "Tailspin Toys (Lake Erie Beach, NY)",
                                    "2": "PLATINUM  "
                                },
                                {
                                    "0": "134",
                                    "1": "Tailspin Toys (Tavares, FL)",
                                    "2": "PLATINUM  "
                                },
                                {
                                    "0": "135",
                                    "1": "Tailspin Toys (Terre du Lac, MO)",
                                    "2": "PLATINUM  "
                                },
                                {
                                    "0": "136",
                                    "1": "Tailspin Toys (Mount Montgomery, NV)",
                                    "2": "PLATINUM  "
                                },
                                {
                                    "0": "137",
                                    "1": "Tailspin Toys (Carbonville, UT)",
                                    "2": "PLATINUM  "
                                },
                                {
                                    "0": "138",
                                    "1": "Tailspin Toys (Navassa, NC)",
                                    "2": "PLATINUM  "
                                },
                                {
                                    "0": "139",
                                    "1": "Tailspin Toys (Hardeeville, SC)",
                                    "2": "PLATINUM  "
                                },
                                {
                                    "0": "140",
                                    "1": "Tailspin Toys (Furley, KS)",
                                    "2": "PLATINUM  "
                                },
                                {
                                    "0": "141",
                                    "1": "Tailspin Toys (Arrow Rock, MO)",
                                    "2": "GOLD      "
                                },
                                {
                                    "0": "142",
                                    "1": "Tailspin Toys (King Cove, AK)",
                                    "2": "PLATINUM  "
                                },
                                {
                                    "0": "143",
                                    "1": "Tailspin Toys (Ashtabula, OH)",
                                    "2": "PLATINUM  "
                                },
                                {
                                    "0": "144",
                                    "1": "Tailspin Toys (Larose, LA)",
                                    "2": "PLATINUM  "
                                },
                                {
                                    "0": "145",
                                    "1": "Tailspin Toys (Manahawkin, NJ)",
                                    "2": "PLATINUM  "
                                },
                                {
                                    "0": "146",
                                    "1": "Tailspin Toys (Belgreen, AL)",
                                    "2": "PLATINUM  "
                                },
                                {
                                    "0": "147",
                                    "1": "Tailspin Toys (Fishtail, MT)",
                                    "2": "GOLD      "
                                },
                                {
                                    "0": "148",
                                    "1": "Tailspin Toys (Baraboo, WI)",
                                    "2": "GOLD      "
                                },
                                {
                                    "0": "149",
                                    "1": "Tailspin Toys (Inguadona, MN)",
                                    "2": "PLATINUM  "
                                },
                                {
                                    "0": "150",
                                    "1": "Tailspin Toys (Corfu, NY)",
                                    "2": "PLATINUM  "
                                },
                                {
                                    "0": "151",
                                    "1": "Tailspin Toys (Antares, AZ)",
                                    "2": "PLATINUM  "
                                },
                                {
                                    "0": "152",
                                    "1": "Tailspin Toys (Sun River, MT)",
                                    "2": "GOLD      "
                                },
                                {
                                    "0": "153",
                                    "1": "Tailspin Toys (Marcell, MN)",
                                    "2": "PLATINUM  "
                                },
                                {
                                    "0": "154",
                                    "1": "Tailspin Toys (Eden Valley, MN)",
                                    "2": "GOLD      "
                                },
                                {
                                    "0": "155",
                                    "1": "Tailspin Toys (Arbor Vitae, WI)",
                                    "2": "PLATINUM  "
                                },
                                {
                                    "0": "156",
                                    "1": "Tailspin Toys (Hollywood Park, TX)",
                                    "2": "GOLD      "
                                },
                                {
                                    "0": "157",
                                    "1": "Tailspin Toys (Saks, AL)",
                                    "2": "PLATINUM  "
                                },
                                {
                                    "0": "158",
                                    "1": "Tailspin Toys (Donner, LA)",
                                    "2": "PLATINUM  "
                                },
                                {
                                    "0": "159",
                                    "1": "Tailspin Toys (Saint Louis Park, MN)",
                                    "2": "PLATINUM  "
                                },
                                {
                                    "0": "160",
                                    "1": "Tailspin Toys (Crary, ND)",
                                    "2": "PLATINUM  "
                                },
                                {
                                    "0": "161",
                                    "1": "Tailspin Toys (Aspen Park, CO)",
                                    "2": "PLATINUM  "
                                },
                                {
                                    "0": "162",
                                    "1": "Tailspin Toys (Glen Park, NY)",
                                    "2": "PLATINUM  "
                                },
                                {
                                    "0": "163",
                                    "1": "Tailspin Toys (Panaca, NV)",
                                    "2": "PLATINUM  "
                                },
                                {
                                    "0": "164",
                                    "1": "Tailspin Toys (Rothsville, PA)",
                                    "2": "PLATINUM  "
                                },
                                {
                                    "0": "165",
                                    "1": "Tailspin Toys (Topstone, CT)",
                                    "2": "PLATINUM  "
                                },
                                {
                                    "0": "166",
                                    "1": "Tailspin Toys (McCamey, TX)",
                                    "2": "PLATINUM  "
                                },
                                {
                                    "0": "167",
                                    "1": "Tailspin Toys (Rockwall, TX)",
                                    "2": "PLATINUM  "
                                },
                                {
                                    "0": "168",
                                    "1": "Tailspin Toys (Seagraves, TX)",
                                    "2": "PLATINUM  "
                                },
                                {
                                    "0": "169",
                                    "1": "Tailspin Toys (Sinclair, WY)",
                                    "2": "PLATINUM  "
                                },
                                {
                                    "0": "170",
                                    "1": "Tailspin Toys (Eastchester, NY)",
                                    "2": "PLATINUM  "
                                },
                                {
                                    "0": "171",
                                    "1": "Tailspin Toys (Ortley Beach, NJ)",
                                    "2": "PLATINUM  "
                                },
                                {
                                    "0": "172",
                                    "1": "Tailspin Toys (Madrone, NM)",
                                    "2": "PLATINUM  "
                                },
                                {
                                    "0": "173",
                                    "1": "Tailspin Toys (Wappingers Falls, NY)",
                                    "2": "PLATINUM  "
                                },
                                {
                                    "0": "174",
                                    "1": "Tailspin Toys (Astor Park, FL)",
                                    "2": "PLATINUM  "
                                },
                                {
                                    "0": "175",
                                    "1": "Tailspin Toys (San Acacia, NM)",
                                    "2": "GOLD      "
                                },
                                {
                                    "0": "176",
                                    "1": "Tailspin Toys (Malott, WA)",
                                    "2": "PLATINUM  "
                                },
                                {
                                    "0": "177",
                                    "1": "Tailspin Toys (Orrtanna, PA)",
                                    "2": "PLATINUM  "
                                },
                                {
                                    "0": "178",
                                    "1": "Tailspin Toys (Armstrong Creek, WI)",
                                    "2": "PLATINUM  "
                                },
                                {
                                    "0": "179",
                                    "1": "Tailspin Toys (Hiteman, IA)",
                                    "2": "GOLD      "
                                },
                                {
                                    "0": "180",
                                    "1": "Tailspin Toys (Caselton, NV)",
                                    "2": "PLATINUM  "
                                },
                                {
                                    "0": "181",
                                    "1": "Tailspin Toys (Heilwood, PA)",
                                    "2": "PLATINUM  "
                                },
                                {
                                    "0": "182",
                                    "1": "Tailspin Toys (Hayes Center, NE)",
                                    "2": "PLATINUM  "
                                },
                                {
                                    "0": "183",
                                    "1": "Tailspin Toys (Tierra Verde, FL)",
                                    "2": "PLATINUM  "
                                },
                                {
                                    "0": "184",
                                    "1": "Tailspin Toys (South Euclid, OH)",
                                    "2": "GOLD      "
                                },
                                {
                                    "0": "185",
                                    "1": "Tailspin Toys (Vidrine, LA)",
                                    "2": "PLATINUM  "
                                },
                                {
                                    "0": "186",
                                    "1": "Tailspin Toys (Placer, OR)",
                                    "2": "PLATINUM  "
                                },
                                {
                                    "0": "187",
                                    "1": "Tailspin Toys (Brown City, MI)",
                                    "2": "PLATINUM  "
                                },
                                {
                                    "0": "188",
                                    "1": "Tailspin Toys (Premont, TX)",
                                    "2": "PLATINUM  "
                                },
                                {
                                    "0": "189",
                                    "1": "Tailspin Toys (Wilkes-Barre, PA)",
                                    "2": "GOLD      "
                                },
                                {
                                    "0": "190",
                                    "1": "Tailspin Toys (Teutopolis, IL)",
                                    "2": "PLATINUM  "
                                },
                                {
                                    "0": "191",
                                    "1": "Tailspin Toys (Orchard Hill, GA)",
                                    "2": "PLATINUM  "
                                },
                                {
                                    "0": "192",
                                    "1": "Tailspin Toys (Optimo, NM)",
                                    "2": "PLATINUM  "
                                },
                                {
                                    "0": "193",
                                    "1": "Tailspin Toys (Knifley, KY)",
                                    "2": "PLATINUM  "
                                },
                                {
                                    "0": "194",
                                    "1": "Tailspin Toys (Naples Park, FL)",
                                    "2": "GOLD      "
                                },
                                {
                                    "0": "195",
                                    "1": "Tailspin Toys (Lesslie, SC)",
                                    "2": "PLATINUM  "
                                },
                                {
                                    "0": "196",
                                    "1": "Tailspin Toys (Howells, NE)",
                                    "2": "PLATINUM  "
                                },
                                {
                                    "0": "197",
                                    "1": "Tailspin Toys (Magalia, CA)",
                                    "2": "GOLD      "
                                },
                                {
                                    "0": "198",
                                    "1": "Tailspin Toys (Buell, MO)",
                                    "2": "PLATINUM  "
                                },
                                {
                                    "0": "199",
                                    "1": "Tailspin Toys (Antonito, CO)",
                                    "2": "GOLD      "
                                },
                                {
                                    "0": "200",
                                    "1": "Tailspin Toys (Tooele, UT)",
                                    "2": "PLATINUM  "
                                },
                                {
                                    "0": "201",
                                    "1": "Tailspin Toys (Skyway, WA)",
                                    "2": "PLATINUM  "
                                },
                                {
                                    "0": "202",
                                    "1": "Wingtip Toys (Head Office)",
                                    "2": "PLATINUM  "
                                },
                                {
                                    "0": "203",
                                    "1": "Wingtip Toys (Black Lick, PA)",
                                    "2": "PLATINUM  "
                                },
                                {
                                    "0": "204",
                                    "1": "Wingtip Toys (Queen Valley, AZ)",
                                    "2": "PLATINUM  "
                                },
                                {
                                    "0": "205",
                                    "1": "Wingtip Toys (Penns Creek, PA)",
                                    "2": "GOLD      "
                                },
                                {
                                    "0": "206",
                                    "1": "Wingtip Toys (Bourbonnais, IL)",
                                    "2": "PLATINUM  "
                                },
                                {
                                    "0": "207",
                                    "1": "Wingtip Toys (Tuscaloosa, AL)",
                                    "2": "PLATINUM  "
                                },
                                {
                                    "0": "208",
                                    "1": "Wingtip Toys (Mooringsport, LA)",
                                    "2": "PLATINUM  "
                                },
                                {
                                    "0": "209",
                                    "1": "Wingtip Toys (Rockwall, TX)",
                                    "2": "PLATINUM  "
                                },
                                {
                                    "0": "210",
                                    "1": "Wingtip Toys (Orick, CA)",
                                    "2": "PLATINUM  "
                                },
                                {
                                    "0": "211",
                                    "1": "Wingtip Toys (Bernstein, TX)",
                                    "2": "PLATINUM  "
                                },
                                {
                                    "0": "212",
                                    "1": "Wingtip Toys (Edmund, WI)",
                                    "2": "GOLD      "
                                },
                                {
                                    "0": "213",
                                    "1": "Wingtip Toys (Bozeman Hot Springs, MT)",
                                    "2": "PLATINUM  "
                                },
                                {
                                    "0": "214",
                                    "1": "Wingtip Toys (Truscott, TX)",
                                    "2": "PLATINUM  "
                                },
                                {
                                    "0": "215",
                                    "1": "Wingtip Toys (Rose Tree, PA)",
                                    "2": "PLATINUM  "
                                },
                                {
                                    "0": "216",
                                    "1": "Wingtip Toys (Leathersville, GA)",
                                    "2": "PLATINUM  "
                                },
                                {
                                    "0": "217",
                                    "1": "Wingtip Toys (Necedah, WI)",
                                    "2": "PLATINUM  "
                                },
                                {
                                    "0": "218",
                                    "1": "Wingtip Toys (Chetek, WI)",
                                    "2": "GOLD      "
                                },
                                {
                                    "0": "219",
                                    "1": "Wingtip Toys (Yaak, MT)",
                                    "2": "PLATINUM  "
                                },
                                {
                                    "0": "220",
                                    "1": "Wingtip Toys (Compass Lake, FL)",
                                    "2": "GOLD      "
                                },
                                {
                                    "0": "221",
                                    "1": "Wingtip Toys (Herlong, CA)",
                                    "2": "PLATINUM  "
                                },
                                {
                                    "0": "222",
                                    "1": "Wingtip Toys (Highland Home, AL)",
                                    "2": "PLATINUM  "
                                },
                                {
                                    "0": "223",
                                    "1": "Wingtip Toys (Naches, WA)",
                                    "2": "PLATINUM  "
                                },
                                {
                                    "0": "224",
                                    "1": "Wingtip Toys (Baldwin City, KS)",
                                    "2": "GOLD      "
                                },
                                {
                                    "0": "225",
                                    "1": "Wingtip Toys (Heartwell, NE)",
                                    "2": "GOLD      "
                                },
                                {
                                    "0": "226",
                                    "1": "Wingtip Toys (Bethel Acres, OK)",
                                    "2": "PLATINUM  "
                                },
                                {
                                    "0": "227",
                                    "1": "Wingtip Toys (Willow Valley, AZ)",
                                    "2": "GOLD      "
                                },
                                {
                                    "0": "228",
                                    "1": "Wingtip Toys (Athol Springs, NY)",
                                    "2": "PLATINUM  "
                                },
                                {
                                    "0": "229",
                                    "1": "Wingtip Toys (Paw Paw Lake, MI)",
                                    "2": "PLATINUM  "
                                },
                                {
                                    "0": "230",
                                    "1": "Wingtip Toys (Lilbourn, MO)",
                                    "2": "PLATINUM  "
                                },
                                {
                                    "0": "231",
                                    "1": "Wingtip Toys (Lost River, ID)",
                                    "2": "PLATINUM  "
                                },
                                {
                                    "0": "232",
                                    "1": "Wingtip Toys (Rosa Sánchez, PR)",
                                    "2": "PLATINUM  "
                                },
                                {
                                    "0": "233",
                                    "1": "Wingtip Toys (Vamo, FL)",
                                    "2": "PLATINUM  "
                                },
                                {
                                    "0": "234",
                                    "1": "Wingtip Toys (Balko, OK)",
                                    "2": "GOLD      "
                                },
                                {
                                    "0": "235",
                                    "1": "Wingtip Toys (Lime Lake, NY)",
                                    "2": "PLATINUM  "
                                },
                                {
                                    "0": "236",
                                    "1": "Wingtip Toys (Teutopolis, IL)",
                                    "2": "PLATINUM  "
                                },
                                {
                                    "0": "237",
                                    "1": "Wingtip Toys (Gargatha, VA)",
                                    "2": "PLATINUM  "
                                },
                                {
                                    "0": "238",
                                    "1": "Wingtip Toys (Cadogan, PA)",
                                    "2": "PLATINUM  "
                                },
                                {
                                    "0": "239",
                                    "1": "Wingtip Toys (Lucasville, OH)",
                                    "2": "PLATINUM  "
                                },
                                {
                                    "0": "240",
                                    "1": "Wingtip Toys (Cylon, WI)",
                                    "2": "PLATINUM  "
                                },
                                {
                                    "0": "241",
                                    "1": "Wingtip Toys (Asher, OK)",
                                    "2": "PLATINUM  "
                                },
                                {
                                    "0": "242",
                                    "1": "Wingtip Toys (Keosauqua, IA)",
                                    "2": "PLATINUM  "
                                },
                                {
                                    "0": "243",
                                    "1": "Wingtip Toys (Homer City, PA)",
                                    "2": "PLATINUM  "
                                },
                                {
                                    "0": "244",
                                    "1": "Wingtip Toys (Berville, MI)",
                                    "2": "PLATINUM  "
                                },
                                {
                                    "0": "245",
                                    "1": "Wingtip Toys (Tea, SD)",
                                    "2": "PLATINUM  "
                                },
                                {
                                    "0": "246",
                                    "1": "Wingtip Toys (Dacono, CO)",
                                    "2": "PLATINUM  "
                                },
                                {
                                    "0": "247",
                                    "1": "Wingtip Toys (Saint Landry, LA)",
                                    "2": "GOLD      "
                                },
                                {
                                    "0": "248",
                                    "1": "Wingtip Toys (Coin, IA)",
                                    "2": "PLATINUM  "
                                },
                                {
                                    "0": "249",
                                    "1": "Wingtip Toys (Salt Wells, NV)",
                                    "2": "PLATINUM  "
                                },
                                {
                                    "0": "250",
                                    "1": "Wingtip Toys (Delray, WV)",
                                    "2": "PLATINUM  "
                                },
                                {
                                    "0": "251",
                                    "1": "Wingtip Toys (Mount Summit, IN)",
                                    "2": "GOLD      "
                                },
                                {
                                    "0": "252",
                                    "1": "Wingtip Toys (Smoot, WY)",
                                    "2": "PLATINUM  "
                                },
                                {
                                    "0": "253",
                                    "1": "Wingtip Toys (Lake Davis, CA)",
                                    "2": "PLATINUM  "
                                },
                                {
                                    "0": "254",
                                    "1": "Wingtip Toys (Stanardsville, VA)",
                                    "2": "GOLD      "
                                },
                                {
                                    "0": "255",
                                    "1": "Wingtip Toys (Corcovado, PR)",
                                    "2": "GOLD      "
                                },
                                {
                                    "0": "256",
                                    "1": "Wingtip Toys (Taft Heights, CA)",
                                    "2": "PLATINUM  "
                                },
                                {
                                    "0": "257",
                                    "1": "Wingtip Toys (West Hempstead, NY)",
                                    "2": "PLATINUM  "
                                },
                                {
                                    "0": "258",
                                    "1": "Wingtip Toys (Portales, NM)",
                                    "2": "GOLD      "
                                },
                                {
                                    "0": "259",
                                    "1": "Wingtip Toys (Coker, AL)",
                                    "2": "PLATINUM  "
                                },
                                {
                                    "0": "260",
                                    "1": "Wingtip Toys (Haydenville, OH)",
                                    "2": "PLATINUM  "
                                },
                                {
                                    "0": "261",
                                    "1": "Wingtip Toys (Mayhill, NM)",
                                    "2": "PLATINUM  "
                                },
                                {
                                    "0": "262",
                                    "1": "Wingtip Toys (Vair, TX)",
                                    "2": "GOLD      "
                                },
                                {
                                    "0": "263",
                                    "1": "Wingtip Toys (Crossroads, NM)",
                                    "2": "GOLD      "
                                },
                                {
                                    "0": "264",
                                    "1": "Wingtip Toys (Cowlington, OK)",
                                    "2": "PLATINUM  "
                                },
                                {
                                    "0": "265",
                                    "1": "Wingtip Toys (Glen Ullin, ND)",
                                    "2": "PLATINUM  "
                                },
                                {
                                    "0": "266",
                                    "1": "Wingtip Toys (Oologah, OK)",
                                    "2": "PLATINUM  "
                                },
                                {
                                    "0": "267",
                                    "1": "Wingtip Toys (Lytle, TX)",
                                    "2": "PLATINUM  "
                                },
                                {
                                    "0": "268",
                                    "1": "Wingtip Toys (Mahaffey, PA)",
                                    "2": "PLATINUM  "
                                },
                                {
                                    "0": "269",
                                    "1": "Wingtip Toys (Sunburg, MN)",
                                    "2": "PLATINUM  "
                                },
                                {
                                    "0": "270",
                                    "1": "Wingtip Toys (Johnetta, KY)",
                                    "2": "PLATINUM  "
                                },
                                {
                                    "0": "271",
                                    "1": "Wingtip Toys (Universal City, TX)",
                                    "2": "GOLD      "
                                },
                                {
                                    "0": "272",
                                    "1": "Wingtip Toys (Ridgemark, CA)",
                                    "2": "PLATINUM  "
                                },
                                {
                                    "0": "273",
                                    "1": "Wingtip Toys (San Jacinto, CA)",
                                    "2": "PLATINUM  "
                                },
                                {
                                    "0": "274",
                                    "1": "Wingtip Toys (Floriston, CA)",
                                    "2": "PLATINUM  "
                                },
                                {
                                    "0": "275",
                                    "1": "Wingtip Toys (Bokeelia, FL)",
                                    "2": "PLATINUM  "
                                },
                                {
                                    "0": "276",
                                    "1": "Wingtip Toys (Cale, AR)",
                                    "2": "PLATINUM  "
                                },
                                {
                                    "0": "277",
                                    "1": "Wingtip Toys (Karthaus, PA)",
                                    "2": "PLATINUM  "
                                },
                                {
                                    "0": "278",
                                    "1": "Wingtip Toys (Glancy, MS)",
                                    "2": "GOLD      "
                                },
                                {
                                    "0": "279",
                                    "1": "Wingtip Toys (Stoneboro, PA)",
                                    "2": "PLATINUM  "
                                },
                                {
                                    "0": "280",
                                    "1": "Wingtip Toys (Mier, IN)",
                                    "2": "PLATINUM  "
                                },
                                {
                                    "0": "281",
                                    "1": "Wingtip Toys (Wapinitia, OR)",
                                    "2": "PLATINUM  "
                                },
                                {
                                    "0": "282",
                                    "1": "Wingtip Toys (White Church, MO)",
                                    "2": "PLATINUM  "
                                },
                                {
                                    "0": "283",
                                    "1": "Wingtip Toys (Caton, NY)",
                                    "2": "GOLD      "
                                },
                                {
                                    "0": "284",
                                    "1": "Wingtip Toys (Plum Branch, SC)",
                                    "2": "PLATINUM  "
                                },
                                {
                                    "0": "285",
                                    "1": "Wingtip Toys (Mauldin, SC)",
                                    "2": "PLATINUM  "
                                },
                                {
                                    "0": "286",
                                    "1": "Wingtip Toys (Bonner Springs, KS)",
                                    "2": "PLATINUM  "
                                },
                                {
                                    "0": "287",
                                    "1": "Wingtip Toys (Lowellville, OH)",
                                    "2": "GOLD      "
                                },
                                {
                                    "0": "288",
                                    "1": "Wingtip Toys (Elverson, PA)",
                                    "2": "PLATINUM  "
                                },
                                {
                                    "0": "289",
                                    "1": "Wingtip Toys (Isabela, PR)",
                                    "2": "PLATINUM  "
                                },
                                {
                                    "0": "290",
                                    "1": "Wingtip Toys (Sayner, WI)",
                                    "2": "PLATINUM  "
                                },
                                {
                                    "0": "291",
                                    "1": "Wingtip Toys (Beals, ME)",
                                    "2": "GOLD      "
                                },
                                {
                                    "0": "292",
                                    "1": "Wingtip Toys (Morton Grove, IL)",
                                    "2": "GOLD      "
                                },
                                {
                                    "0": "293",
                                    "1": "Wingtip Toys (Birds, IL)",
                                    "2": "PLATINUM  "
                                },
                                {
                                    "0": "294",
                                    "1": "Wingtip Toys (Federalsburg, MD)",
                                    "2": "PLATINUM  "
                                },
                                {
                                    "0": "295",
                                    "1": "Wingtip Toys (Pikeview, CO)",
                                    "2": "PLATINUM  "
                                },
                                {
                                    "0": "296",
                                    "1": "Wingtip Toys (Boalsburg, PA)",
                                    "2": "PLATINUM  "
                                },
                                {
                                    "0": "297",
                                    "1": "Wingtip Toys (Port Hueneme, CA)",
                                    "2": "PLATINUM  "
                                },
                                {
                                    "0": "298",
                                    "1": "Wingtip Toys (Verdery, SC)",
                                    "2": "PLATINUM  "
                                },
                                {
                                    "0": "299",
                                    "1": "Wingtip Toys (Obetz, OH)",
                                    "2": "PLATINUM  "
                                },
                                {
                                    "0": "300",
                                    "1": "Wingtip Toys (East Fultonham, OH)",
                                    "2": "PLATINUM  "
                                },
                                {
                                    "0": "301",
                                    "1": "Wingtip Toys (Obion, TN)",
                                    "2": "PLATINUM  "
                                },
                                {
                                    "0": "302",
                                    "1": "Wingtip Toys (Cavendish, VT)",
                                    "2": "PLATINUM  "
                                },
                                {
                                    "0": "303",
                                    "1": "Wingtip Toys (Miesville, MN)",
                                    "2": "GOLD      "
                                },
                                {
                                    "0": "304",
                                    "1": "Wingtip Toys (Valhalla, NC)",
                                    "2": "PLATINUM  "
                                },
                                {
                                    "0": "305",
                                    "1": "Wingtip Toys (Cape Neddick, ME)",
                                    "2": "GOLD      "
                                },
                                {
                                    "0": "306",
                                    "1": "Wingtip Toys (Silver Plume, CO)",
                                    "2": "PLATINUM  "
                                },
                                {
                                    "0": "307",
                                    "1": "Wingtip Toys (North Beach Haven, NJ)",
                                    "2": "PLATINUM  "
                                },
                                {
                                    "0": "308",
                                    "1": "Wingtip Toys (Downingtown, PA)",
                                    "2": "PLATINUM  "
                                },
                                {
                                    "0": "309",
                                    "1": "Wingtip Toys (Branson West, MO)",
                                    "2": "PLATINUM  "
                                },
                                {
                                    "0": "310",
                                    "1": "Wingtip Toys (Bergen Park, CO)",
                                    "2": "PLATINUM  "
                                },
                                {
                                    "0": "311",
                                    "1": "Wingtip Toys (Grabill, IN)",
                                    "2": "PLATINUM  "
                                },
                                {
                                    "0": "312",
                                    "1": "Wingtip Toys (North Manitou, MI)",
                                    "2": "GOLD      "
                                },
                                {
                                    "0": "313",
                                    "1": "Wingtip Toys (Philip, SD)",
                                    "2": "PLATINUM  "
                                },
                                {
                                    "0": "314",
                                    "1": "Wingtip Toys (Straughn, IN)",
                                    "2": "GOLD      "
                                },
                                {
                                    "0": "315",
                                    "1": "Wingtip Toys (Gilford, NH)",
                                    "2": "PLATINUM  "
                                },
                                {
                                    "0": "316",
                                    "1": "Wingtip Toys (Del Valle, TX)",
                                    "2": "GOLD      "
                                },
                                {
                                    "0": "317",
                                    "1": "Wingtip Toys (Harkers Island, NC)",
                                    "2": "PLATINUM  "
                                },
                                {
                                    "0": "318",
                                    "1": "Wingtip Toys (Licking, MO)",
                                    "2": "PLATINUM  "
                                },
                                {
                                    "0": "319",
                                    "1": "Wingtip Toys (Raton, NM)",
                                    "2": "PLATINUM  "
                                },
                                {
                                    "0": "320",
                                    "1": "Wingtip Toys (Boynton, OK)",
                                    "2": "PLATINUM  "
                                },
                                {
                                    "0": "321",
                                    "1": "Wingtip Toys (Frenchburg, KY)",
                                    "2": "PLATINUM  "
                                },
                                {
                                    "0": "322",
                                    "1": "Wingtip Toys (Robertsdale, AL)",
                                    "2": "PLATINUM  "
                                },
                                {
                                    "0": "323",
                                    "1": "Wingtip Toys (Dickerson, MD)",
                                    "2": "GOLD      "
                                },
                                {
                                    "0": "324",
                                    "1": "Wingtip Toys (Bruceton Mills, WV)",
                                    "2": "PLATINUM  "
                                },
                                {
                                    "0": "325",
                                    "1": "Wingtip Toys (Cloquet, MN)",
                                    "2": "PLATINUM  "
                                },
                                {
                                    "0": "326",
                                    "1": "Wingtip Toys (Claycomo, MO)",
                                    "2": "PLATINUM  "
                                },
                                {
                                    "0": "327",
                                    "1": "Wingtip Toys (Beekmantown, NY)",
                                    "2": "PLATINUM  "
                                },
                                {
                                    "0": "328",
                                    "1": "Wingtip Toys (Islip Terrace, NY)",
                                    "2": "PLATINUM  "
                                },
                                {
                                    "0": "329",
                                    "1": "Wingtip Toys (Rich Creek, VA)",
                                    "2": "PLATINUM  "
                                },
                                {
                                    "0": "330",
                                    "1": "Wingtip Toys (Griswoldville, GA)",
                                    "2": "PLATINUM  "
                                },
                                {
                                    "0": "331",
                                    "1": "Wingtip Toys (East Mountain, TX)",
                                    "2": "GOLD      "
                                },
                                {
                                    "0": "332",
                                    "1": "Wingtip Toys (Omer, MI)",
                                    "2": "PLATINUM  "
                                },
                                {
                                    "0": "333",
                                    "1": "Wingtip Toys (Waycross, GA)",
                                    "2": "PLATINUM  "
                                },
                                {
                                    "0": "334",
                                    "1": "Wingtip Toys (Nichols Hills, OK)",
                                    "2": "PLATINUM  "
                                },
                                {
                                    "0": "335",
                                    "1": "Wingtip Toys (Plaquemine, LA)",
                                    "2": "PLATINUM  "
                                },
                                {
                                    "0": "336",
                                    "1": "Wingtip Toys (Triadelphia, WV)",
                                    "2": "PLATINUM  "
                                },
                                {
                                    "0": "337",
                                    "1": "Wingtip Toys (Ferney, SD)",
                                    "2": "PLATINUM  "
                                },
                                {
                                    "0": "338",
                                    "1": "Wingtip Toys (Akhiok, AK)",
                                    "2": "PLATINUM  "
                                },
                                {
                                    "0": "339",
                                    "1": "Wingtip Toys (Deeson, MS)",
                                    "2": "PLATINUM  "
                                },
                                {
                                    "0": "340",
                                    "1": "Wingtip Toys (Nuangola, PA)",
                                    "2": "GOLD      "
                                },
                                {
                                    "0": "341",
                                    "1": "Wingtip Toys (Weld, ME)",
                                    "2": "PLATINUM  "
                                },
                                {
                                    "0": "342",
                                    "1": "Wingtip Toys (Mickleton, NJ)",
                                    "2": "PLATINUM  "
                                },
                                {
                                    "0": "343",
                                    "1": "Wingtip Toys (Schererville, IN)",
                                    "2": "PLATINUM  "
                                },
                                {
                                    "0": "344",
                                    "1": "Wingtip Toys (Lexington Heights, MI)",
                                    "2": "PLATINUM  "
                                },
                                {
                                    "0": "345",
                                    "1": "Wingtip Toys (Broomtown, AL)",
                                    "2": "PLATINUM  "
                                },
                                {
                                    "0": "346",
                                    "1": "Wingtip Toys (Jamison, IA)",
                                    "2": "PLATINUM  "
                                },
                                {
                                    "0": "347",
                                    "1": "Wingtip Toys (Key Biscayne, FL)",
                                    "2": "PLATINUM  "
                                },
                                {
                                    "0": "348",
                                    "1": "Wingtip Toys (Chaseley, ND)",
                                    "2": "GOLD      "
                                },
                                {
                                    "0": "349",
                                    "1": "Wingtip Toys (Indian Creek, IL)",
                                    "2": "PLATINUM  "
                                },
                                {
                                    "0": "350",
                                    "1": "Wingtip Toys (Lake Ronkonkoma, NY)",
                                    "2": "PLATINUM  "
                                },
                                {
                                    "0": "351",
                                    "1": "Wingtip Toys (Morrison Bluff, AR)",
                                    "2": "PLATINUM  "
                                },
                                {
                                    "0": "352",
                                    "1": "Wingtip Toys (Huntingburg, IN)",
                                    "2": "PLATINUM  "
                                },
                                {
                                    "0": "353",
                                    "1": "Wingtip Toys (Shay, PA)",
                                    "2": "PLATINUM  "
                                },
                                {
                                    "0": "354",
                                    "1": "Wingtip Toys (Helotes, TX)",
                                    "2": "GOLD      "
                                },
                                {
                                    "0": "355",
                                    "1": "Wingtip Toys (Hollandsburg, IN)",
                                    "2": "PLATINUM  "
                                },
                                {
                                    "0": "356",
                                    "1": "Wingtip Toys (Liberty Grove, MD)",
                                    "2": "PLATINUM  "
                                },
                                {
                                    "0": "357",
                                    "1": "Wingtip Toys (Morita, TX)",
                                    "2": "GOLD      "
                                },
                                {
                                    "0": "358",
                                    "1": "Wingtip Toys (New Laguna, NM)",
                                    "2": "GOLD      "
                                },
                                {
                                    "0": "359",
                                    "1": "Wingtip Toys (Bourneville, OH)",
                                    "2": "PLATINUM  "
                                },
                                {
                                    "0": "360",
                                    "1": "Wingtip Toys (Mendoza, TX)",
                                    "2": "PLATINUM  "
                                },
                                {
                                    "0": "361",
                                    "1": "Wingtip Toys (Palmas del Mar, PR)",
                                    "2": "GOLD      "
                                },
                                {
                                    "0": "362",
                                    "1": "Wingtip Toys (Marion Junction, AL)",
                                    "2": "PLATINUM  "
                                },
                                {
                                    "0": "363",
                                    "1": "Wingtip Toys (Ware Shoals, SC)",
                                    "2": "PLATINUM  "
                                },
                                {
                                    "0": "364",
                                    "1": "Wingtip Toys (Lostine, OR)",
                                    "2": "GOLD      "
                                },
                                {
                                    "0": "365",
                                    "1": "Wingtip Toys (Tilleda, WI)",
                                    "2": "PLATINUM  "
                                },
                                {
                                    "0": "366",
                                    "1": "Wingtip Toys (Wapiti, WY)",
                                    "2": "PLATINUM  "
                                },
                                {
                                    "0": "367",
                                    "1": "Wingtip Toys (Amado, AZ)",
                                    "2": "PLATINUM  "
                                },
                                {
                                    "0": "368",
                                    "1": "Wingtip Toys (Jeromesville, OH)",
                                    "2": "GOLD      "
                                },
                                {
                                    "0": "369",
                                    "1": "Wingtip Toys (Ovilla, TX)",
                                    "2": "GOLD      "
                                },
                                {
                                    "0": "370",
                                    "1": "Wingtip Toys (West Frostproof, FL)",
                                    "2": "PLATINUM  "
                                },
                                {
                                    "0": "371",
                                    "1": "Wingtip Toys (Flomaton, AL)",
                                    "2": "PLATINUM  "
                                },
                                {
                                    "0": "372",
                                    "1": "Wingtip Toys (Pawlet, VT)",
                                    "2": "PLATINUM  "
                                },
                                {
                                    "0": "373",
                                    "1": "Wingtip Toys (Trout Run, PA)",
                                    "2": "PLATINUM  "
                                },
                                {
                                    "0": "374",
                                    "1": "Wingtip Toys (Marin City, CA)",
                                    "2": "GOLD      "
                                },
                                {
                                    "0": "375",
                                    "1": "Wingtip Toys (Molalla, OR)",
                                    "2": "PLATINUM  "
                                },
                                {
                                    "0": "376",
                                    "1": "Wingtip Toys (Trumansburg, NY)",
                                    "2": "PLATINUM  "
                                },
                                {
                                    "0": "377",
                                    "1": "Wingtip Toys (Goodings Grove, IL)",
                                    "2": "GOLD      "
                                },
                                {
                                    "0": "378",
                                    "1": "Wingtip Toys (Cherryplain, NY)",
                                    "2": "REGULAR   "
                                },
                                {
                                    "0": "379",
                                    "1": "Wingtip Toys (Bell Acres, PA)",
                                    "2": "PLATINUM  "
                                },
                                {
                                    "0": "380",
                                    "1": "Wingtip Toys (Connoquenessing, PA)",
                                    "2": "PLATINUM  "
                                },
                                {
                                    "0": "381",
                                    "1": "Wingtip Toys (Sarversville, PA)",
                                    "2": "PLATINUM  "
                                },
                                {
                                    "0": "382",
                                    "1": "Wingtip Toys (Munich, ND)",
                                    "2": "GOLD      "
                                },
                                {
                                    "0": "383",
                                    "1": "Wingtip Toys (Montoya, NM)",
                                    "2": "PLATINUM  "
                                },
                                {
                                    "0": "384",
                                    "1": "Wingtip Toys (Knights Landing, CA)",
                                    "2": "PLATINUM  "
                                },
                                {
                                    "0": "385",
                                    "1": "Wingtip Toys (Cache, OK)",
                                    "2": "PLATINUM  "
                                },
                                {
                                    "0": "386",
                                    "1": "Wingtip Toys (Towaco, NJ)",
                                    "2": "PLATINUM  "
                                },
                                {
                                    "0": "387",
                                    "1": "Wingtip Toys (Lynne, FL)",
                                    "2": "PLATINUM  "
                                },
                                {
                                    "0": "388",
                                    "1": "Wingtip Toys (Plata, TX)",
                                    "2": "PLATINUM  "
                                },
                                {
                                    "0": "389",
                                    "1": "Wingtip Toys (Oak Point, TX)",
                                    "2": "PLATINUM  "
                                },
                                {
                                    "0": "390",
                                    "1": "Wingtip Toys (Alcester, SD)",
                                    "2": "PLATINUM  "
                                },
                                {
                                    "0": "391",
                                    "1": "Wingtip Toys (McAdenville, NC)",
                                    "2": "GOLD      "
                                },
                                {
                                    "0": "392",
                                    "1": "Wingtip Toys (Idaho City, ID)",
                                    "2": "PLATINUM  "
                                },
                                {
                                    "0": "393",
                                    "1": "Wingtip Toys (Dunkerton, IA)",
                                    "2": "PLATINUM  "
                                },
                                {
                                    "0": "394",
                                    "1": "Wingtip Toys (Cuyamungue, NM)",
                                    "2": "PLATINUM  "
                                },
                                {
                                    "0": "395",
                                    "1": "Wingtip Toys (Marfa, TX)",
                                    "2": "PLATINUM  "
                                },
                                {
                                    "0": "396",
                                    "1": "Wingtip Toys (Accomac, VA)",
                                    "2": "PLATINUM  "
                                },
                                {
                                    "0": "397",
                                    "1": "Wingtip Toys (Cos Cob, CT)",
                                    "2": "PLATINUM  "
                                },
                                {
                                    "0": "398",
                                    "1": "Wingtip Toys (Haycock, AK)",
                                    "2": "PLATINUM  "
                                },
                                {
                                    "0": "399",
                                    "1": "Wingtip Toys (Kapa'a, HI)",
                                    "2": "PLATINUM  "
                                },
                                {
                                    "0": "400",
                                    "1": "Wingtip Toys (Dickworsham, TX)",
                                    "2": "GOLD      "
                                },
                                {
                                    "0": "401",
                                    "1": "Wingtip Toys (Caro, MI)",
                                    "2": "PLATINUM  "
                                },
                                {
                                    "0": "402",
                                    "1": "Wingtip Toys (Ruthsburg, MD)",
                                    "2": "PLATINUM  "
                                }
                            ]
                        },
                        "text/html": "<table><tr><th>Customer Key</th><th>Customer</th><th>Discount Price</th></tr><tr><td>0</td><td>Unknown</td><td>PLATINUM  </td></tr><tr><td>1</td><td>Tailspin Toys (Head Office)</td><td>PLATINUM  </td></tr><tr><td>2</td><td>Tailspin Toys (Sylvanite, MT)</td><td>GOLD      </td></tr><tr><td>3</td><td>Tailspin Toys (Peeples Valley, AZ)</td><td>PLATINUM  </td></tr><tr><td>4</td><td>Tailspin Toys (Medicine Lodge, KS)</td><td>PLATINUM  </td></tr><tr><td>5</td><td>Tailspin Toys (Gasport, NY)</td><td>PLATINUM  </td></tr><tr><td>6</td><td>Tailspin Toys (Jessie, ND)</td><td>PLATINUM  </td></tr><tr><td>7</td><td>Tailspin Toys (Frankewing, TN)</td><td>PLATINUM  </td></tr><tr><td>8</td><td>Tailspin Toys (Bow Mar, CO)</td><td>GOLD      </td></tr><tr><td>9</td><td>Tailspin Toys (Netcong, NJ)</td><td>PLATINUM  </td></tr><tr><td>10</td><td>Tailspin Toys (Wimbledon, ND)</td><td>PLATINUM  </td></tr><tr><td>11</td><td>Tailspin Toys (Devault, PA)</td><td>PLATINUM  </td></tr><tr><td>12</td><td>Tailspin Toys (Biscay, MN)</td><td>PLATINUM  </td></tr><tr><td>13</td><td>Tailspin Toys (Stonefort, IL)</td><td>GOLD      </td></tr><tr><td>14</td><td>Tailspin Toys (Long Meadow, MD)</td><td>PLATINUM  </td></tr><tr><td>15</td><td>Tailspin Toys (Batson, TX)</td><td>PLATINUM  </td></tr><tr><td>16</td><td>Tailspin Toys (Coney Island, MO)</td><td>PLATINUM  </td></tr><tr><td>17</td><td>Tailspin Toys (East Fultonham, OH)</td><td>PLATINUM  </td></tr><tr><td>18</td><td>Tailspin Toys (Goffstown, NH)</td><td>PLATINUM  </td></tr><tr><td>19</td><td>Tailspin Toys (Lemeta, AK)</td><td>GOLD      </td></tr><tr><td>20</td><td>Tailspin Toys (College Place, WA)</td><td>GOLD      </td></tr><tr><td>21</td><td>Tailspin Toys (Tresckow, PA)</td><td>PLATINUM  </td></tr><tr><td>22</td><td>Tailspin Toys (Ward Ridge, FL)</td><td>GOLD      </td></tr><tr><td>23</td><td>Tailspin Toys (Ikatan, AK)</td><td>GOLD      </td></tr><tr><td>24</td><td>Tailspin Toys (Dundarrach, NC)</td><td>GOLD      </td></tr><tr><td>25</td><td>Tailspin Toys (Avenal, CA)</td><td>PLATINUM  </td></tr><tr><td>26</td><td>Tailspin Toys (Hedrick, IA)</td><td>PLATINUM  </td></tr><tr><td>27</td><td>Tailspin Toys (Bowlus, MN)</td><td>PLATINUM  </td></tr><tr><td>28</td><td>Tailspin Toys (North Ridge, NY)</td><td>PLATINUM  </td></tr><tr><td>29</td><td>Tailspin Toys (Eulaton, AL)</td><td>PLATINUM  </td></tr><tr><td>30</td><td>Tailspin Toys (Koontzville, WA)</td><td>PLATINUM  </td></tr><tr><td>31</td><td>Tailspin Toys (Lake Stevens, WA)</td><td>PLATINUM  </td></tr><tr><td>32</td><td>Tailspin Toys (Maypearl, TX)</td><td>PLATINUM  </td></tr><tr><td>33</td><td>Tailspin Toys (Boyden Arbor, SC)</td><td>PLATINUM  </td></tr><tr><td>34</td><td>Tailspin Toys (Dallardsville, TX)</td><td>PLATINUM  </td></tr><tr><td>35</td><td>Tailspin Toys (Slanesville, WV)</td><td>PLATINUM  </td></tr><tr><td>36</td><td>Tailspin Toys (Ekron, KY)</td><td>GOLD      </td></tr><tr><td>37</td><td>Tailspin Toys (Kerby, OR)</td><td>PLATINUM  </td></tr><tr><td>38</td><td>Tailspin Toys (Airport Drive, MO)</td><td>PLATINUM  </td></tr><tr><td>39</td><td>Tailspin Toys (Diablock, KY)</td><td>GOLD      </td></tr><tr><td>40</td><td>Tailspin Toys (Impact, TX)</td><td>PLATINUM  </td></tr><tr><td>41</td><td>Tailspin Toys (Olivette, MO)</td><td>GOLD      </td></tr><tr><td>42</td><td>Tailspin Toys (Arietta, NY)</td><td>PLATINUM  </td></tr><tr><td>43</td><td>Tailspin Toys (Upper Preston, WA)</td><td>PLATINUM  </td></tr><tr><td>44</td><td>Tailspin Toys (Amanda Park, WA)</td><td>PLATINUM  </td></tr><tr><td>45</td><td>Tailspin Toys (Severna Park, MD)</td><td>PLATINUM  </td></tr><tr><td>46</td><td>Tailspin Toys (Jemison, AL)</td><td>PLATINUM  </td></tr><tr><td>47</td><td>Tailspin Toys (Lake Hughes, CA)</td><td>GOLD      </td></tr><tr><td>48</td><td>Tailspin Toys (Trentwood, WA)</td><td>PLATINUM  </td></tr><tr><td>49</td><td>Tailspin Toys (Muir, MI)</td><td>GOLD      </td></tr><tr><td>50</td><td>Tailspin Toys (Hambleton, WV)</td><td>PLATINUM  </td></tr><tr><td>51</td><td>Tailspin Toys (Imlaystown, NJ)</td><td>PLATINUM  </td></tr><tr><td>52</td><td>Tailspin Toys (Idria, CA)</td><td>PLATINUM  </td></tr><tr><td>53</td><td>Tailspin Toys (Nanafalia, AL)</td><td>PLATINUM  </td></tr><tr><td>54</td><td>Tailspin Toys (Railroad, PA)</td><td>GOLD      </td></tr><tr><td>55</td><td>Tailspin Toys (Gum Branch, GA)</td><td>PLATINUM  </td></tr><tr><td>56</td><td>Tailspin Toys (Royal City, WA)</td><td>PLATINUM  </td></tr><tr><td>57</td><td>Tailspin Toys (Lakemore, OH)</td><td>GOLD      </td></tr><tr><td>58</td><td>Tailspin Toys (Mappsburg, VA)</td><td>PLATINUM  </td></tr><tr><td>59</td><td>Tailspin Toys (Edgartown, MA)</td><td>PLATINUM  </td></tr><tr><td>60</td><td>Tailspin Toys (East Dailey, WV)</td><td>GOLD      </td></tr><tr><td>61</td><td>Tailspin Toys (Fairfield Glade, TN)</td><td>GOLD      </td></tr><tr><td>62</td><td>Tailspin Toys (Great Neck Estates, NY)</td><td>GOLD      </td></tr><tr><td>63</td><td>Tailspin Toys (Stallion Springs, CA)</td><td>PLATINUM  </td></tr><tr><td>64</td><td>Tailspin Toys (Hodgdon, ME)</td><td>PLATINUM  </td></tr><tr><td>65</td><td>Tailspin Toys (North Cowden, TX)</td><td>PLATINUM  </td></tr><tr><td>66</td><td>Tailspin Toys (Madaket, MA)</td><td>GOLD      </td></tr><tr><td>67</td><td>Tailspin Toys (Sentinel Butte, ND)</td><td>PLATINUM  </td></tr><tr><td>68</td><td>Tailspin Toys (Gardere, LA)</td><td>PLATINUM  </td></tr><tr><td>69</td><td>Tailspin Toys (Lytle Creek, CA)</td><td>PLATINUM  </td></tr><tr><td>70</td><td>Tailspin Toys (New Baden, IL)</td><td>PLATINUM  </td></tr><tr><td>71</td><td>Tailspin Toys (Good Hart, MI)</td><td>PLATINUM  </td></tr><tr><td>72</td><td>Tailspin Toys (Cortaro, AZ)</td><td>PLATINUM  </td></tr><tr><td>73</td><td>Tailspin Toys (Cokato, MN)</td><td>GOLD      </td></tr><tr><td>74</td><td>Tailspin Toys (Indios, PR)</td><td>PLATINUM  </td></tr><tr><td>75</td><td>Tailspin Toys (Windsor Locks, CT)</td><td>PLATINUM  </td></tr><tr><td>76</td><td>Tailspin Toys (Yewed, OK)</td><td>GOLD      </td></tr><tr><td>77</td><td>Tailspin Toys (Hahira, GA)</td><td>PLATINUM  </td></tr><tr><td>78</td><td>Tailspin Toys (Sekiu, WA)</td><td>PLATINUM  </td></tr><tr><td>79</td><td>Tailspin Toys (Page City, KS)</td><td>PLATINUM  </td></tr><tr><td>80</td><td>Tailspin Toys (Valdese, NC)</td><td>PLATINUM  </td></tr><tr><td>81</td><td>Tailspin Toys (Big Moose, NY)</td><td>PLATINUM  </td></tr><tr><td>82</td><td>Tailspin Toys (La Cueva, NM)</td><td>PLATINUM  </td></tr><tr><td>83</td><td>Tailspin Toys (Absecon, NJ)</td><td>PLATINUM  </td></tr><tr><td>84</td><td>Tailspin Toys (Aceitunas, PR)</td><td>PLATINUM  </td></tr><tr><td>85</td><td>Tailspin Toys (Andrix, CO)</td><td>PLATINUM  </td></tr><tr><td>86</td><td>Tailspin Toys (New Lexington, OH)</td><td>PLATINUM  </td></tr><tr><td>87</td><td>Tailspin Toys (Sauquoit, NY)</td><td>PLATINUM  </td></tr><tr><td>88</td><td>Tailspin Toys (Dracut, MA)</td><td>PLATINUM  </td></tr><tr><td>89</td><td>Tailspin Toys (Victory Gardens, NJ)</td><td>PLATINUM  </td></tr><tr><td>90</td><td>Tailspin Toys (Tolna, ND)</td><td>PLATINUM  </td></tr><tr><td>91</td><td>Tailspin Toys (Alstead, NH)</td><td>GOLD      </td></tr><tr><td>92</td><td>Tailspin Toys (Sans Souci, SC)</td><td>PLATINUM  </td></tr><tr><td>93</td><td>Tailspin Toys (Clewiston, FL)</td><td>PLATINUM  </td></tr><tr><td>94</td><td>Tailspin Toys (Cheyenne Wells, CO)</td><td>PLATINUM  </td></tr><tr><td>95</td><td>Tailspin Toys (Lavon, TX)</td><td>GOLD      </td></tr><tr><td>96</td><td>Tailspin Toys (South La Paloma, TX)</td><td>PLATINUM  </td></tr><tr><td>97</td><td>Tailspin Toys (Manchester Center, VT)</td><td>PLATINUM  </td></tr><tr><td>98</td><td>Tailspin Toys (El Centro, CA)</td><td>PLATINUM  </td></tr><tr><td>99</td><td>Tailspin Toys (Guin, AL)</td><td>PLATINUM  </td></tr><tr><td>100</td><td>Tailspin Toys (Tunnelhill, PA)</td><td>GOLD      </td></tr><tr><td>101</td><td>Tailspin Toys (Cundiyo, NM)</td><td>PLATINUM  </td></tr><tr><td>102</td><td>Tailspin Toys (Fieldbrook, CA)</td><td>PLATINUM  </td></tr><tr><td>103</td><td>Tailspin Toys (Kalvesta, KS)</td><td>PLATINUM  </td></tr><tr><td>104</td><td>Tailspin Toys (Wallagrass, ME)</td><td>GOLD      </td></tr><tr><td>105</td><td>Tailspin Toys (Tomnolen, MS)</td><td>GOLD      </td></tr><tr><td>106</td><td>Tailspin Toys (Tumacacori, AZ)</td><td>PLATINUM  </td></tr><tr><td>107</td><td>Tailspin Toys (Glen Avon, CA)</td><td>PLATINUM  </td></tr><tr><td>108</td><td>Tailspin Toys (Bernie, MO)</td><td>PLATINUM  </td></tr><tr><td>109</td><td>Tailspin Toys (South Laguna, CA)</td><td>PLATINUM  </td></tr><tr><td>110</td><td>Tailspin Toys (North Crows Nest, IN)</td><td>PLATINUM  </td></tr><tr><td>111</td><td>Tailspin Toys (Oriole Beach, FL)</td><td>GOLD      </td></tr><tr><td>112</td><td>Tailspin Toys (Sallyards, KS)</td><td>PLATINUM  </td></tr><tr><td>113</td><td>Tailspin Toys (Dahlia, NM)</td><td>PLATINUM  </td></tr><tr><td>114</td><td>Tailspin Toys (Cherry Grove Beach, SC)</td><td>PLATINUM  </td></tr><tr><td>115</td><td>Tailspin Toys (Bethania, NC)</td><td>PLATINUM  </td></tr><tr><td>116</td><td>Tailspin Toys (Rafael Capó, PR)</td><td>PLATINUM  </td></tr><tr><td>117</td><td>Tailspin Toys (Scofield, UT)</td><td>PLATINUM  </td></tr><tr><td>118</td><td>Tailspin Toys (Vassalboro, ME)</td><td>PLATINUM  </td></tr><tr><td>119</td><td>Tailspin Toys (Statenville, GA)</td><td>PLATINUM  </td></tr><tr><td>120</td><td>Tailspin Toys (Bratenahl, OH)</td><td>GOLD      </td></tr><tr><td>121</td><td>Tailspin Toys (Elrosa, MN)</td><td>PLATINUM  </td></tr><tr><td>122</td><td>Tailspin Toys (McClave, CO)</td><td>PLATINUM  </td></tr><tr><td>123</td><td>Tailspin Toys (Roe Park, NY)</td><td>PLATINUM  </td></tr><tr><td>124</td><td>Tailspin Toys (Hanoverton, OH)</td><td>PLATINUM  </td></tr><tr><td>125</td><td>Tailspin Toys (Annamoriah, WV)</td><td>PLATINUM  </td></tr><tr><td>126</td><td>Tailspin Toys (Francis Mills, NJ)</td><td>GOLD      </td></tr><tr><td>127</td><td>Tailspin Toys (Point Roberts, WA)</td><td>PLATINUM  </td></tr><tr><td>128</td><td>Tailspin Toys (East Portal, CO)</td><td>PLATINUM  </td></tr><tr><td>129</td><td>Tailspin Toys (Mineral Hills, MI)</td><td>PLATINUM  </td></tr><tr><td>130</td><td>Tailspin Toys (Maple Shade, NJ)</td><td>PLATINUM  </td></tr><tr><td>131</td><td>Tailspin Toys (Kwethluk, AK)</td><td>PLATINUM  </td></tr><tr><td>132</td><td>Tailspin Toys (Minidoka, ID)</td><td>PLATINUM  </td></tr><tr><td>133</td><td>Tailspin Toys (Lake Erie Beach, NY)</td><td>PLATINUM  </td></tr><tr><td>134</td><td>Tailspin Toys (Tavares, FL)</td><td>PLATINUM  </td></tr><tr><td>135</td><td>Tailspin Toys (Terre du Lac, MO)</td><td>PLATINUM  </td></tr><tr><td>136</td><td>Tailspin Toys (Mount Montgomery, NV)</td><td>PLATINUM  </td></tr><tr><td>137</td><td>Tailspin Toys (Carbonville, UT)</td><td>PLATINUM  </td></tr><tr><td>138</td><td>Tailspin Toys (Navassa, NC)</td><td>PLATINUM  </td></tr><tr><td>139</td><td>Tailspin Toys (Hardeeville, SC)</td><td>PLATINUM  </td></tr><tr><td>140</td><td>Tailspin Toys (Furley, KS)</td><td>PLATINUM  </td></tr><tr><td>141</td><td>Tailspin Toys (Arrow Rock, MO)</td><td>GOLD      </td></tr><tr><td>142</td><td>Tailspin Toys (King Cove, AK)</td><td>PLATINUM  </td></tr><tr><td>143</td><td>Tailspin Toys (Ashtabula, OH)</td><td>PLATINUM  </td></tr><tr><td>144</td><td>Tailspin Toys (Larose, LA)</td><td>PLATINUM  </td></tr><tr><td>145</td><td>Tailspin Toys (Manahawkin, NJ)</td><td>PLATINUM  </td></tr><tr><td>146</td><td>Tailspin Toys (Belgreen, AL)</td><td>PLATINUM  </td></tr><tr><td>147</td><td>Tailspin Toys (Fishtail, MT)</td><td>GOLD      </td></tr><tr><td>148</td><td>Tailspin Toys (Baraboo, WI)</td><td>GOLD      </td></tr><tr><td>149</td><td>Tailspin Toys (Inguadona, MN)</td><td>PLATINUM  </td></tr><tr><td>150</td><td>Tailspin Toys (Corfu, NY)</td><td>PLATINUM  </td></tr><tr><td>151</td><td>Tailspin Toys (Antares, AZ)</td><td>PLATINUM  </td></tr><tr><td>152</td><td>Tailspin Toys (Sun River, MT)</td><td>GOLD      </td></tr><tr><td>153</td><td>Tailspin Toys (Marcell, MN)</td><td>PLATINUM  </td></tr><tr><td>154</td><td>Tailspin Toys (Eden Valley, MN)</td><td>GOLD      </td></tr><tr><td>155</td><td>Tailspin Toys (Arbor Vitae, WI)</td><td>PLATINUM  </td></tr><tr><td>156</td><td>Tailspin Toys (Hollywood Park, TX)</td><td>GOLD      </td></tr><tr><td>157</td><td>Tailspin Toys (Saks, AL)</td><td>PLATINUM  </td></tr><tr><td>158</td><td>Tailspin Toys (Donner, LA)</td><td>PLATINUM  </td></tr><tr><td>159</td><td>Tailspin Toys (Saint Louis Park, MN)</td><td>PLATINUM  </td></tr><tr><td>160</td><td>Tailspin Toys (Crary, ND)</td><td>PLATINUM  </td></tr><tr><td>161</td><td>Tailspin Toys (Aspen Park, CO)</td><td>PLATINUM  </td></tr><tr><td>162</td><td>Tailspin Toys (Glen Park, NY)</td><td>PLATINUM  </td></tr><tr><td>163</td><td>Tailspin Toys (Panaca, NV)</td><td>PLATINUM  </td></tr><tr><td>164</td><td>Tailspin Toys (Rothsville, PA)</td><td>PLATINUM  </td></tr><tr><td>165</td><td>Tailspin Toys (Topstone, CT)</td><td>PLATINUM  </td></tr><tr><td>166</td><td>Tailspin Toys (McCamey, TX)</td><td>PLATINUM  </td></tr><tr><td>167</td><td>Tailspin Toys (Rockwall, TX)</td><td>PLATINUM  </td></tr><tr><td>168</td><td>Tailspin Toys (Seagraves, TX)</td><td>PLATINUM  </td></tr><tr><td>169</td><td>Tailspin Toys (Sinclair, WY)</td><td>PLATINUM  </td></tr><tr><td>170</td><td>Tailspin Toys (Eastchester, NY)</td><td>PLATINUM  </td></tr><tr><td>171</td><td>Tailspin Toys (Ortley Beach, NJ)</td><td>PLATINUM  </td></tr><tr><td>172</td><td>Tailspin Toys (Madrone, NM)</td><td>PLATINUM  </td></tr><tr><td>173</td><td>Tailspin Toys (Wappingers Falls, NY)</td><td>PLATINUM  </td></tr><tr><td>174</td><td>Tailspin Toys (Astor Park, FL)</td><td>PLATINUM  </td></tr><tr><td>175</td><td>Tailspin Toys (San Acacia, NM)</td><td>GOLD      </td></tr><tr><td>176</td><td>Tailspin Toys (Malott, WA)</td><td>PLATINUM  </td></tr><tr><td>177</td><td>Tailspin Toys (Orrtanna, PA)</td><td>PLATINUM  </td></tr><tr><td>178</td><td>Tailspin Toys (Armstrong Creek, WI)</td><td>PLATINUM  </td></tr><tr><td>179</td><td>Tailspin Toys (Hiteman, IA)</td><td>GOLD      </td></tr><tr><td>180</td><td>Tailspin Toys (Caselton, NV)</td><td>PLATINUM  </td></tr><tr><td>181</td><td>Tailspin Toys (Heilwood, PA)</td><td>PLATINUM  </td></tr><tr><td>182</td><td>Tailspin Toys (Hayes Center, NE)</td><td>PLATINUM  </td></tr><tr><td>183</td><td>Tailspin Toys (Tierra Verde, FL)</td><td>PLATINUM  </td></tr><tr><td>184</td><td>Tailspin Toys (South Euclid, OH)</td><td>GOLD      </td></tr><tr><td>185</td><td>Tailspin Toys (Vidrine, LA)</td><td>PLATINUM  </td></tr><tr><td>186</td><td>Tailspin Toys (Placer, OR)</td><td>PLATINUM  </td></tr><tr><td>187</td><td>Tailspin Toys (Brown City, MI)</td><td>PLATINUM  </td></tr><tr><td>188</td><td>Tailspin Toys (Premont, TX)</td><td>PLATINUM  </td></tr><tr><td>189</td><td>Tailspin Toys (Wilkes-Barre, PA)</td><td>GOLD      </td></tr><tr><td>190</td><td>Tailspin Toys (Teutopolis, IL)</td><td>PLATINUM  </td></tr><tr><td>191</td><td>Tailspin Toys (Orchard Hill, GA)</td><td>PLATINUM  </td></tr><tr><td>192</td><td>Tailspin Toys (Optimo, NM)</td><td>PLATINUM  </td></tr><tr><td>193</td><td>Tailspin Toys (Knifley, KY)</td><td>PLATINUM  </td></tr><tr><td>194</td><td>Tailspin Toys (Naples Park, FL)</td><td>GOLD      </td></tr><tr><td>195</td><td>Tailspin Toys (Lesslie, SC)</td><td>PLATINUM  </td></tr><tr><td>196</td><td>Tailspin Toys (Howells, NE)</td><td>PLATINUM  </td></tr><tr><td>197</td><td>Tailspin Toys (Magalia, CA)</td><td>GOLD      </td></tr><tr><td>198</td><td>Tailspin Toys (Buell, MO)</td><td>PLATINUM  </td></tr><tr><td>199</td><td>Tailspin Toys (Antonito, CO)</td><td>GOLD      </td></tr><tr><td>200</td><td>Tailspin Toys (Tooele, UT)</td><td>PLATINUM  </td></tr><tr><td>201</td><td>Tailspin Toys (Skyway, WA)</td><td>PLATINUM  </td></tr><tr><td>202</td><td>Wingtip Toys (Head Office)</td><td>PLATINUM  </td></tr><tr><td>203</td><td>Wingtip Toys (Black Lick, PA)</td><td>PLATINUM  </td></tr><tr><td>204</td><td>Wingtip Toys (Queen Valley, AZ)</td><td>PLATINUM  </td></tr><tr><td>205</td><td>Wingtip Toys (Penns Creek, PA)</td><td>GOLD      </td></tr><tr><td>206</td><td>Wingtip Toys (Bourbonnais, IL)</td><td>PLATINUM  </td></tr><tr><td>207</td><td>Wingtip Toys (Tuscaloosa, AL)</td><td>PLATINUM  </td></tr><tr><td>208</td><td>Wingtip Toys (Mooringsport, LA)</td><td>PLATINUM  </td></tr><tr><td>209</td><td>Wingtip Toys (Rockwall, TX)</td><td>PLATINUM  </td></tr><tr><td>210</td><td>Wingtip Toys (Orick, CA)</td><td>PLATINUM  </td></tr><tr><td>211</td><td>Wingtip Toys (Bernstein, TX)</td><td>PLATINUM  </td></tr><tr><td>212</td><td>Wingtip Toys (Edmund, WI)</td><td>GOLD      </td></tr><tr><td>213</td><td>Wingtip Toys (Bozeman Hot Springs, MT)</td><td>PLATINUM  </td></tr><tr><td>214</td><td>Wingtip Toys (Truscott, TX)</td><td>PLATINUM  </td></tr><tr><td>215</td><td>Wingtip Toys (Rose Tree, PA)</td><td>PLATINUM  </td></tr><tr><td>216</td><td>Wingtip Toys (Leathersville, GA)</td><td>PLATINUM  </td></tr><tr><td>217</td><td>Wingtip Toys (Necedah, WI)</td><td>PLATINUM  </td></tr><tr><td>218</td><td>Wingtip Toys (Chetek, WI)</td><td>GOLD      </td></tr><tr><td>219</td><td>Wingtip Toys (Yaak, MT)</td><td>PLATINUM  </td></tr><tr><td>220</td><td>Wingtip Toys (Compass Lake, FL)</td><td>GOLD      </td></tr><tr><td>221</td><td>Wingtip Toys (Herlong, CA)</td><td>PLATINUM  </td></tr><tr><td>222</td><td>Wingtip Toys (Highland Home, AL)</td><td>PLATINUM  </td></tr><tr><td>223</td><td>Wingtip Toys (Naches, WA)</td><td>PLATINUM  </td></tr><tr><td>224</td><td>Wingtip Toys (Baldwin City, KS)</td><td>GOLD      </td></tr><tr><td>225</td><td>Wingtip Toys (Heartwell, NE)</td><td>GOLD      </td></tr><tr><td>226</td><td>Wingtip Toys (Bethel Acres, OK)</td><td>PLATINUM  </td></tr><tr><td>227</td><td>Wingtip Toys (Willow Valley, AZ)</td><td>GOLD      </td></tr><tr><td>228</td><td>Wingtip Toys (Athol Springs, NY)</td><td>PLATINUM  </td></tr><tr><td>229</td><td>Wingtip Toys (Paw Paw Lake, MI)</td><td>PLATINUM  </td></tr><tr><td>230</td><td>Wingtip Toys (Lilbourn, MO)</td><td>PLATINUM  </td></tr><tr><td>231</td><td>Wingtip Toys (Lost River, ID)</td><td>PLATINUM  </td></tr><tr><td>232</td><td>Wingtip Toys (Rosa Sánchez, PR)</td><td>PLATINUM  </td></tr><tr><td>233</td><td>Wingtip Toys (Vamo, FL)</td><td>PLATINUM  </td></tr><tr><td>234</td><td>Wingtip Toys (Balko, OK)</td><td>GOLD      </td></tr><tr><td>235</td><td>Wingtip Toys (Lime Lake, NY)</td><td>PLATINUM  </td></tr><tr><td>236</td><td>Wingtip Toys (Teutopolis, IL)</td><td>PLATINUM  </td></tr><tr><td>237</td><td>Wingtip Toys (Gargatha, VA)</td><td>PLATINUM  </td></tr><tr><td>238</td><td>Wingtip Toys (Cadogan, PA)</td><td>PLATINUM  </td></tr><tr><td>239</td><td>Wingtip Toys (Lucasville, OH)</td><td>PLATINUM  </td></tr><tr><td>240</td><td>Wingtip Toys (Cylon, WI)</td><td>PLATINUM  </td></tr><tr><td>241</td><td>Wingtip Toys (Asher, OK)</td><td>PLATINUM  </td></tr><tr><td>242</td><td>Wingtip Toys (Keosauqua, IA)</td><td>PLATINUM  </td></tr><tr><td>243</td><td>Wingtip Toys (Homer City, PA)</td><td>PLATINUM  </td></tr><tr><td>244</td><td>Wingtip Toys (Berville, MI)</td><td>PLATINUM  </td></tr><tr><td>245</td><td>Wingtip Toys (Tea, SD)</td><td>PLATINUM  </td></tr><tr><td>246</td><td>Wingtip Toys (Dacono, CO)</td><td>PLATINUM  </td></tr><tr><td>247</td><td>Wingtip Toys (Saint Landry, LA)</td><td>GOLD      </td></tr><tr><td>248</td><td>Wingtip Toys (Coin, IA)</td><td>PLATINUM  </td></tr><tr><td>249</td><td>Wingtip Toys (Salt Wells, NV)</td><td>PLATINUM  </td></tr><tr><td>250</td><td>Wingtip Toys (Delray, WV)</td><td>PLATINUM  </td></tr><tr><td>251</td><td>Wingtip Toys (Mount Summit, IN)</td><td>GOLD      </td></tr><tr><td>252</td><td>Wingtip Toys (Smoot, WY)</td><td>PLATINUM  </td></tr><tr><td>253</td><td>Wingtip Toys (Lake Davis, CA)</td><td>PLATINUM  </td></tr><tr><td>254</td><td>Wingtip Toys (Stanardsville, VA)</td><td>GOLD      </td></tr><tr><td>255</td><td>Wingtip Toys (Corcovado, PR)</td><td>GOLD      </td></tr><tr><td>256</td><td>Wingtip Toys (Taft Heights, CA)</td><td>PLATINUM  </td></tr><tr><td>257</td><td>Wingtip Toys (West Hempstead, NY)</td><td>PLATINUM  </td></tr><tr><td>258</td><td>Wingtip Toys (Portales, NM)</td><td>GOLD      </td></tr><tr><td>259</td><td>Wingtip Toys (Coker, AL)</td><td>PLATINUM  </td></tr><tr><td>260</td><td>Wingtip Toys (Haydenville, OH)</td><td>PLATINUM  </td></tr><tr><td>261</td><td>Wingtip Toys (Mayhill, NM)</td><td>PLATINUM  </td></tr><tr><td>262</td><td>Wingtip Toys (Vair, TX)</td><td>GOLD      </td></tr><tr><td>263</td><td>Wingtip Toys (Crossroads, NM)</td><td>GOLD      </td></tr><tr><td>264</td><td>Wingtip Toys (Cowlington, OK)</td><td>PLATINUM  </td></tr><tr><td>265</td><td>Wingtip Toys (Glen Ullin, ND)</td><td>PLATINUM  </td></tr><tr><td>266</td><td>Wingtip Toys (Oologah, OK)</td><td>PLATINUM  </td></tr><tr><td>267</td><td>Wingtip Toys (Lytle, TX)</td><td>PLATINUM  </td></tr><tr><td>268</td><td>Wingtip Toys (Mahaffey, PA)</td><td>PLATINUM  </td></tr><tr><td>269</td><td>Wingtip Toys (Sunburg, MN)</td><td>PLATINUM  </td></tr><tr><td>270</td><td>Wingtip Toys (Johnetta, KY)</td><td>PLATINUM  </td></tr><tr><td>271</td><td>Wingtip Toys (Universal City, TX)</td><td>GOLD      </td></tr><tr><td>272</td><td>Wingtip Toys (Ridgemark, CA)</td><td>PLATINUM  </td></tr><tr><td>273</td><td>Wingtip Toys (San Jacinto, CA)</td><td>PLATINUM  </td></tr><tr><td>274</td><td>Wingtip Toys (Floriston, CA)</td><td>PLATINUM  </td></tr><tr><td>275</td><td>Wingtip Toys (Bokeelia, FL)</td><td>PLATINUM  </td></tr><tr><td>276</td><td>Wingtip Toys (Cale, AR)</td><td>PLATINUM  </td></tr><tr><td>277</td><td>Wingtip Toys (Karthaus, PA)</td><td>PLATINUM  </td></tr><tr><td>278</td><td>Wingtip Toys (Glancy, MS)</td><td>GOLD      </td></tr><tr><td>279</td><td>Wingtip Toys (Stoneboro, PA)</td><td>PLATINUM  </td></tr><tr><td>280</td><td>Wingtip Toys (Mier, IN)</td><td>PLATINUM  </td></tr><tr><td>281</td><td>Wingtip Toys (Wapinitia, OR)</td><td>PLATINUM  </td></tr><tr><td>282</td><td>Wingtip Toys (White Church, MO)</td><td>PLATINUM  </td></tr><tr><td>283</td><td>Wingtip Toys (Caton, NY)</td><td>GOLD      </td></tr><tr><td>284</td><td>Wingtip Toys (Plum Branch, SC)</td><td>PLATINUM  </td></tr><tr><td>285</td><td>Wingtip Toys (Mauldin, SC)</td><td>PLATINUM  </td></tr><tr><td>286</td><td>Wingtip Toys (Bonner Springs, KS)</td><td>PLATINUM  </td></tr><tr><td>287</td><td>Wingtip Toys (Lowellville, OH)</td><td>GOLD      </td></tr><tr><td>288</td><td>Wingtip Toys (Elverson, PA)</td><td>PLATINUM  </td></tr><tr><td>289</td><td>Wingtip Toys (Isabela, PR)</td><td>PLATINUM  </td></tr><tr><td>290</td><td>Wingtip Toys (Sayner, WI)</td><td>PLATINUM  </td></tr><tr><td>291</td><td>Wingtip Toys (Beals, ME)</td><td>GOLD      </td></tr><tr><td>292</td><td>Wingtip Toys (Morton Grove, IL)</td><td>GOLD      </td></tr><tr><td>293</td><td>Wingtip Toys (Birds, IL)</td><td>PLATINUM  </td></tr><tr><td>294</td><td>Wingtip Toys (Federalsburg, MD)</td><td>PLATINUM  </td></tr><tr><td>295</td><td>Wingtip Toys (Pikeview, CO)</td><td>PLATINUM  </td></tr><tr><td>296</td><td>Wingtip Toys (Boalsburg, PA)</td><td>PLATINUM  </td></tr><tr><td>297</td><td>Wingtip Toys (Port Hueneme, CA)</td><td>PLATINUM  </td></tr><tr><td>298</td><td>Wingtip Toys (Verdery, SC)</td><td>PLATINUM  </td></tr><tr><td>299</td><td>Wingtip Toys (Obetz, OH)</td><td>PLATINUM  </td></tr><tr><td>300</td><td>Wingtip Toys (East Fultonham, OH)</td><td>PLATINUM  </td></tr><tr><td>301</td><td>Wingtip Toys (Obion, TN)</td><td>PLATINUM  </td></tr><tr><td>302</td><td>Wingtip Toys (Cavendish, VT)</td><td>PLATINUM  </td></tr><tr><td>303</td><td>Wingtip Toys (Miesville, MN)</td><td>GOLD      </td></tr><tr><td>304</td><td>Wingtip Toys (Valhalla, NC)</td><td>PLATINUM  </td></tr><tr><td>305</td><td>Wingtip Toys (Cape Neddick, ME)</td><td>GOLD      </td></tr><tr><td>306</td><td>Wingtip Toys (Silver Plume, CO)</td><td>PLATINUM  </td></tr><tr><td>307</td><td>Wingtip Toys (North Beach Haven, NJ)</td><td>PLATINUM  </td></tr><tr><td>308</td><td>Wingtip Toys (Downingtown, PA)</td><td>PLATINUM  </td></tr><tr><td>309</td><td>Wingtip Toys (Branson West, MO)</td><td>PLATINUM  </td></tr><tr><td>310</td><td>Wingtip Toys (Bergen Park, CO)</td><td>PLATINUM  </td></tr><tr><td>311</td><td>Wingtip Toys (Grabill, IN)</td><td>PLATINUM  </td></tr><tr><td>312</td><td>Wingtip Toys (North Manitou, MI)</td><td>GOLD      </td></tr><tr><td>313</td><td>Wingtip Toys (Philip, SD)</td><td>PLATINUM  </td></tr><tr><td>314</td><td>Wingtip Toys (Straughn, IN)</td><td>GOLD      </td></tr><tr><td>315</td><td>Wingtip Toys (Gilford, NH)</td><td>PLATINUM  </td></tr><tr><td>316</td><td>Wingtip Toys (Del Valle, TX)</td><td>GOLD      </td></tr><tr><td>317</td><td>Wingtip Toys (Harkers Island, NC)</td><td>PLATINUM  </td></tr><tr><td>318</td><td>Wingtip Toys (Licking, MO)</td><td>PLATINUM  </td></tr><tr><td>319</td><td>Wingtip Toys (Raton, NM)</td><td>PLATINUM  </td></tr><tr><td>320</td><td>Wingtip Toys (Boynton, OK)</td><td>PLATINUM  </td></tr><tr><td>321</td><td>Wingtip Toys (Frenchburg, KY)</td><td>PLATINUM  </td></tr><tr><td>322</td><td>Wingtip Toys (Robertsdale, AL)</td><td>PLATINUM  </td></tr><tr><td>323</td><td>Wingtip Toys (Dickerson, MD)</td><td>GOLD      </td></tr><tr><td>324</td><td>Wingtip Toys (Bruceton Mills, WV)</td><td>PLATINUM  </td></tr><tr><td>325</td><td>Wingtip Toys (Cloquet, MN)</td><td>PLATINUM  </td></tr><tr><td>326</td><td>Wingtip Toys (Claycomo, MO)</td><td>PLATINUM  </td></tr><tr><td>327</td><td>Wingtip Toys (Beekmantown, NY)</td><td>PLATINUM  </td></tr><tr><td>328</td><td>Wingtip Toys (Islip Terrace, NY)</td><td>PLATINUM  </td></tr><tr><td>329</td><td>Wingtip Toys (Rich Creek, VA)</td><td>PLATINUM  </td></tr><tr><td>330</td><td>Wingtip Toys (Griswoldville, GA)</td><td>PLATINUM  </td></tr><tr><td>331</td><td>Wingtip Toys (East Mountain, TX)</td><td>GOLD      </td></tr><tr><td>332</td><td>Wingtip Toys (Omer, MI)</td><td>PLATINUM  </td></tr><tr><td>333</td><td>Wingtip Toys (Waycross, GA)</td><td>PLATINUM  </td></tr><tr><td>334</td><td>Wingtip Toys (Nichols Hills, OK)</td><td>PLATINUM  </td></tr><tr><td>335</td><td>Wingtip Toys (Plaquemine, LA)</td><td>PLATINUM  </td></tr><tr><td>336</td><td>Wingtip Toys (Triadelphia, WV)</td><td>PLATINUM  </td></tr><tr><td>337</td><td>Wingtip Toys (Ferney, SD)</td><td>PLATINUM  </td></tr><tr><td>338</td><td>Wingtip Toys (Akhiok, AK)</td><td>PLATINUM  </td></tr><tr><td>339</td><td>Wingtip Toys (Deeson, MS)</td><td>PLATINUM  </td></tr><tr><td>340</td><td>Wingtip Toys (Nuangola, PA)</td><td>GOLD      </td></tr><tr><td>341</td><td>Wingtip Toys (Weld, ME)</td><td>PLATINUM  </td></tr><tr><td>342</td><td>Wingtip Toys (Mickleton, NJ)</td><td>PLATINUM  </td></tr><tr><td>343</td><td>Wingtip Toys (Schererville, IN)</td><td>PLATINUM  </td></tr><tr><td>344</td><td>Wingtip Toys (Lexington Heights, MI)</td><td>PLATINUM  </td></tr><tr><td>345</td><td>Wingtip Toys (Broomtown, AL)</td><td>PLATINUM  </td></tr><tr><td>346</td><td>Wingtip Toys (Jamison, IA)</td><td>PLATINUM  </td></tr><tr><td>347</td><td>Wingtip Toys (Key Biscayne, FL)</td><td>PLATINUM  </td></tr><tr><td>348</td><td>Wingtip Toys (Chaseley, ND)</td><td>GOLD      </td></tr><tr><td>349</td><td>Wingtip Toys (Indian Creek, IL)</td><td>PLATINUM  </td></tr><tr><td>350</td><td>Wingtip Toys (Lake Ronkonkoma, NY)</td><td>PLATINUM  </td></tr><tr><td>351</td><td>Wingtip Toys (Morrison Bluff, AR)</td><td>PLATINUM  </td></tr><tr><td>352</td><td>Wingtip Toys (Huntingburg, IN)</td><td>PLATINUM  </td></tr><tr><td>353</td><td>Wingtip Toys (Shay, PA)</td><td>PLATINUM  </td></tr><tr><td>354</td><td>Wingtip Toys (Helotes, TX)</td><td>GOLD      </td></tr><tr><td>355</td><td>Wingtip Toys (Hollandsburg, IN)</td><td>PLATINUM  </td></tr><tr><td>356</td><td>Wingtip Toys (Liberty Grove, MD)</td><td>PLATINUM  </td></tr><tr><td>357</td><td>Wingtip Toys (Morita, TX)</td><td>GOLD      </td></tr><tr><td>358</td><td>Wingtip Toys (New Laguna, NM)</td><td>GOLD      </td></tr><tr><td>359</td><td>Wingtip Toys (Bourneville, OH)</td><td>PLATINUM  </td></tr><tr><td>360</td><td>Wingtip Toys (Mendoza, TX)</td><td>PLATINUM  </td></tr><tr><td>361</td><td>Wingtip Toys (Palmas del Mar, PR)</td><td>GOLD      </td></tr><tr><td>362</td><td>Wingtip Toys (Marion Junction, AL)</td><td>PLATINUM  </td></tr><tr><td>363</td><td>Wingtip Toys (Ware Shoals, SC)</td><td>PLATINUM  </td></tr><tr><td>364</td><td>Wingtip Toys (Lostine, OR)</td><td>GOLD      </td></tr><tr><td>365</td><td>Wingtip Toys (Tilleda, WI)</td><td>PLATINUM  </td></tr><tr><td>366</td><td>Wingtip Toys (Wapiti, WY)</td><td>PLATINUM  </td></tr><tr><td>367</td><td>Wingtip Toys (Amado, AZ)</td><td>PLATINUM  </td></tr><tr><td>368</td><td>Wingtip Toys (Jeromesville, OH)</td><td>GOLD      </td></tr><tr><td>369</td><td>Wingtip Toys (Ovilla, TX)</td><td>GOLD      </td></tr><tr><td>370</td><td>Wingtip Toys (West Frostproof, FL)</td><td>PLATINUM  </td></tr><tr><td>371</td><td>Wingtip Toys (Flomaton, AL)</td><td>PLATINUM  </td></tr><tr><td>372</td><td>Wingtip Toys (Pawlet, VT)</td><td>PLATINUM  </td></tr><tr><td>373</td><td>Wingtip Toys (Trout Run, PA)</td><td>PLATINUM  </td></tr><tr><td>374</td><td>Wingtip Toys (Marin City, CA)</td><td>GOLD      </td></tr><tr><td>375</td><td>Wingtip Toys (Molalla, OR)</td><td>PLATINUM  </td></tr><tr><td>376</td><td>Wingtip Toys (Trumansburg, NY)</td><td>PLATINUM  </td></tr><tr><td>377</td><td>Wingtip Toys (Goodings Grove, IL)</td><td>GOLD      </td></tr><tr><td>378</td><td>Wingtip Toys (Cherryplain, NY)</td><td>REGULAR   </td></tr><tr><td>379</td><td>Wingtip Toys (Bell Acres, PA)</td><td>PLATINUM  </td></tr><tr><td>380</td><td>Wingtip Toys (Connoquenessing, PA)</td><td>PLATINUM  </td></tr><tr><td>381</td><td>Wingtip Toys (Sarversville, PA)</td><td>PLATINUM  </td></tr><tr><td>382</td><td>Wingtip Toys (Munich, ND)</td><td>GOLD      </td></tr><tr><td>383</td><td>Wingtip Toys (Montoya, NM)</td><td>PLATINUM  </td></tr><tr><td>384</td><td>Wingtip Toys (Knights Landing, CA)</td><td>PLATINUM  </td></tr><tr><td>385</td><td>Wingtip Toys (Cache, OK)</td><td>PLATINUM  </td></tr><tr><td>386</td><td>Wingtip Toys (Towaco, NJ)</td><td>PLATINUM  </td></tr><tr><td>387</td><td>Wingtip Toys (Lynne, FL)</td><td>PLATINUM  </td></tr><tr><td>388</td><td>Wingtip Toys (Plata, TX)</td><td>PLATINUM  </td></tr><tr><td>389</td><td>Wingtip Toys (Oak Point, TX)</td><td>PLATINUM  </td></tr><tr><td>390</td><td>Wingtip Toys (Alcester, SD)</td><td>PLATINUM  </td></tr><tr><td>391</td><td>Wingtip Toys (McAdenville, NC)</td><td>GOLD      </td></tr><tr><td>392</td><td>Wingtip Toys (Idaho City, ID)</td><td>PLATINUM  </td></tr><tr><td>393</td><td>Wingtip Toys (Dunkerton, IA)</td><td>PLATINUM  </td></tr><tr><td>394</td><td>Wingtip Toys (Cuyamungue, NM)</td><td>PLATINUM  </td></tr><tr><td>395</td><td>Wingtip Toys (Marfa, TX)</td><td>PLATINUM  </td></tr><tr><td>396</td><td>Wingtip Toys (Accomac, VA)</td><td>PLATINUM  </td></tr><tr><td>397</td><td>Wingtip Toys (Cos Cob, CT)</td><td>PLATINUM  </td></tr><tr><td>398</td><td>Wingtip Toys (Haycock, AK)</td><td>PLATINUM  </td></tr><tr><td>399</td><td>Wingtip Toys (Kapa'a, HI)</td><td>PLATINUM  </td></tr><tr><td>400</td><td>Wingtip Toys (Dickworsham, TX)</td><td>GOLD      </td></tr><tr><td>401</td><td>Wingtip Toys (Caro, MI)</td><td>PLATINUM  </td></tr><tr><td>402</td><td>Wingtip Toys (Ruthsburg, MD)</td><td>PLATINUM  </td></tr></table>"
                    }
                }
            ],
            "execution_count": 4
        }
    ]
}