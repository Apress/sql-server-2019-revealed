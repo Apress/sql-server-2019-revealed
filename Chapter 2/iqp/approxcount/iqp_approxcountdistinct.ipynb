{
    "metadata": {
        "kernelspec": {
            "name": "SQL",
            "display_name": "SQL",
            "language": "sql"
        },
        "language_info": {
            "name": "sql",
            "version": ""
        }
    },
    "nbformat_minor": 2,
    "nbformat": 4,
    "cells": [
        {
            "cell_type": "markdown",
            "source": "# Intelligent Query Processing\r\n## Approximate Count Distinct \r\nApproximate Count Distinct is an example of Intelligent Query Processing that can be enabled just by upgrading to SQL Server 2019 (dbcompat of 150 is not required). Follow the steps in this notebook to see the performance difference when using the new **APPROX_COUNT_DISTINCT** T-SQL function vs using the combination of **COUNT** and **DISTINCT**.\r\n\r\n**Prerequisites**: Restore the WideWorldImportersDW full backup. Then run the **extendwwidw.sql** script to customize the database. If you have already done this, proceed to the next steps",
            "metadata": {}
        },
        {
            "cell_type": "markdown",
            "source": "## Step 1: Do some setup\r\nClear the procedure cache to ensure no other previous runs are affected, set dbcompat to 130 just to prove you don't need 150, and warm the buffer pool cache with pages from OrderHistoryExtended to make the comparison fair.",
            "metadata": {}
        },
        {
            "cell_type": "code",
            "source": "-- Step 1: Clear the cache, set dbcompat to 130 jsut to prove it works, and warm the cache\r\nUSE WideWorldImportersDW\r\nGO\r\nALTER DATABASE SCOPED CONFIGURATION CLEAR PROCEDURE_CACHE\r\nGO\r\nALTER DATABASE WideWorldImportersDW SET COMPATIBILITY_LEVEL = 130\r\nGO\r\nSELECT COUNT(*) FROM Fact.OrderHistoryExtended\r\nGO",
            "metadata": {},
            "outputs": [
                {
                    "output_type": "display_data",
                    "data": {
                        "text/html": "Commands completed successfully."
                    },
                    "metadata": {}
                },
                {
                    "output_type": "display_data",
                    "data": {
                        "text/html": "Total execution time: 00:00:00.0010290"
                    },
                    "metadata": {}
                },
                {
                    "output_type": "display_data",
                    "data": {
                        "text/html": "Commands completed successfully."
                    },
                    "metadata": {}
                },
                {
                    "output_type": "display_data",
                    "data": {
                        "text/html": "Total execution time: 00:00:00.0040395"
                    },
                    "metadata": {}
                },
                {
                    "output_type": "display_data",
                    "data": {
                        "text/html": "Commands completed successfully."
                    },
                    "metadata": {}
                },
                {
                    "output_type": "display_data",
                    "data": {
                        "text/html": "Total execution time: 00:00:00.0647228"
                    },
                    "metadata": {}
                },
                {
                    "output_type": "display_data",
                    "data": {
                        "text/html": "(1 row affected)"
                    },
                    "metadata": {}
                },
                {
                    "output_type": "display_data",
                    "data": {
                        "text/html": "Total execution time: 00:00:02.9276605"
                    },
                    "metadata": {}
                },
                {
                    "output_type": "execute_result",
                    "metadata": {},
                    "execution_count": 1,
                    "data": {
                        "application/vnd.dataresource+json": {
                            "schema": {
                                "fields": [
                                    {
                                        "name": "(No column name)"
                                    }
                                ]
                            },
                            "data": [
                                {
                                    "0": "29620736"
                                }
                            ]
                        },
                        "text/html": "<table><tr><th>(No column name)</th></tr><tr><td>29620736</td></tr></table>"
                    }
                }
            ],
            "execution_count": 1
        },
        {
            "cell_type": "markdown",
            "source": "## Step 2: Use COUNT and DISTINCT first\r\nFind the number of distinct order ID values in the OrderHistoryExtended table. This table has somwhere around 29 million rows. One execution of this query may take a few seconds but what if we run it 10 times?",
            "metadata": {}
        },
        {
            "cell_type": "code",
            "source": "-- Step 2: Use COUNT and DISTINCT first. Do it 10 times to help see the performance difference\r\nSELECT COUNT(DISTINCT [WWI Order ID])\r\nFROM [Fact].[OrderHistoryExtended]\r\nGO",
            "metadata": {},
            "outputs": [
                {
                    "output_type": "display_data",
                    "data": {
                        "text/html": "(1 row affected)"
                    },
                    "metadata": {}
                },
                {
                    "output_type": "display_data",
                    "data": {
                        "text/html": "Total execution time: 00:00:06.5499056"
                    },
                    "metadata": {}
                },
                {
                    "output_type": "execute_result",
                    "metadata": {},
                    "execution_count": 2,
                    "data": {
                        "application/vnd.dataresource+json": {
                            "schema": {
                                "fields": [
                                    {
                                        "name": "(No column name)"
                                    }
                                ]
                            },
                            "data": [
                                {
                                    "0": "29620736"
                                }
                            ]
                        },
                        "text/html": "<table><tr><th>(No column name)</th></tr><tr><td>29620736</td></tr></table>"
                    }
                }
            ],
            "execution_count": 2
        },
        {
            "cell_type": "markdown",
            "source": "## Step 3: Now run the same query but use the new APPROX_COUNT_DISTINCT T-SQL function.\r\nThis function only requires SQL Server 2019 or higher. SQL Server has a 2% margin of error on the actual distinct count at a probabilty of 97%. For this table, that is +- 592,414 rows. You should see about a 2x+ faster performance from the same query 10 times",
            "metadata": {}
        },
        {
            "cell_type": "code",
            "source": "-- Step 5: Use the new APPROX_COUNT_DISTINCT function to compare values and performance\r\n-- We should be no more than 2% off the actual distinct value (97% probability)\r\nSELECT APPROX_COUNT_DISTINCT([WWI Order ID])\r\nFROM [Fact].[OrderHistoryExtended]\r\nGO",
            "metadata": {},
            "outputs": [
                {
                    "output_type": "display_data",
                    "data": {
                        "text/html": "(1 row affected)"
                    },
                    "metadata": {}
                },
                {
                    "output_type": "display_data",
                    "data": {
                        "text/html": "Total execution time: 00:00:02.1383592"
                    },
                    "metadata": {}
                },
                {
                    "output_type": "execute_result",
                    "metadata": {},
                    "execution_count": 3,
                    "data": {
                        "application/vnd.dataresource+json": {
                            "schema": {
                                "fields": [
                                    {
                                        "name": "(No column name)"
                                    }
                                ]
                            },
                            "data": [
                                {
                                    "0": "29852585"
                                }
                            ]
                        },
                        "text/html": "<table><tr><th>(No column name)</th></tr><tr><td>29852585</td></tr></table>"
                    }
                }
            ],
            "execution_count": 3
        },
        {
            "cell_type": "markdown",
            "source": "## Step 4: Restore dbcompat",
            "metadata": {}
        },
        {
            "cell_type": "code",
            "source": "-- Step 4: Restore database compatibility level\r\nALTER DATABASE WideWorldImportersDW SET COMPATIBILITY_LEVEL = 150\r\nGO",
            "metadata": {},
            "outputs": [
                {
                    "output_type": "display_data",
                    "data": {
                        "text/html": "Commands completed successfully."
                    },
                    "metadata": {}
                },
                {
                    "output_type": "display_data",
                    "data": {
                        "text/html": "Total execution time: 00:00:00.0091388"
                    },
                    "metadata": {}
                }
            ],
            "execution_count": 0
        }
    ]
}