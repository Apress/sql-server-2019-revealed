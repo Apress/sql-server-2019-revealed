{
    "metadata": {
        "kernelspec": {
            "name": "SQL",
            "display_name": "SQL",
            "language": "sql"
        },
        "language_info": {
            "name": "sql",
            "version": ""
        }
    },
    "nbformat_minor": 2,
    "nbformat": 4,
    "cells": [
        {
            "cell_type": "markdown",
            "source": "# Intelligent Query Processing\r\n## Table Variable Deferred Compilation\r\nTable Variable Deferred Compilation is an example of Intelligent Query Processing that can be enabled with database compatibility level 150 or higher. Follow the steps in this notebook to see the performance difference when table variable compilation is deferred to provide a better query plan.\r\n\r\n**Prerequisites**: Restore the WideWorldImportersDW full backup. Then run the **extendwwidw.sql** script to customize the database. If you have already done this, proceed to the next steps",
            "metadata": {}
        },
        {
            "cell_type": "markdown",
            "source": "## Step 1: Create a stored procedure with a table variable\r\nCreate a stored procedure that will calculate the top 10 orders in the system by price. Make it a fair comparison by warming the cache with the OrderHistoryExtended table.",
            "metadata": {}
        },
        {
            "cell_type": "code",
            "source": "-- Step 1: Create a stored procedure using a table variable to show the top 10 past orders by price\r\nUSE WideWorldImportersDW\r\nGO\r\nCREATE OR ALTER PROCEDURE Fact.OrderPrices\r\nAS\r\nBEGIN\r\nDECLARE @Order TABLE \r\n\t([Order Key] BIGINT NOT NULL,\r\n\t [Quantity] INT NOT NULL\r\n\t)\r\n\r\nINSERT @Order\r\nSELECT [Order Key], [Quantity]\r\nFROM [Fact].[OrderHistory]\r\n\r\n-- Look at estimated rows, speed, join algorithm\r\nSELECT top 10 oh.[Order Key], oh.[Order Date Key],oh.[Unit Price], o.Quantity\r\nFROM Fact.OrderHistoryExtended AS oh\r\nINNER JOIN @Order AS o\r\nON o.[Order Key] = oh.[Order Key]\r\nWHERE oh.[Unit Price] > 0.10\r\nORDER BY oh.[Unit Price] DESC\r\nEND\r\nGO",
            "metadata": {},
            "outputs": [
                {
                    "output_type": "display_data",
                    "data": {
                        "text/html": "Commands completed successfully."
                    },
                    "metadata": {}
                },
                {
                    "output_type": "display_data",
                    "data": {
                        "text/html": "Total execution time: 00:00:00.0015615"
                    },
                    "metadata": {}
                },
                {
                    "output_type": "display_data",
                    "data": {
                        "text/html": "Commands completed successfully."
                    },
                    "metadata": {}
                },
                {
                    "output_type": "display_data",
                    "data": {
                        "text/html": "Total execution time: 00:00:00.0272941"
                    },
                    "metadata": {}
                }
            ],
            "execution_count": 1
        },
        {
            "cell_type": "markdown",
            "source": "## Step 2: Change the database to legacy behavior\r\nChange to dbcompat 130 and clear the procedure cache",
            "metadata": {}
        },
        {
            "cell_type": "code",
            "source": "-- Step 2: Change WideWorldImportersDW to dbcompat 130 to see legacy behavior\r\nALTER DATABASE SCOPED CONFIGURATION CLEAR PROCEDURE_CACHE\r\nGO\r\nALTER DATABASE WideWorldImportersDW SET COMPATIBILITY_LEVEL = 130\r\nGO\r\nSELECT COUNT(*) FROM Fact.OrderHistoryExtended\r\nGO",
            "metadata": {},
            "outputs": [
                {
                    "output_type": "display_data",
                    "data": {
                        "text/html": "Commands completed successfully."
                    },
                    "metadata": {}
                },
                {
                    "output_type": "display_data",
                    "data": {
                        "text/html": "Total execution time: 00:00:00.0097917"
                    },
                    "metadata": {}
                },
                {
                    "output_type": "display_data",
                    "data": {
                        "text/html": "Commands completed successfully."
                    },
                    "metadata": {}
                },
                {
                    "output_type": "display_data",
                    "data": {
                        "text/html": "Total execution time: 00:00:00.0136308"
                    },
                    "metadata": {}
                },
                {
                    "output_type": "display_data",
                    "data": {
                        "text/html": "(1 row affected)"
                    },
                    "metadata": {}
                },
                {
                    "output_type": "display_data",
                    "data": {
                        "text/html": "Total execution time: 00:00:00.8205541"
                    },
                    "metadata": {}
                },
                {
                    "output_type": "execute_result",
                    "metadata": {},
                    "execution_count": 2,
                    "data": {
                        "application/vnd.dataresource+json": {
                            "schema": {
                                "fields": [
                                    {
                                        "name": "(No column name)"
                                    }
                                ]
                            },
                            "data": [
                                {
                                    "0": "29620736"
                                }
                            ]
                        },
                        "text/html": "<table><tr><th>(No column name)</th></tr><tr><td>29620736</td></tr></table>"
                    }
                }
            ],
            "execution_count": 2
        },
        {
            "cell_type": "markdown",
            "source": "## Step 3: Run the procedure a few times and check performance\r\nA single execution may be ok but what happens if you run it mulitple times. Any degradation of performance just feels worse.",
            "metadata": {}
        },
        {
            "cell_type": "code",
            "source": "-- Step 3: Run the Fact.OrderPrices procedure 3 times\r\nEXEC Fact.OrderPrices\r\nGO 3",
            "metadata": {},
            "outputs": [
                {
                    "output_type": "display_data",
                    "data": {
                        "text/html": "Beginning execution loop"
                    },
                    "metadata": {}
                },
                {
                    "output_type": "display_data",
                    "data": {
                        "text/html": "(3702592 rows affected)"
                    },
                    "metadata": {}
                },
                {
                    "output_type": "display_data",
                    "data": {
                        "text/html": "(10 rows affected)"
                    },
                    "metadata": {}
                },
                {
                    "output_type": "display_data",
                    "data": {
                        "text/html": "(3702592 rows affected)"
                    },
                    "metadata": {}
                },
                {
                    "output_type": "display_data",
                    "data": {
                        "text/html": "(10 rows affected)"
                    },
                    "metadata": {}
                },
                {
                    "output_type": "display_data",
                    "data": {
                        "text/html": "(3702592 rows affected)"
                    },
                    "metadata": {}
                },
                {
                    "output_type": "display_data",
                    "data": {
                        "text/html": "(10 rows affected)"
                    },
                    "metadata": {}
                },
                {
                    "output_type": "display_data",
                    "data": {
                        "text/html": "Batch execution completed 3 times..."
                    },
                    "metadata": {}
                },
                {
                    "output_type": "display_data",
                    "data": {
                        "text/html": "Total execution time: 00:01:28.8783119"
                    },
                    "metadata": {}
                },
                {
                    "output_type": "execute_result",
                    "metadata": {},
                    "execution_count": 3,
                    "data": {
                        "application/vnd.dataresource+json": {
                            "schema": {
                                "fields": [
                                    {
                                        "name": "Order Key"
                                    },
                                    {
                                        "name": "Order Date Key"
                                    },
                                    {
                                        "name": "Unit Price"
                                    },
                                    {
                                        "name": "Quantity"
                                    }
                                ]
                            },
                            "data": [
                                {
                                    "0": "3109626",
                                    "1": "2016-02-04",
                                    "2": "1899.00",
                                    "3": "1"
                                },
                                {
                                    "0": "1560766",
                                    "1": "2015-10-07",
                                    "2": "1899.00",
                                    "3": "1"
                                },
                                {
                                    "0": "2483890",
                                    "1": "2014-07-28",
                                    "2": "1899.00",
                                    "3": "1"
                                },
                                {
                                    "0": "2434821",
                                    "1": "2014-05-21",
                                    "2": "1899.00",
                                    "3": "1"
                                },
                                {
                                    "0": "2776661",
                                    "1": "2015-09-22",
                                    "2": "1899.00",
                                    "3": "1"
                                },
                                {
                                    "0": "2395284",
                                    "1": "2013-12-21",
                                    "2": "1899.00",
                                    "3": "1"
                                },
                                {
                                    "0": "3389382",
                                    "1": "2013-11-12",
                                    "2": "1899.00",
                                    "3": "1"
                                },
                                {
                                    "0": "3616967",
                                    "1": "2015-05-05",
                                    "2": "1899.00",
                                    "3": "1"
                                },
                                {
                                    "0": "338621",
                                    "1": "2013-10-31",
                                    "2": "1899.00",
                                    "3": "1"
                                },
                                {
                                    "0": "541981",
                                    "1": "2015-09-21",
                                    "2": "1899.00",
                                    "3": "1"
                                }
                            ]
                        },
                        "text/html": "<table><tr><th>Order Key</th><th>Order Date Key</th><th>Unit Price</th><th>Quantity</th></tr><tr><td>3109626</td><td>2016-02-04</td><td>1899.00</td><td>1</td></tr><tr><td>1560766</td><td>2015-10-07</td><td>1899.00</td><td>1</td></tr><tr><td>2483890</td><td>2014-07-28</td><td>1899.00</td><td>1</td></tr><tr><td>2434821</td><td>2014-05-21</td><td>1899.00</td><td>1</td></tr><tr><td>2776661</td><td>2015-09-22</td><td>1899.00</td><td>1</td></tr><tr><td>2395284</td><td>2013-12-21</td><td>1899.00</td><td>1</td></tr><tr><td>3389382</td><td>2013-11-12</td><td>1899.00</td><td>1</td></tr><tr><td>3616967</td><td>2015-05-05</td><td>1899.00</td><td>1</td></tr><tr><td>338621</td><td>2013-10-31</td><td>1899.00</td><td>1</td></tr><tr><td>541981</td><td>2015-09-21</td><td>1899.00</td><td>1</td></tr></table>"
                    }
                },
                {
                    "output_type": "execute_result",
                    "metadata": {},
                    "execution_count": 3,
                    "data": {
                        "application/vnd.dataresource+json": {
                            "schema": {
                                "fields": [
                                    {
                                        "name": "Order Key"
                                    },
                                    {
                                        "name": "Order Date Key"
                                    },
                                    {
                                        "name": "Unit Price"
                                    },
                                    {
                                        "name": "Quantity"
                                    }
                                ]
                            },
                            "data": [
                                {
                                    "0": "2445238",
                                    "1": "2016-02-04",
                                    "2": "1899.00",
                                    "3": "1"
                                },
                                {
                                    "0": "1118368",
                                    "1": "2015-05-05",
                                    "2": "1899.00",
                                    "3": "1"
                                },
                                {
                                    "0": "3336508",
                                    "1": "2015-07-30",
                                    "2": "1899.00",
                                    "3": "1"
                                },
                                {
                                    "0": "9560",
                                    "1": "2013-03-04",
                                    "2": "1899.00",
                                    "3": "1"
                                },
                                {
                                    "0": "138019",
                                    "1": "2015-02-23",
                                    "2": "1899.00",
                                    "3": "1"
                                },
                                {
                                    "0": "692897",
                                    "1": "2014-05-07",
                                    "2": "1899.00",
                                    "3": "1"
                                },
                                {
                                    "0": "794205",
                                    "1": "2013-09-30",
                                    "2": "1899.00",
                                    "3": "1"
                                },
                                {
                                    "0": "1457172",
                                    "1": "2014-08-21",
                                    "2": "1899.00",
                                    "3": "1"
                                },
                                {
                                    "0": "3346961",
                                    "1": "2013-12-21",
                                    "2": "1899.00",
                                    "3": "1"
                                },
                                {
                                    "0": "318597",
                                    "1": "2015-07-30",
                                    "2": "1899.00",
                                    "3": "1"
                                }
                            ]
                        },
                        "text/html": "<table><tr><th>Order Key</th><th>Order Date Key</th><th>Unit Price</th><th>Quantity</th></tr><tr><td>2445238</td><td>2016-02-04</td><td>1899.00</td><td>1</td></tr><tr><td>1118368</td><td>2015-05-05</td><td>1899.00</td><td>1</td></tr><tr><td>3336508</td><td>2015-07-30</td><td>1899.00</td><td>1</td></tr><tr><td>9560</td><td>2013-03-04</td><td>1899.00</td><td>1</td></tr><tr><td>138019</td><td>2015-02-23</td><td>1899.00</td><td>1</td></tr><tr><td>692897</td><td>2014-05-07</td><td>1899.00</td><td>1</td></tr><tr><td>794205</td><td>2013-09-30</td><td>1899.00</td><td>1</td></tr><tr><td>1457172</td><td>2014-08-21</td><td>1899.00</td><td>1</td></tr><tr><td>3346961</td><td>2013-12-21</td><td>1899.00</td><td>1</td></tr><tr><td>318597</td><td>2015-07-30</td><td>1899.00</td><td>1</td></tr></table>"
                    }
                },
                {
                    "output_type": "execute_result",
                    "metadata": {},
                    "execution_count": 3,
                    "data": {
                        "application/vnd.dataresource+json": {
                            "schema": {
                                "fields": [
                                    {
                                        "name": "Order Key"
                                    },
                                    {
                                        "name": "Order Date Key"
                                    },
                                    {
                                        "name": "Unit Price"
                                    },
                                    {
                                        "name": "Quantity"
                                    }
                                ]
                            },
                            "data": [
                                {
                                    "0": "2384839",
                                    "1": "2016-02-17",
                                    "2": "1899.00",
                                    "3": "1"
                                },
                                {
                                    "0": "1148161",
                                    "1": "2013-03-27",
                                    "2": "1899.00",
                                    "3": "1"
                                },
                                {
                                    "0": "85921",
                                    "1": "2014-05-16",
                                    "2": "1899.00",
                                    "3": "1"
                                },
                                {
                                    "0": "86819",
                                    "1": "2014-05-21",
                                    "2": "1899.00",
                                    "3": "1"
                                },
                                {
                                    "0": "1728777",
                                    "1": "2013-07-26",
                                    "2": "1899.00",
                                    "3": "1"
                                },
                                {
                                    "0": "1940365",
                                    "1": "2013-12-21",
                                    "2": "1899.00",
                                    "3": "1"
                                },
                                {
                                    "0": "2541198",
                                    "1": "2015-05-05",
                                    "2": "1899.00",
                                    "3": "1"
                                },
                                {
                                    "0": "2876730",
                                    "1": "2013-09-30",
                                    "2": "1899.00",
                                    "3": "1"
                                },
                                {
                                    "0": "2786228",
                                    "1": "2013-03-27",
                                    "2": "1899.00",
                                    "3": "1"
                                },
                                {
                                    "0": "3058258",
                                    "1": "2015-12-17",
                                    "2": "1899.00",
                                    "3": "1"
                                }
                            ]
                        },
                        "text/html": "<table><tr><th>Order Key</th><th>Order Date Key</th><th>Unit Price</th><th>Quantity</th></tr><tr><td>2384839</td><td>2016-02-17</td><td>1899.00</td><td>1</td></tr><tr><td>1148161</td><td>2013-03-27</td><td>1899.00</td><td>1</td></tr><tr><td>85921</td><td>2014-05-16</td><td>1899.00</td><td>1</td></tr><tr><td>86819</td><td>2014-05-21</td><td>1899.00</td><td>1</td></tr><tr><td>1728777</td><td>2013-07-26</td><td>1899.00</td><td>1</td></tr><tr><td>1940365</td><td>2013-12-21</td><td>1899.00</td><td>1</td></tr><tr><td>2541198</td><td>2015-05-05</td><td>1899.00</td><td>1</td></tr><tr><td>2876730</td><td>2013-09-30</td><td>1899.00</td><td>1</td></tr><tr><td>2786228</td><td>2013-03-27</td><td>1899.00</td><td>1</td></tr><tr><td>3058258</td><td>2015-12-17</td><td>1899.00</td><td>1</td></tr></table>"
                    }
                }
            ],
            "execution_count": 3
        },
        {
            "cell_type": "markdown",
            "source": "## Step 4: Change the database to enable Intelligent Query Processing\r\nChange to dbompcat 150 and clear the procedure cache to enable IQP and table variable deferred compilation",
            "metadata": {}
        },
        {
            "cell_type": "code",
            "source": "-- Step 4: Change WideWorldImportersDW to dbcompat 150 to see legacy behavior\r\nALTER DATABASE SCOPED CONFIGURATION CLEAR PROCEDURE_CACHE\r\nGO\r\nALTER DATABASE WideWorldImportersDW SET COMPATIBILITY_LEVEL = 150\r\nGO",
            "metadata": {},
            "outputs": [
                {
                    "output_type": "display_data",
                    "data": {
                        "text/html": "Commands completed successfully."
                    },
                    "metadata": {}
                },
                {
                    "output_type": "display_data",
                    "data": {
                        "text/html": "Total execution time: 00:00:00.0046530"
                    },
                    "metadata": {}
                },
                {
                    "output_type": "display_data",
                    "data": {
                        "text/html": "Commands completed successfully."
                    },
                    "metadata": {}
                },
                {
                    "output_type": "display_data",
                    "data": {
                        "text/html": "Total execution time: 00:00:00.0131408"
                    },
                    "metadata": {}
                }
            ],
            "execution_count": 4
        },
        {
            "cell_type": "markdown",
            "source": "## Step 5: Run the procedure again with IQP enabled\r\nLet's see if the procedure is any faster",
            "metadata": {}
        },
        {
            "cell_type": "code",
            "source": "-- Step 5: Is it any faster?\r\nEXEC Fact.OrderPrices\r\nGO 3",
            "metadata": {},
            "outputs": [
                {
                    "output_type": "display_data",
                    "data": {
                        "text/html": "Beginning execution loop"
                    },
                    "metadata": {}
                },
                {
                    "output_type": "display_data",
                    "data": {
                        "text/html": "(3702592 rows affected)"
                    },
                    "metadata": {}
                },
                {
                    "output_type": "display_data",
                    "data": {
                        "text/html": "(10 rows affected)"
                    },
                    "metadata": {}
                },
                {
                    "output_type": "display_data",
                    "data": {
                        "text/html": "(3702592 rows affected)"
                    },
                    "metadata": {}
                },
                {
                    "output_type": "display_data",
                    "data": {
                        "text/html": "(10 rows affected)"
                    },
                    "metadata": {}
                },
                {
                    "output_type": "display_data",
                    "data": {
                        "text/html": "(3702592 rows affected)"
                    },
                    "metadata": {}
                },
                {
                    "output_type": "display_data",
                    "data": {
                        "text/html": "(10 rows affected)"
                    },
                    "metadata": {}
                },
                {
                    "output_type": "display_data",
                    "data": {
                        "text/html": "Batch execution completed 3 times..."
                    },
                    "metadata": {}
                },
                {
                    "output_type": "display_data",
                    "data": {
                        "text/html": "Total execution time: 00:00:10.5549412"
                    },
                    "metadata": {}
                },
                {
                    "output_type": "execute_result",
                    "metadata": {},
                    "execution_count": 5,
                    "data": {
                        "application/vnd.dataresource+json": {
                            "schema": {
                                "fields": [
                                    {
                                        "name": "Order Key"
                                    },
                                    {
                                        "name": "Order Date Key"
                                    },
                                    {
                                        "name": "Unit Price"
                                    },
                                    {
                                        "name": "Quantity"
                                    }
                                ]
                            },
                            "data": [
                                {
                                    "0": "2488307",
                                    "1": "2015-07-25",
                                    "2": "1899.00",
                                    "3": "1"
                                },
                                {
                                    "0": "2488053",
                                    "1": "2014-04-18",
                                    "2": "1899.00",
                                    "3": "1"
                                },
                                {
                                    "0": "2525602",
                                    "1": "2013-07-19",
                                    "2": "1899.00",
                                    "3": "4"
                                },
                                {
                                    "0": "2524183",
                                    "1": "2016-04-26",
                                    "2": "1899.00",
                                    "3": "10"
                                },
                                {
                                    "0": "2525500",
                                    "1": "2013-06-24",
                                    "2": "1899.00",
                                    "3": "5"
                                },
                                {
                                    "0": "2487977",
                                    "1": "2014-03-28",
                                    "2": "1899.00",
                                    "3": "7"
                                },
                                {
                                    "0": "2488497",
                                    "1": "2015-09-08",
                                    "2": "1899.00",
                                    "3": "3"
                                },
                                {
                                    "0": "2488245",
                                    "1": "2014-05-09",
                                    "2": "1899.00",
                                    "3": "10"
                                },
                                {
                                    "0": "2488128",
                                    "1": "2014-05-02",
                                    "2": "1899.00",
                                    "3": "4"
                                },
                                {
                                    "0": "2487354",
                                    "1": "2014-02-05",
                                    "2": "1899.00",
                                    "3": "9"
                                }
                            ]
                        },
                        "text/html": "<table><tr><th>Order Key</th><th>Order Date Key</th><th>Unit Price</th><th>Quantity</th></tr><tr><td>2488307</td><td>2015-07-25</td><td>1899.00</td><td>1</td></tr><tr><td>2488053</td><td>2014-04-18</td><td>1899.00</td><td>1</td></tr><tr><td>2525602</td><td>2013-07-19</td><td>1899.00</td><td>4</td></tr><tr><td>2524183</td><td>2016-04-26</td><td>1899.00</td><td>10</td></tr><tr><td>2525500</td><td>2013-06-24</td><td>1899.00</td><td>5</td></tr><tr><td>2487977</td><td>2014-03-28</td><td>1899.00</td><td>7</td></tr><tr><td>2488497</td><td>2015-09-08</td><td>1899.00</td><td>3</td></tr><tr><td>2488245</td><td>2014-05-09</td><td>1899.00</td><td>10</td></tr><tr><td>2488128</td><td>2014-05-02</td><td>1899.00</td><td>4</td></tr><tr><td>2487354</td><td>2014-02-05</td><td>1899.00</td><td>9</td></tr></table>"
                    }
                },
                {
                    "output_type": "execute_result",
                    "metadata": {},
                    "execution_count": 5,
                    "data": {
                        "application/vnd.dataresource+json": {
                            "schema": {
                                "fields": [
                                    {
                                        "name": "Order Key"
                                    },
                                    {
                                        "name": "Order Date Key"
                                    },
                                    {
                                        "name": "Unit Price"
                                    },
                                    {
                                        "name": "Quantity"
                                    }
                                ]
                            },
                            "data": [
                                {
                                    "0": "2420632",
                                    "1": "2014-05-10",
                                    "2": "1899.00",
                                    "3": "3"
                                },
                                {
                                    "0": "2418809",
                                    "1": "2015-11-03",
                                    "2": "1899.00",
                                    "3": "6"
                                },
                                {
                                    "0": "2467712",
                                    "1": "2013-06-07",
                                    "2": "1899.00",
                                    "3": "3"
                                },
                                {
                                    "0": "2420714",
                                    "1": "2014-05-29",
                                    "2": "1899.00",
                                    "3": "6"
                                },
                                {
                                    "0": "2421938",
                                    "1": "2014-07-31",
                                    "2": "1899.00",
                                    "3": "2"
                                },
                                {
                                    "0": "2420155",
                                    "1": "2015-05-26",
                                    "2": "1899.00",
                                    "3": "5"
                                },
                                {
                                    "0": "2420647",
                                    "1": "2014-05-15",
                                    "2": "1899.00",
                                    "3": "2"
                                },
                                {
                                    "0": "2419056",
                                    "1": "2015-12-19",
                                    "2": "1899.00",
                                    "3": "5"
                                },
                                {
                                    "0": "2419132",
                                    "1": "2015-05-29",
                                    "2": "1899.00",
                                    "3": "6"
                                },
                                {
                                    "0": "2418867",
                                    "1": "2014-05-20",
                                    "2": "1899.00",
                                    "3": "6"
                                }
                            ]
                        },
                        "text/html": "<table><tr><th>Order Key</th><th>Order Date Key</th><th>Unit Price</th><th>Quantity</th></tr><tr><td>2420632</td><td>2014-05-10</td><td>1899.00</td><td>3</td></tr><tr><td>2418809</td><td>2015-11-03</td><td>1899.00</td><td>6</td></tr><tr><td>2467712</td><td>2013-06-07</td><td>1899.00</td><td>3</td></tr><tr><td>2420714</td><td>2014-05-29</td><td>1899.00</td><td>6</td></tr><tr><td>2421938</td><td>2014-07-31</td><td>1899.00</td><td>2</td></tr><tr><td>2420155</td><td>2015-05-26</td><td>1899.00</td><td>5</td></tr><tr><td>2420647</td><td>2014-05-15</td><td>1899.00</td><td>2</td></tr><tr><td>2419056</td><td>2015-12-19</td><td>1899.00</td><td>5</td></tr><tr><td>2419132</td><td>2015-05-29</td><td>1899.00</td><td>6</td></tr><tr><td>2418867</td><td>2014-05-20</td><td>1899.00</td><td>6</td></tr></table>"
                    }
                },
                {
                    "output_type": "execute_result",
                    "metadata": {},
                    "execution_count": 5,
                    "data": {
                        "application/vnd.dataresource+json": {
                            "schema": {
                                "fields": [
                                    {
                                        "name": "Order Key"
                                    },
                                    {
                                        "name": "Order Date Key"
                                    },
                                    {
                                        "name": "Unit Price"
                                    },
                                    {
                                        "name": "Quantity"
                                    }
                                ]
                            },
                            "data": [
                                {
                                    "0": "2488307",
                                    "1": "2015-07-25",
                                    "2": "1899.00",
                                    "3": "1"
                                },
                                {
                                    "0": "2488053",
                                    "1": "2014-04-18",
                                    "2": "1899.00",
                                    "3": "1"
                                },
                                {
                                    "0": "2525602",
                                    "1": "2013-07-19",
                                    "2": "1899.00",
                                    "3": "4"
                                },
                                {
                                    "0": "2524183",
                                    "1": "2016-04-26",
                                    "2": "1899.00",
                                    "3": "10"
                                },
                                {
                                    "0": "2525500",
                                    "1": "2013-06-24",
                                    "2": "1899.00",
                                    "3": "5"
                                },
                                {
                                    "0": "2487977",
                                    "1": "2014-03-28",
                                    "2": "1899.00",
                                    "3": "7"
                                },
                                {
                                    "0": "2488497",
                                    "1": "2015-09-08",
                                    "2": "1899.00",
                                    "3": "3"
                                },
                                {
                                    "0": "2488245",
                                    "1": "2014-05-09",
                                    "2": "1899.00",
                                    "3": "10"
                                },
                                {
                                    "0": "2488128",
                                    "1": "2014-05-02",
                                    "2": "1899.00",
                                    "3": "4"
                                },
                                {
                                    "0": "2487354",
                                    "1": "2014-02-05",
                                    "2": "1899.00",
                                    "3": "9"
                                }
                            ]
                        },
                        "text/html": "<table><tr><th>Order Key</th><th>Order Date Key</th><th>Unit Price</th><th>Quantity</th></tr><tr><td>2488307</td><td>2015-07-25</td><td>1899.00</td><td>1</td></tr><tr><td>2488053</td><td>2014-04-18</td><td>1899.00</td><td>1</td></tr><tr><td>2525602</td><td>2013-07-19</td><td>1899.00</td><td>4</td></tr><tr><td>2524183</td><td>2016-04-26</td><td>1899.00</td><td>10</td></tr><tr><td>2525500</td><td>2013-06-24</td><td>1899.00</td><td>5</td></tr><tr><td>2487977</td><td>2014-03-28</td><td>1899.00</td><td>7</td></tr><tr><td>2488497</td><td>2015-09-08</td><td>1899.00</td><td>3</td></tr><tr><td>2488245</td><td>2014-05-09</td><td>1899.00</td><td>10</td></tr><tr><td>2488128</td><td>2014-05-02</td><td>1899.00</td><td>4</td></tr><tr><td>2487354</td><td>2014-02-05</td><td>1899.00</td><td>9</td></tr></table>"
                    }
                }
            ],
            "execution_count": 5
        }
    ]
}