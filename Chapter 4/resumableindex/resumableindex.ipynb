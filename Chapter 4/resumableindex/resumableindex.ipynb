{
    "metadata": {
        "kernelspec": {
            "name": "SQL",
            "display_name": "SQL",
            "language": "sql"
        },
        "language_info": {
            "name": "sql",
            "version": ""
        }
    },
    "nbformat_minor": 2,
    "nbformat": 4,
    "cells": [
        {
            "cell_type": "markdown",
            "source": "# Resumable Index Creation in SQL Server 2019\r\nThis example will show you how to use resumable index builds in SQL Server 2019. This example includes all the steps you will need. You will need SQL Server 2019 Enterprise, Evaluation, or Developer Edition to complete this example",
            "metadata": {}
        },
        {
            "cell_type": "markdown",
            "source": "## Step 1: Setup the database\r\nUse these T-SQL statements to create the database for the example",
            "metadata": {}
        },
        {
            "cell_type": "code",
            "source": "USE master\r\nGO\r\nDROP DATABASE IF EXISTS gotexasrangers\r\nGO\r\nCREATE DATABASE gotexasrangers\r\nGO",
            "metadata": {},
            "outputs": [
                {
                    "output_type": "display_data",
                    "data": {
                        "text/html": "Commands completed successfully."
                    },
                    "metadata": {}
                },
                {
                    "output_type": "display_data",
                    "data": {
                        "text/html": "Commands completed successfully."
                    },
                    "metadata": {}
                },
                {
                    "output_type": "display_data",
                    "data": {
                        "text/html": "Commands completed successfully."
                    },
                    "metadata": {}
                },
                {
                    "output_type": "display_data",
                    "data": {
                        "text/html": "Total execution time: 00:00:00.272"
                    },
                    "metadata": {}
                }
            ],
            "execution_count": 3
        },
        {
            "cell_type": "markdown",
            "source": "## Step 2: Create the table and insert data\r\nUse these T-SQL statements to create a table and populate it with data<br>\r\nNOTE: This could take a long time to populate a big enough table.",
            "metadata": {}
        },
        {
            "cell_type": "code",
            "source": "USE gotexasrangers\r\nGO\r\nDROP TABLE IF EXISTS letsgorangers\r\nGO\r\nCREATE TABLE letsgorangers (col1 int, col2 char(7000) not null)\r\nGO\r\nSET NOCOUNT ON\r\nGO\r\nBEGIN TRAN\r\nGO\r\nINSERT INTO letsgorangers values (1, 'I would love to win the World Series')\r\nGO 750000\r\nCOMMIT TRAN\r\nGO\r\nSET NOCOUNT OFF\r\nGO",
            "metadata": {},
            "outputs": [
                {
                    "output_type": "display_data",
                    "data": {
                        "text/html": "Commands completed successfully."
                    },
                    "metadata": {}
                },
                {
                    "output_type": "display_data",
                    "data": {
                        "text/html": "Commands completed successfully."
                    },
                    "metadata": {}
                },
                {
                    "output_type": "display_data",
                    "data": {
                        "text/html": "Commands completed successfully."
                    },
                    "metadata": {}
                },
                {
                    "output_type": "display_data",
                    "data": {
                        "text/html": "Commands completed successfully."
                    },
                    "metadata": {}
                },
                {
                    "output_type": "display_data",
                    "data": {
                        "text/html": "Commands completed successfully."
                    },
                    "metadata": {}
                },
                {
                    "output_type": "display_data",
                    "data": {
                        "text/html": "Beginning execution loop"
                    },
                    "metadata": {}
                },
                {
                    "output_type": "display_data",
                    "data": {
                        "text/html": "Batch execution completed 750000 times..."
                    },
                    "metadata": {}
                },
                {
                    "output_type": "display_data",
                    "data": {
                        "text/html": "Commands completed successfully."
                    },
                    "metadata": {}
                },
                {
                    "output_type": "display_data",
                    "data": {
                        "text/html": "Commands completed successfully."
                    },
                    "metadata": {}
                },
                {
                    "output_type": "display_data",
                    "data": {
                        "text/html": "Total execution time: 00:09:27.453"
                    },
                    "metadata": {}
                }
            ],
            "execution_count": 4
        },
        {
            "cell_type": "markdown",
            "source": "## Step 3: Create an online resumable index\r\nUse the new feature for SQL Server 2019 to allow a CREATE INDEX to be online and resumable. Notice the use of the MAX_DURATION option of 1 minute. This means that the index will be PAUSED after 1 minute if has not completed. It will look like a failure but the index can be resumed at a later time.",
            "metadata": {}
        },
        {
            "cell_type": "code",
            "source": "CREATE CLUSTERED INDEX rangeridx ON letsgorangers (col1) WITH (ONLINE = ON, RESUMABLE = ON, MAX_DURATION = 1)\r\nGO",
            "metadata": {},
            "outputs": [
                {
                    "output_type": "error",
                    "evalue": "Msg 3643, Level 16, State 1, Line 1\r\nThe operation elapsed time exceeded the maximum time specified for this operation. The execution has been stopped.",
                    "ename": "",
                    "traceback": []
                },
                {
                    "output_type": "display_data",
                    "data": {
                        "text/html": "The statement has been terminated."
                    },
                    "metadata": {}
                },
                {
                    "output_type": "error",
                    "evalue": "Msg 596, Level 21, State 1, Line 0\r\nCannot continue the execution because the session is in the kill state.",
                    "ename": "",
                    "traceback": []
                },
                {
                    "output_type": "error",
                    "evalue": "Msg 0, Level 20, State 0, Line 0\r\nA severe error occurred on the current command.  The results, if any, should be discarded.",
                    "ename": "",
                    "traceback": []
                },
                {
                    "output_type": "display_data",
                    "data": {
                        "text/html": "Total execution time: 00:01:08.321"
                    },
                    "metadata": {}
                }
            ],
            "execution_count": 5
        },
        {
            "cell_type": "markdown",
            "source": "## Step 4: Check the progress of the paused index build using a DMV\r\nCheck the values. The index should be around 20-40% complete but PAUSED. Notice you have to change back to the right database context becasue the connection was terminated from the previous paused index.",
            "metadata": {}
        },
        {
            "cell_type": "code",
            "source": "USE gotexasrangers\r\nGO\r\nSELECT * FROM sys.index_resumable_operations\r\nGO",
            "metadata": {},
            "outputs": [
                {
                    "output_type": "display_data",
                    "data": {
                        "text/html": "Commands completed successfully."
                    },
                    "metadata": {}
                },
                {
                    "output_type": "display_data",
                    "data": {
                        "text/html": "(1 row affected)"
                    },
                    "metadata": {}
                },
                {
                    "output_type": "display_data",
                    "data": {
                        "text/html": "Total execution time: 00:00:00.203"
                    },
                    "metadata": {}
                },
                {
                    "output_type": "execute_result",
                    "metadata": {},
                    "execution_count": 6,
                    "data": {
                        "application/vnd.dataresource+json": {
                            "schema": {
                                "fields": [
                                    {
                                        "name": "object_id"
                                    },
                                    {
                                        "name": "index_id"
                                    },
                                    {
                                        "name": "name"
                                    },
                                    {
                                        "name": "sql_text"
                                    },
                                    {
                                        "name": "last_max_dop_used"
                                    },
                                    {
                                        "name": "partition_number"
                                    },
                                    {
                                        "name": "state"
                                    },
                                    {
                                        "name": "state_desc"
                                    },
                                    {
                                        "name": "start_time"
                                    },
                                    {
                                        "name": "last_pause_time"
                                    },
                                    {
                                        "name": "total_execution_time"
                                    },
                                    {
                                        "name": "percent_complete"
                                    },
                                    {
                                        "name": "page_count"
                                    }
                                ]
                            },
                            "data": [
                                {
                                    "0": "581577110",
                                    "1": "1",
                                    "2": "rangeridx",
                                    "3": "CREATE CLUSTERED INDEX rangeridx ON letsgorangers (col1) WITH (ONLINE = ON, RESUMABLE = ON, MAX_DURATION = 1)",
                                    "4": "0",
                                    "5": "NULL",
                                    "6": "1",
                                    "7": "PAUSED",
                                    "8": "2019-07-13 20:26:54.877",
                                    "9": "2019-07-13 20:27:41.303",
                                    "10": "1",
                                    "11": "26.6666666666667",
                                    "12": "0"
                                }
                            ]
                        },
                        "text/html": "<table><tr><th>object_id</th><th>index_id</th><th>name</th><th>sql_text</th><th>last_max_dop_used</th><th>partition_number</th><th>state</th><th>state_desc</th><th>start_time</th><th>last_pause_time</th><th>total_execution_time</th><th>percent_complete</th><th>page_count</th></tr><tr><td>581577110</td><td>1</td><td>rangeridx</td><td>CREATE CLUSTERED INDEX rangeridx ON letsgorangers (col1) WITH (ONLINE = ON, RESUMABLE = ON, MAX_DURATION = 1)</td><td>0</td><td>NULL</td><td>1</td><td>PAUSED</td><td>2019-07-13 20:26:54.877</td><td>2019-07-13 20:27:41.303</td><td>1</td><td>26.6666666666667</td><td>0</td></tr></table>"
                    }
                }
            ],
            "execution_count": 6
        },
        {
            "cell_type": "markdown",
            "source": "## Step 5: Resume the index build using ALTER INDEX\r\nLet this finish to complete building the index",
            "metadata": {}
        },
        {
            "cell_type": "code",
            "source": "ALTER INDEX rangeridx on letsgorangers RESUME\r\nGO",
            "metadata": {},
            "outputs": [
                {
                    "output_type": "display_data",
                    "data": {
                        "text/html": "Commands completed successfully."
                    },
                    "metadata": {}
                },
                {
                    "output_type": "display_data",
                    "data": {
                        "text/html": "Total execution time: 00:01:30.584"
                    },
                    "metadata": {}
                }
            ],
            "execution_count": 7
        },
        {
            "cell_type": "markdown",
            "source": "## Step 6: Drop the index and set the default database options\r\nDrop the existing index so we can try it another way. Set database default options for indexes to be automatically ONLINE and RESUMABLE should the index qualify for online and resumable.",
            "metadata": {}
        },
        {
            "cell_type": "code",
            "source": "USE gotexasrangers\r\nGO\r\nALTER DATABASE SCOPED CONFIGURATION SET ELEVATE_RESUMABLE = WHEN_SUPPORTED\r\nGO\r\nALTER DATABASE SCOPED CONFIGURATION SET ELEVATE_ONLINE = WHEN_SUPPORTED\r\nGO\r\nDROP INDEX IF EXISTS letsgorangers.rangeridx\r\nGO",
            "metadata": {},
            "outputs": [
                {
                    "output_type": "display_data",
                    "data": {
                        "text/html": "Commands completed successfully."
                    },
                    "metadata": {}
                },
                {
                    "output_type": "display_data",
                    "data": {
                        "text/html": "Commands completed successfully."
                    },
                    "metadata": {}
                },
                {
                    "output_type": "display_data",
                    "data": {
                        "text/html": "Commands completed successfully."
                    },
                    "metadata": {}
                },
                {
                    "output_type": "display_data",
                    "data": {
                        "text/html": "Commands completed successfully."
                    },
                    "metadata": {}
                },
                {
                    "output_type": "display_data",
                    "data": {
                        "text/html": "Total execution time: 00:00:47.358"
                    },
                    "metadata": {}
                }
            ],
            "execution_count": 8
        },
        {
            "cell_type": "markdown",
            "source": "## Step 7: Create the index again with no special options\r\nBecause you used the default database scoped configuration, the index will be created as ONLINE and RESUMABLE. **Hit the stop button for this cell after about 30 seconds**. This will PAUSE the index build.",
            "metadata": {}
        },
        {
            "cell_type": "code",
            "source": "CREATE CLUSTERED INDEX rangeridx ON letsgorangers (col1)\r\nGO",
            "metadata": {},
            "outputs": [
                {
                    "output_type": "display_data",
                    "data": {
                        "text/html": "The statement has been terminated."
                    },
                    "metadata": {}
                },
                {
                    "output_type": "display_data",
                    "data": {
                        "text/html": "Query was canceled by user"
                    },
                    "metadata": {}
                },
                {
                    "output_type": "display_data",
                    "data": {
                        "text/html": "Total execution time: 00:00:15.207"
                    },
                    "metadata": {}
                }
            ],
            "execution_count": 9
        },
        {
            "cell_type": "markdown",
            "source": "## Step 8: Check the progress of the index build",
            "metadata": {}
        },
        {
            "cell_type": "code",
            "source": "USE gotexasrangers\r\nGO\r\nSELECT * FROM sys.index_resumable_operations\r\nGO",
            "metadata": {},
            "outputs": [
                {
                    "output_type": "display_data",
                    "data": {
                        "text/html": "Commands completed successfully."
                    },
                    "metadata": {}
                },
                {
                    "output_type": "display_data",
                    "data": {
                        "text/html": "(1 row affected)"
                    },
                    "metadata": {}
                },
                {
                    "output_type": "display_data",
                    "data": {
                        "text/html": "Total execution time: 00:00:00.054"
                    },
                    "metadata": {}
                },
                {
                    "output_type": "execute_result",
                    "metadata": {},
                    "execution_count": 10,
                    "data": {
                        "application/vnd.dataresource+json": {
                            "schema": {
                                "fields": [
                                    {
                                        "name": "object_id"
                                    },
                                    {
                                        "name": "index_id"
                                    },
                                    {
                                        "name": "name"
                                    },
                                    {
                                        "name": "sql_text"
                                    },
                                    {
                                        "name": "last_max_dop_used"
                                    },
                                    {
                                        "name": "partition_number"
                                    },
                                    {
                                        "name": "state"
                                    },
                                    {
                                        "name": "state_desc"
                                    },
                                    {
                                        "name": "start_time"
                                    },
                                    {
                                        "name": "last_pause_time"
                                    },
                                    {
                                        "name": "total_execution_time"
                                    },
                                    {
                                        "name": "percent_complete"
                                    },
                                    {
                                        "name": "page_count"
                                    }
                                ]
                            },
                            "data": [
                                {
                                    "0": "581577110",
                                    "1": "1",
                                    "2": "rangeridx",
                                    "3": "CREATE CLUSTERED INDEX rangeridx ON letsgorangers (col1)",
                                    "4": "0",
                                    "5": "NULL",
                                    "6": "1",
                                    "7": "PAUSED",
                                    "8": "2019-07-13 20:30:54.797",
                                    "9": "2019-07-13 20:30:59.250",
                                    "10": "0",
                                    "11": "13.3333333333333",
                                    "12": "0"
                                }
                            ]
                        },
                        "text/html": "<table><tr><th>object_id</th><th>index_id</th><th>name</th><th>sql_text</th><th>last_max_dop_used</th><th>partition_number</th><th>state</th><th>state_desc</th><th>start_time</th><th>last_pause_time</th><th>total_execution_time</th><th>percent_complete</th><th>page_count</th></tr><tr><td>581577110</td><td>1</td><td>rangeridx</td><td>CREATE CLUSTERED INDEX rangeridx ON letsgorangers (col1)</td><td>0</td><td>NULL</td><td>1</td><td>PAUSED</td><td>2019-07-13 20:30:54.797</td><td>2019-07-13 20:30:59.250</td><td>0</td><td>13.3333333333333</td><td>0</td></tr></table>"
                    }
                }
            ],
            "execution_count": 10
        },
        {
            "cell_type": "markdown",
            "source": "## Step 9: Resume the index build",
            "metadata": {}
        },
        {
            "cell_type": "code",
            "source": "ALTER INDEX rangeridx on letsgorangers RESUME\r\nGO",
            "metadata": {},
            "outputs": [
                {
                    "output_type": "display_data",
                    "data": {
                        "text/html": "Commands completed successfully."
                    },
                    "metadata": {}
                },
                {
                    "output_type": "display_data",
                    "data": {
                        "text/html": "Total execution time: 00:01:59.035"
                    },
                    "metadata": {}
                }
            ],
            "execution_count": 11
        },
        {
            "cell_type": "markdown",
            "source": "",
            "metadata": {}
        }
    ]
}