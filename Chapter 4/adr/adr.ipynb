{
    "metadata": {
        "kernelspec": {
            "name": "SQL",
            "display_name": "SQL",
            "language": "sql"
        },
        "language_info": {
            "name": "sql",
            "version": ""
        }
    },
    "nbformat_minor": 2,
    "nbformat": 4,
    "cells": [
        {
            "cell_type": "markdown",
            "source": "# Accelerated Database Recovery - Fast rollback and log truncation\r\nIn this example you will see how fast rollback can now be with Accelerated Database Recovery. You will also see that a long active transaction does not affect the ability to truncate the transaction log.\r\n",
            "metadata": {}
        },
        {
            "cell_type": "markdown",
            "source": "## Step 1: Setup the database\r\nCreate a database and put a bunch of rows in a table. Make the database SIMPLE recovery to make it easier to analyze log truncation.\r\n\r\nThe database assumes a path for a standard SQL Server Window installation. The database and log are created at 10Gb each to avoid any autogrow.\r\n\r\n100,000 rows are created in the table to be able to show the different in log growth and rollback times.\r\n\r\n**Note**: *For Linux installations the default path to use is /var/opt/mssql*",
            "metadata": {}
        },
        {
            "cell_type": "code",
            "source": "USE master\r\nGO\r\nDROP DATABASE IF EXISTS gocowboys\r\nGO\r\nCREATE DATABASE gocowboys\r\nON PRIMARY\r\n(NAME = N'gocowboys_primary', FILENAME = 'C:\\Program Files\\Microsoft SQL Server\\MSSQL15.MSSQLSERVER\\MSSQL\\DATA\\gocowboys.mdf', SIZE = 10Gb , MAXSIZE = UNLIMITED, FILEGROWTH = 65536KB)\r\nLOG ON \r\n(NAME = N'gocowboys_Log', FILENAME = 'C:\\Program Files\\Microsoft SQL Server\\MSSQL15.MSSQLSERVER\\MSSQL\\DATA\\gocowboys_log.ldf', SIZE = 10Gb , MAXSIZE = UNLIMITED , FILEGROWTH = 65536KB)\r\nGO\r\nALTER DATABASE gocowboys SET RECOVERY SIMPLE\r\nGO\r\nUSE gocowboys\r\nGO\r\nDROP TABLE IF EXISTS howboutthemcowboys\r\nGO\r\nCREATE TABLE howboutthemcowboys (playerid int primary key clustered, playername char(7000) not null)\r\nGO\r\nSET NOCOUNT ON\r\nGO\r\nBEGIN TRAN\r\nDECLARE @x int\r\nSET @x = 0\r\nWHILE (@x < 100000)\r\nBEGIN\r\n\tINSERT INTO howboutthemcowboys VALUES (@x, 'Jason Whitten returns in 2019')\r\n\tSET @x = @x + 1\r\nEND\r\nCOMMIT TRAN\r\nGO\r\nSET NOCOUNT OFF\r\nGO\r\nUSE master\r\nGO",
            "metadata": {},
            "outputs": [
                {
                    "output_type": "display_data",
                    "data": {
                        "text/html": "Commands completed successfully."
                    },
                    "metadata": {}
                },
                {
                    "output_type": "display_data",
                    "data": {
                        "text/html": "Commands completed successfully."
                    },
                    "metadata": {}
                },
                {
                    "output_type": "display_data",
                    "data": {
                        "text/html": "Commands completed successfully."
                    },
                    "metadata": {}
                },
                {
                    "output_type": "display_data",
                    "data": {
                        "text/html": "Commands completed successfully."
                    },
                    "metadata": {}
                },
                {
                    "output_type": "display_data",
                    "data": {
                        "text/html": "Commands completed successfully."
                    },
                    "metadata": {}
                },
                {
                    "output_type": "display_data",
                    "data": {
                        "text/html": "Commands completed successfully."
                    },
                    "metadata": {}
                },
                {
                    "output_type": "display_data",
                    "data": {
                        "text/html": "Commands completed successfully."
                    },
                    "metadata": {}
                },
                {
                    "output_type": "display_data",
                    "data": {
                        "text/html": "Commands completed successfully."
                    },
                    "metadata": {}
                },
                {
                    "output_type": "display_data",
                    "data": {
                        "text/html": "Commands completed successfully."
                    },
                    "metadata": {}
                },
                {
                    "output_type": "display_data",
                    "data": {
                        "text/html": "Commands completed successfully."
                    },
                    "metadata": {}
                },
                {
                    "output_type": "display_data",
                    "data": {
                        "text/html": "Commands completed successfully."
                    },
                    "metadata": {}
                },
                {
                    "output_type": "display_data",
                    "data": {
                        "text/html": "Total execution time: 00:00:18.338"
                    },
                    "metadata": {}
                }
            ],
            "execution_count": 1
        },
        {
            "cell_type": "markdown",
            "source": "## Step 2: Delete all the rows in the table\r\nDelete all the rows in the table in a user defined transaction",
            "metadata": {}
        },
        {
            "cell_type": "code",
            "source": "USE master\r\nGO\r\nALTER DATABASE gocowboys SET ACCELERATED_DATABASE_RECOVERY = OFF\r\nGO\r\nUSE gocowboys\r\nGO\r\nBEGIN TRAN\r\nDELETE from howboutthemcowboys\r\nGO",
            "metadata": {},
            "outputs": [
                {
                    "output_type": "display_data",
                    "data": {
                        "text/html": "Commands completed successfully."
                    },
                    "metadata": {}
                },
                {
                    "output_type": "display_data",
                    "data": {
                        "text/html": "Commands completed successfully."
                    },
                    "metadata": {}
                },
                {
                    "output_type": "display_data",
                    "data": {
                        "text/html": "Commands completed successfully."
                    },
                    "metadata": {}
                },
                {
                    "output_type": "display_data",
                    "data": {
                        "text/html": "(100000 rows affected)"
                    },
                    "metadata": {}
                },
                {
                    "output_type": "display_data",
                    "data": {
                        "text/html": "Total execution time: 00:00:05.115"
                    },
                    "metadata": {}
                }
            ],
            "execution_count": 2
        },
        {
            "cell_type": "markdown",
            "source": "## Step 3: Check how much transaction log space is used\r\nBecause there is an active transaction the transaction log will have space used that cannot be truncated",
            "metadata": {}
        },
        {
            "cell_type": "code",
            "source": "SELECT * FROM sys.dm_db_log_space_usage\r\nGO",
            "metadata": {},
            "outputs": [
                {
                    "output_type": "display_data",
                    "data": {
                        "text/html": "(1 row affected)"
                    },
                    "metadata": {}
                },
                {
                    "output_type": "display_data",
                    "data": {
                        "text/html": "Total execution time: 00:00:00.115"
                    },
                    "metadata": {}
                },
                {
                    "output_type": "execute_result",
                    "execution_count": 3,
                    "data": {
                        "application/vnd.dataresource+json": {
                            "schema": {
                                "fields": [
                                    {
                                        "name": "database_id"
                                    },
                                    {
                                        "name": "total_log_size_in_bytes"
                                    },
                                    {
                                        "name": "used_log_space_in_bytes"
                                    },
                                    {
                                        "name": "used_log_space_in_percent"
                                    },
                                    {
                                        "name": "log_space_in_bytes_since_last_backup"
                                    }
                                ]
                            },
                            "data": [
                                {
                                    "0": "6",
                                    "1": "10737410048",
                                    "2": "4223672320",
                                    "3": "39.33604",
                                    "4": "1168621568"
                                }
                            ]
                        },
                        "text/html": "<table><tr><th>database_id</th><th>total_log_size_in_bytes</th><th>used_log_space_in_bytes</th><th>used_log_space_in_percent</th><th>log_space_in_bytes_since_last_backup</th></tr><tr><td>6</td><td>10737410048</td><td>4223672320</td><td>39.33604</td><td>1168621568</td></tr></table>"
                    },
                    "metadata": {}
                }
            ],
            "execution_count": 3
        },
        {
            "cell_type": "markdown",
            "source": "## Step 4: Does a checkpoint truncate the transaction log?\r\nCompare the used_log_space_in_percent to the value from the previous step. Normally for a database with simple recovery a CHECKPOINT would truncate the log.",
            "metadata": {}
        },
        {
            "cell_type": "code",
            "source": "CHECKPOINT\r\nGO\r\nSELECT * FROM sys.dm_db_log_space_usage\r\nGO",
            "metadata": {},
            "outputs": [
                {
                    "output_type": "display_data",
                    "data": {
                        "text/html": "Commands completed successfully."
                    },
                    "metadata": {}
                },
                {
                    "output_type": "display_data",
                    "data": {
                        "text/html": "(1 row affected)"
                    },
                    "metadata": {}
                },
                {
                    "output_type": "display_data",
                    "data": {
                        "text/html": "Total execution time: 00:00:00.205"
                    },
                    "metadata": {}
                },
                {
                    "output_type": "execute_result",
                    "execution_count": 4,
                    "data": {
                        "application/vnd.dataresource+json": {
                            "schema": {
                                "fields": [
                                    {
                                        "name": "database_id"
                                    },
                                    {
                                        "name": "total_log_size_in_bytes"
                                    },
                                    {
                                        "name": "used_log_space_in_bytes"
                                    },
                                    {
                                        "name": "used_log_space_in_percent"
                                    },
                                    {
                                        "name": "log_space_in_bytes_since_last_backup"
                                    }
                                ]
                            },
                            "data": [
                                {
                                    "0": "6",
                                    "1": "10737410048",
                                    "2": "4223750144",
                                    "3": "39.33677",
                                    "4": "1000026112"
                                }
                            ]
                        },
                        "text/html": "<table><tr><th>database_id</th><th>total_log_size_in_bytes</th><th>used_log_space_in_bytes</th><th>used_log_space_in_percent</th><th>log_space_in_bytes_since_last_backup</th></tr><tr><td>6</td><td>10737410048</td><td>4223750144</td><td>39.33677</td><td>1000026112</td></tr></table>"
                    },
                    "metadata": {}
                }
            ],
            "execution_count": 4
        },
        {
            "cell_type": "markdown",
            "source": "## Step 5: How long does it take to rollback all the deletes\r\nTry to rollback the transation and measure the time it takes",
            "metadata": {}
        },
        {
            "cell_type": "code",
            "source": "ROLLBACK TRAN\r\nGO",
            "metadata": {},
            "outputs": [
                {
                    "output_type": "display_data",
                    "data": {
                        "text/html": "Commands completed successfully."
                    },
                    "metadata": {}
                },
                {
                    "output_type": "display_data",
                    "data": {
                        "text/html": "Total execution time: 00:00:13.889"
                    },
                    "metadata": {}
                }
            ],
            "execution_count": 5
        },
        {
            "cell_type": "markdown",
            "source": "## Step 6: What is the log space usage after a CHECKPOINT\r\nBecause the active transaciton is rolled back, a CHECKPOINT will allow the log to be truncated.",
            "metadata": {}
        },
        {
            "cell_type": "code",
            "source": "CHECKPOINT\r\nGO\r\nSELECT * FROM sys.dm_db_log_space_usage\r\nGO",
            "metadata": {},
            "outputs": [
                {
                    "output_type": "display_data",
                    "data": {
                        "text/html": "Commands completed successfully."
                    },
                    "metadata": {}
                },
                {
                    "output_type": "display_data",
                    "data": {
                        "text/html": "(1 row affected)"
                    },
                    "metadata": {}
                },
                {
                    "output_type": "display_data",
                    "data": {
                        "text/html": "Total execution time: 00:00:00.894"
                    },
                    "metadata": {}
                },
                {
                    "output_type": "execute_result",
                    "execution_count": 6,
                    "data": {
                        "application/vnd.dataresource+json": {
                            "schema": {
                                "fields": [
                                    {
                                        "name": "database_id"
                                    },
                                    {
                                        "name": "total_log_size_in_bytes"
                                    },
                                    {
                                        "name": "used_log_space_in_bytes"
                                    },
                                    {
                                        "name": "used_log_space_in_percent"
                                    },
                                    {
                                        "name": "log_space_in_bytes_since_last_backup"
                                    }
                                ]
                            },
                            "data": [
                                {
                                    "0": "6",
                                    "1": "10737410048",
                                    "2": "65884160",
                                    "3": "0.6135945",
                                    "4": "81920"
                                }
                            ]
                        },
                        "text/html": "<table><tr><th>database_id</th><th>total_log_size_in_bytes</th><th>used_log_space_in_bytes</th><th>used_log_space_in_percent</th><th>log_space_in_bytes_since_last_backup</th></tr><tr><td>6</td><td>10737410048</td><td>65884160</td><td>0.6135945</td><td>81920</td></tr></table>"
                    },
                    "metadata": {}
                }
            ],
            "execution_count": 6
        },
        {
            "cell_type": "markdown",
            "source": "## Step 7: Turn on Accelerated Database Recovery",
            "metadata": {}
        },
        {
            "cell_type": "code",
            "source": "USE master\r\nGO\r\nALTER DATABASE gocowboys SET ACCELERATED_DATABASE_RECOVERY = ON\r\nGO",
            "metadata": {},
            "outputs": [
                {
                    "output_type": "display_data",
                    "data": {
                        "text/html": "Commands completed successfully."
                    },
                    "metadata": {}
                },
                {
                    "output_type": "display_data",
                    "data": {
                        "text/html": "Commands completed successfully."
                    },
                    "metadata": {}
                },
                {
                    "output_type": "display_data",
                    "data": {
                        "text/html": "Total execution time: 00:00:00.014"
                    },
                    "metadata": {}
                }
            ],
            "execution_count": 7
        },
        {
            "cell_type": "markdown",
            "source": "## Step 8: Try to delete all the rows again under a transaction",
            "metadata": {}
        },
        {
            "cell_type": "code",
            "source": "USE gocowboys\r\nGO\r\nBEGIN TRAN\r\nDELETE from howboutthemcowboys\r\nGO",
            "metadata": {},
            "outputs": [
                {
                    "output_type": "display_data",
                    "data": {
                        "text/html": "Commands completed successfully."
                    },
                    "metadata": {}
                },
                {
                    "output_type": "display_data",
                    "data": {
                        "text/html": "(100000 rows affected)"
                    },
                    "metadata": {}
                },
                {
                    "output_type": "display_data",
                    "data": {
                        "text/html": "Total execution time: 00:00:01.655"
                    },
                    "metadata": {}
                }
            ],
            "execution_count": 8
        },
        {
            "cell_type": "markdown",
            "source": "## Step 9: Check log space usage before and after a CHECKPOINT\r\nNotice the space used for the log is low even before the CHECKPOINT. This is because an active transaction does not affect log truncation when using Accelerated Database Recovery.",
            "metadata": {}
        },
        {
            "cell_type": "code",
            "source": "SELECT * FROM sys.dm_db_log_space_usage\r\nGO\r\nCHECKPOINT\r\nGO\r\nSELECT * FROM sys.dm_db_log_space_usage\r\nGO",
            "metadata": {},
            "outputs": [
                {
                    "output_type": "display_data",
                    "data": {
                        "text/html": "(1 row affected)"
                    },
                    "metadata": {}
                },
                {
                    "output_type": "execute_result",
                    "execution_count": 9,
                    "data": {
                        "application/vnd.dataresource+json": {
                            "schema": {
                                "fields": [
                                    {
                                        "name": "database_id"
                                    },
                                    {
                                        "name": "total_log_size_in_bytes"
                                    },
                                    {
                                        "name": "used_log_space_in_bytes"
                                    },
                                    {
                                        "name": "used_log_space_in_percent"
                                    },
                                    {
                                        "name": "log_space_in_bytes_since_last_backup"
                                    }
                                ]
                            },
                            "data": [
                                {
                                    "0": "6",
                                    "1": "10737410048",
                                    "2": "1056620544",
                                    "3": "9.840553",
                                    "4": "768172032"
                                }
                            ]
                        },
                        "text/html": "<table><tr><th>database_id</th><th>total_log_size_in_bytes</th><th>used_log_space_in_bytes</th><th>used_log_space_in_percent</th><th>log_space_in_bytes_since_last_backup</th></tr><tr><td>6</td><td>10737410048</td><td>1056620544</td><td>9.840553</td><td>768172032</td></tr></table>"
                    },
                    "metadata": {}
                },
                {
                    "output_type": "display_data",
                    "data": {
                        "text/html": "Commands completed successfully."
                    },
                    "metadata": {}
                },
                {
                    "output_type": "display_data",
                    "data": {
                        "text/html": "(1 row affected)"
                    },
                    "metadata": {}
                },
                {
                    "output_type": "display_data",
                    "data": {
                        "text/html": "Total execution time: 00:00:00.687"
                    },
                    "metadata": {}
                },
                {
                    "output_type": "execute_result",
                    "execution_count": 9,
                    "data": {
                        "application/vnd.dataresource+json": {
                            "schema": {
                                "fields": [
                                    {
                                        "name": "database_id"
                                    },
                                    {
                                        "name": "total_log_size_in_bytes"
                                    },
                                    {
                                        "name": "used_log_space_in_bytes"
                                    },
                                    {
                                        "name": "used_log_space_in_percent"
                                    },
                                    {
                                        "name": "log_space_in_bytes_since_last_backup"
                                    }
                                ]
                            },
                            "data": [
                                {
                                    "0": "6",
                                    "1": "10737410048",
                                    "2": "385695744",
                                    "3": "3.592074",
                                    "4": "131072"
                                }
                            ]
                        },
                        "text/html": "<table><tr><th>database_id</th><th>total_log_size_in_bytes</th><th>used_log_space_in_bytes</th><th>used_log_space_in_percent</th><th>log_space_in_bytes_since_last_backup</th></tr><tr><td>6</td><td>10737410048</td><td>385695744</td><td>3.592074</td><td>131072</td></tr></table>"
                    },
                    "metadata": {}
                }
            ],
            "execution_count": 9
        },
        {
            "cell_type": "markdown",
            "source": "## Step 10: How fast is a rollback?\r\nSee if a rollback is any faster with Acclerated Database Recovery",
            "metadata": {}
        },
        {
            "cell_type": "code",
            "source": "ROLLBACK TRAN\r\nGO",
            "metadata": {},
            "outputs": [
                {
                    "output_type": "display_data",
                    "data": {
                        "text/html": "Commands completed successfully."
                    },
                    "metadata": {}
                },
                {
                    "output_type": "display_data",
                    "data": {
                        "text/html": "Total execution time: 00:00:00.001"
                    },
                    "metadata": {}
                }
            ],
            "execution_count": 10
        }
    ]
}